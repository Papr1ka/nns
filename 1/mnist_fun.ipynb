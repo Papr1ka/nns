{
 "cells": [
  {
   "cell_type": "markdown",
   "metadata": {},
   "source": [
    "### Обучение автоэнкодера MNIST обратным распостранением с оптимизатором\n"
   ]
  },
  {
   "cell_type": "code",
   "execution_count": null,
   "metadata": {},
   "outputs": [],
   "source": [
    "from typing import Callable, Tuple\n",
    "\n",
    "from keras.datasets import mnist\n",
    "\n",
    "from math import ceil\n",
    "from matplotlib import pyplot as plt\n",
    "import numpy as np\n",
    "\n",
    "import sklearn.datasets\n",
    "import sklearn.preprocessing\n",
    "import sklearn.metrics\n",
    "\n",
    "from tqdm import tqdm\n",
    "\n",
    "type Nums = np.ndarray[np.number]\n",
    "type NumsToNums = Callable[[Nums], Nums]\n",
    "type NumsNumsToNums = Callable[[Nums, Nums], Nums]\n",
    "\n",
    "np.set_printoptions(formatter={\"float\": lambda x: \"{0:0.3f}\".format(x)})"
   ]
  },
  {
   "cell_type": "markdown",
   "metadata": {},
   "source": [
    "Загрузка датасета и предобработка датасета\n"
   ]
  },
  {
   "cell_type": "code",
   "execution_count": 88,
   "metadata": {},
   "outputs": [
    {
     "data": {
      "text/plain": [
       "((60000, 784), (60000,))"
      ]
     },
     "execution_count": 88,
     "metadata": {},
     "output_type": "execute_result"
    }
   ],
   "source": [
    "(train_x, train_y), (test_x, test_y) = mnist.load_data()\n",
    "\n",
    "train_x = train_x / 255\n",
    "test_x = test_x / 255\n",
    "\n",
    "train_x.resize(60000, 784)\n",
    "test_x.resize(10000, 784)\n",
    "\n",
    "train_x.shape, train_y.shape"
   ]
  },
  {
   "cell_type": "code",
   "execution_count": 89,
   "metadata": {},
   "outputs": [],
   "source": [
    "digit_to_autoencoded_mapping = {\n",
    "    0: [\n",
    "        [1, 1, 1],\n",
    "        [1, 0, 1],\n",
    "        [1, 0, 1],\n",
    "        [1, 0, 1],\n",
    "        [1, 1, 1],\n",
    "    ],\n",
    "    1: [[0, 0, 1], [0, 0, 1], [0, 0, 1], [0, 0, 1], [0, 0, 1]],\n",
    "    2: [[1, 1, 1], [0, 0, 1], [1, 1, 1], [1, 0, 0], [1, 1, 1]],\n",
    "    3: [[1, 1, 1], [0, 0, 1], [1, 1, 1], [0, 0, 1], [1, 1, 1]],\n",
    "    4: [[1, 0, 1], [1, 0, 1], [1, 1, 1], [0, 0, 1], [0, 0, 1]],\n",
    "    5: [[1, 1, 1], [1, 0, 0], [1, 1, 1], [0, 0, 1], [1, 1, 1]],\n",
    "    6: [[1, 1, 1], [1, 0, 0], [1, 1, 1], [1, 0, 1], [1, 1, 1]],\n",
    "    7: [[1, 1, 1], [0, 0, 1], [0, 0, 1], [0, 0, 1], [0, 0, 1]],\n",
    "    8: [[1, 1, 1], [1, 0, 1], [1, 1, 1], [1, 0, 1], [1, 1, 1]],\n",
    "    9: [[1, 1, 1], [1, 0, 1], [1, 1, 1], [0, 0, 1], [1, 1, 1]],\n",
    "}\n",
    "\n",
    "\n",
    "def gen_new_y(ys):\n",
    "    new_ys = []\n",
    "    for y in ys:\n",
    "        a = np.zeros((7, 5))\n",
    "        a[1:-1, 1:-1] = np.array(digit_to_autoencoded_mapping[y])\n",
    "        new_ys.append(a)\n",
    "    return np.array(new_ys)\n",
    "\n",
    "train_y_autoencoded = gen_new_y(train_y).reshape((60000, 7 * 5))\n",
    "test_y_autoencoded = gen_new_y(test_y).reshape((10000, 7 * 5))"
   ]
  },
  {
   "cell_type": "code",
   "execution_count": 90,
   "metadata": {},
   "outputs": [
    {
     "data": {
      "image/png": "[encoded data removed]",
      "text/plain": [
       "<Figure size 640x480 with 1 Axes>"
      ]
     },
     "metadata": {},
     "output_type": "display_data"
    }
   ],
   "source": [
    "fig = plt.figure\n",
    "plt.imshow(train_y_autoencoded[0].reshape((7, 5)), cmap='gray')\n",
    "plt.show()"
   ]
  },
  {
   "cell_type": "markdown",
   "metadata": {},
   "source": [
    "Реализуем необходимые функции активации нейроной для наших будущих слоёв\n"
   ]
  },
  {
   "cell_type": "code",
   "execution_count": 91,
   "metadata": {},
   "outputs": [],
   "source": [
    "def relu(x: Nums):\n",
    "    return x * (x > 0)\n",
    "\n",
    "\n",
    "def drelu(x: Nums):\n",
    "    # производная функции relu\n",
    "    return x > 0\n",
    "\n",
    "\n",
    "def sigmoid(x: Nums):\n",
    "    return 1 / (1 + np.exp(-x))\n",
    "\n",
    "\n",
    "def dsigmoid(x: Nums):\n",
    "    s = sigmoid(x)\n",
    "    return s * (1 - s)\n",
    "\n",
    "\n",
    "def softmax(x: Nums):\n",
    "    e_x = np.exp(x)\n",
    "    sm = np.sum(e_x)\n",
    "    return e_x / sm\n",
    "\n",
    "\n",
    "def cross_entropy(pred: Nums, expected: Nums):\n",
    "    # z - предсказанное, y - ожидаемое\n",
    "    return -np.sum(expected * np.log(pred))\n",
    "\n",
    "\n",
    "def error_function(pred: Nums, expected: Nums):\n",
    "    # Получаем ошибку для последнего слоя нейросети\n",
    "    return pred - expected"
   ]
  },
  {
   "cell_type": "code",
   "execution_count": 92,
   "metadata": {},
   "outputs": [],
   "source": [
    "class OptimizerBase:\n",
    "    def init_params(self, weights: Nums, bias: Nums):\n",
    "        raise NotImplemented(\"init_params not implemented\")\n",
    "    \n",
    "    def step(self, weights: Nums, bias: Nums, learning_rate: float, de_dW: Nums, de_dB: Nums) -> None:\n",
    "        raise NotImplemented(\"step not implemented\")"
   ]
  },
  {
   "cell_type": "code",
   "execution_count": 93,
   "metadata": {},
   "outputs": [],
   "source": [
    "class NoOptimizer(OptimizerBase):\n",
    "    def __init__(self, *args) -> None:\n",
    "        pass\n",
    "\n",
    "    def init_params(self, *args):\n",
    "        pass\n",
    "\n",
    "    def step(self, weights, bias, learning_rate: float, de_dW, de_dB) -> None:\n",
    "        weights -= learning_rate * de_dW\n",
    "        bias -= learning_rate * de_dB"
   ]
  },
  {
   "cell_type": "code",
   "execution_count": 94,
   "metadata": {},
   "outputs": [],
   "source": [
    "class ImpulseOptimizer(OptimizerBase):\n",
    "    def __init__(self, beta: float) -> None:\n",
    "        self.beta = beta\n",
    "\n",
    "    def init_params(self, weights: Nums, bias: Nums):\n",
    "        self.v_dW = np.zeros_like(weights)\n",
    "        self.v_dB = np.zeros_like(bias)\n",
    "\n",
    "    def step(self, weights: Nums, bias: Nums, learning_rate: float, de_dW: Nums, de_dB: Nums) -> None:\n",
    "        self.v_dW = self.beta * self.v_dW + (1 - self.beta) * de_dW\n",
    "        self.v_dB = self.beta * self.v_dB + (1 - self.beta) * de_dB\n",
    "        weights -= learning_rate * self.v_dW\n",
    "        bias -= learning_rate * self.v_dB"
   ]
  },
  {
   "cell_type": "code",
   "execution_count": 95,
   "metadata": {},
   "outputs": [],
   "source": [
    "class RMSPropOptimizer(OptimizerBase):\n",
    "    def __init__(self, beta: float) -> None:\n",
    "        self.beta = beta\n",
    "    \n",
    "    def init_params(self, weights: Nums, bias: Nums):\n",
    "        self.v_dW = np.zeros_like(weights)\n",
    "        self.v_dB = np.zeros_like(bias)\n",
    "\n",
    "    def step(self, weights: Nums, bias: Nums, learning_rate: float, de_dW: Nums, de_dB: Nums) -> None:\n",
    "        self.v_dW = self.beta * self.v_dW + (1 - self.beta) * np.square(de_dW)\n",
    "        self.v_dB = self.beta * self.v_dB + (1 - self.beta) * np.square(de_dB)\n",
    "        weights -= learning_rate * de_dW / (np.sqrt(self.v_dW) + 1e-4)\n",
    "        bias -= learning_rate * de_dB / (np.sqrt(self.v_dB) + 1e-4)"
   ]
  },
  {
   "cell_type": "code",
   "execution_count": 96,
   "metadata": {},
   "outputs": [],
   "source": [
    "class AdamOptimizer(OptimizerBase):\n",
    "    def __init__(self, beta1: float, beta2: float) -> None:\n",
    "        self.beta1 = beta1\n",
    "        self.beta2 = beta2\n",
    "        self.t = 1\n",
    "\n",
    "    def init_params(self, weights: Nums, bias: Nums):\n",
    "        self.v_dW = np.zeros_like(weights)\n",
    "        self.v_dB = np.zeros_like(bias)\n",
    "\n",
    "        self.s_dW = np.zeros_like(weights)\n",
    "        self.s_dB = np.zeros_like(bias)\n",
    "\n",
    "    def step(self, weights: Nums, bias: Nums, learning_rate: float, de_dW: Nums, de_dB: Nums) -> None:\n",
    "        self.v_dW = self.beta1 * self.v_dW + (1 - self.beta1) * de_dW\n",
    "        self.v_dB = self.beta1 * self.v_dB + (1 - self.beta1) * de_dB\n",
    "\n",
    "        v_dW_corrected = self.v_dW / (1 - np.power(self.beta1, self.t))\n",
    "        v_dB_corrected = self.v_dB / (1 - np.power(self.beta1, self.t))\n",
    "\n",
    "        self.s_dW = self.beta2 * self.s_dW + (1 - self.beta2) * np.square(de_dW)\n",
    "        self.s_dB = self.beta2 * self.s_dB + (1 - self.beta2) * np.square(de_dB)\n",
    "\n",
    "        s_dW_corrected = self.s_dW / (1 - np.power(self.beta2, self.t))\n",
    "        s_dB_corrected = self.s_dB / (1 - np.power(self.beta2, self.t))\n",
    "\n",
    "        weights -= learning_rate * v_dW_corrected / np.sqrt(s_dW_corrected + 1e-8)\n",
    "        bias -= learning_rate * v_dB_corrected / np.sqrt(s_dB_corrected + 1e-8)\n",
    "        self.t += 1"
   ]
  },
  {
   "cell_type": "markdown",
   "metadata": {},
   "source": [
    "Реализуем универсальный класс для линейного слоя\n"
   ]
  },
  {
   "cell_type": "code",
   "execution_count": 97,
   "metadata": {},
   "outputs": [],
   "source": [
    "class Layer:\n",
    "    \"\"\"\n",
    "    Реализует линейный слой в многослойном перцептроне\n",
    "\n",
    "    input_size: int - количество входных нейронов\n",
    "    output_size: int - количество выходных нейронов\n",
    "    weights: np.ndarray[np.number] - веса слоя\n",
    "    bias: np.ndarray[np.number] - смещения\n",
    "\n",
    "    self.activation_function: NumsToNums - функция активации слоя\n",
    "    self.activation_function_derivation: NumsToNums - производная функции активации слоя\n",
    "    \"\"\"\n",
    "\n",
    "    def __init__(\n",
    "        self,\n",
    "        input_size: int,\n",
    "        output_size: int,\n",
    "        activation_function: Tuple[\n",
    "            NumsToNums,\n",
    "            NumsToNums,\n",
    "        ],\n",
    "        weights_initialize_function: Callable[[Tuple[int, int]], Nums] = None,\n",
    "    ) -> None:\n",
    "        \"\"\"\n",
    "        Args:\n",
    "            input_size (int): размерность входных данных слоя\n",
    "            output_size (int): размерность выходных данных слоя\n",
    "            activation_function (NumsToNums, NumsToNums): кортеж из функции активации и её производной\n",
    "            weights_initialize_function (Callable[[Tuple[int, int]], Nums]): функция инициализации весов,\n",
    "            принимает кортеж shape\n",
    "        \"\"\"\n",
    "        self.input_size = input_size\n",
    "        self.output_size = output_size\n",
    "        if weights_initialize_function is None:\n",
    "            weights_initialize_function = np.random.random\n",
    "\n",
    "        self.weights = weights_initialize_function((input_size, output_size))\n",
    "        self.bias = weights_initialize_function((1, output_size))\n",
    "        self.activation_function = activation_function[0]\n",
    "        self.activation_function_derivation = activation_function[1]\n",
    "\n",
    "        # Значения x и t, фиксируемые при forward, нужны для вычисления ошибки\n",
    "        self._xt = ()\n",
    "        \"\"\"\n",
    "        Контейнеры для хранения вычисленных ошибок для весов и смещений\n",
    "        Необходимы для того, чтобы можно было обучать батчами\n",
    "        \n",
    "        В батче, для каждого примера необходимо вызвать forward и backward.\n",
    "        В конце батча, для модификации весов, необходимо вызвать update\n",
    "        _errors_log будет очищен\n",
    "        \"\"\"\n",
    "        self._errors_log = ([], [])\n",
    "\n",
    "    def forward(self, x: Nums) -> Nums:\n",
    "        # линейное преобразование\n",
    "        t = x @ self.weights + self.bias\n",
    "        # нелинейное преобразование\n",
    "        h = self.activation_function(t)\n",
    "\n",
    "        # Записываем значения, необходимые для вычисления ошибки\n",
    "        self._xt = (x, t)\n",
    "        return h\n",
    "\n",
    "    def backward(self, error: Nums) -> Nums:\n",
    "        \"\"\"\n",
    "        Обратное распространение ошибки\n",
    "        Запоминает производные ошибки, но не изменяет параметры модели\n",
    "        Для изменения нужно вызвать update\n",
    "        \"\"\"\n",
    "        x, t = self._xt\n",
    "        self._xt = ()\n",
    "\n",
    "        de_dT = error * self.activation_function_derivation(t)\n",
    "        de_dW = x.T @ de_dT\n",
    "        de_dB = de_dT\n",
    "        de_dX = de_dT @ self.weights.T\n",
    "        self._errors_log[0].append(de_dW)\n",
    "        self._errors_log[1].append(de_dB)\n",
    "        return de_dX\n",
    "\n",
    "    def update(self, learning_rate: float):\n",
    "        \"\"\"\n",
    "        Модифицирует веса модели\n",
    "        learning_rate: float, [0, 1] - на сколько сильно модель будет реагировать на ошибку\n",
    "        \"\"\"\n",
    "        de_dWs, de_dBs = self._errors_log\n",
    "        de_dW = np.sum(de_dWs, axis=0)\n",
    "        de_dB = np.sum(de_dBs, axis=0)\n",
    "\n",
    "        self.optimizer.step(self.weights, self.bias, learning_rate, de_dW, de_dB)\n",
    "\n",
    "        self._errors_log = ([], [])\n",
    "\n",
    "    def set_optimizer(self, optimizer: OptimizerBase):\n",
    "        optimizer.init_params(self.weights, self.bias)\n",
    "        self.optimizer = optimizer\n",
    "\n",
    "    def __repr__(self) -> str:\n",
    "        return f\"<LinearLayer, {self.input_size}x{self.output_size}>\""
   ]
  },
  {
   "cell_type": "markdown",
   "metadata": {},
   "source": [
    "Соответственно и общий класс для перцептрона с обучением по батчам\n"
   ]
  },
  {
   "cell_type": "code",
   "execution_count": 98,
   "metadata": {},
   "outputs": [],
   "source": [
    "from typing import Any\n",
    "\n",
    "\n",
    "class NN:\n",
    "    \"\"\"\n",
    "    Полносвязная многослойная нейронная сеть\n",
    "    \"\"\"\n",
    "\n",
    "    def __init__(\n",
    "        self,\n",
    "        layers: list[Layer],\n",
    "        loss_function: NumsNumsToNums,\n",
    "        error_function: NumsNumsToNums,\n",
    "    ) -> None:\n",
    "        self.layers = layers\n",
    "        self.loss_function = loss_function  # Функция потерь\n",
    "        self.error_function = (\n",
    "            error_function  # Функция для получения ошибки для последнего слоя\n",
    "        )\n",
    "\n",
    "        # История значения loss_function, после train\n",
    "        self.losses = []\n",
    "        # Предсказания, полученные после train\n",
    "        self.predicted = []\n",
    "\n",
    "    def pop_loss(self, func: Callable[[Nums], Any]):\n",
    "        loss = func(self.losses)\n",
    "        self.losses.clear()\n",
    "        return loss\n",
    "\n",
    "    def forward(self, x: Nums) -> Nums:\n",
    "        \"\"\"\n",
    "        Прямое распространение сети\n",
    "        \"\"\"\n",
    "        current_x = x\n",
    "        for layer in self.layers:\n",
    "            current_x = layer.forward(current_x)\n",
    "\n",
    "        return current_x\n",
    "\n",
    "    def backward(self, error: Nums) -> Nums:\n",
    "        \"\"\"\n",
    "        Обратное распространение сети, не меняет веса\n",
    "        \"\"\"\n",
    "        current_error = error\n",
    "\n",
    "        # Для последнего слоя ошибку получаем в error_function\n",
    "        for layer in self.layers[::-1]:\n",
    "            current_error = layer.backward(current_error)\n",
    "\n",
    "        return current_error\n",
    "\n",
    "    def update(self, learning_rate):\n",
    "        \"\"\"\n",
    "        Модификация весов сети, все ошибки сохраняются в слои,\n",
    "        стоит лишь вызвать данную функцию после однократного\n",
    "        или серии применений (при batch) backward\n",
    "        \"\"\"\n",
    "        for layer in self.layers[::-1]:\n",
    "            layer.update(learning_rate)\n",
    "\n",
    "    def train(\n",
    "        self,\n",
    "        xs: Nums,\n",
    "        ys: Nums,\n",
    "        optimizer_factory: Callable[[], OptimizerBase],\n",
    "        learning_rate: float = 0.001,\n",
    "        batch_size: int = 10,\n",
    "    ):\n",
    "        \"\"\"\n",
    "        Обучение сети в рамках одной эпохи\n",
    "        \"\"\"\n",
    "        \n",
    "        # Инициализируем экземпляры оптимизатора для каждого слоя\n",
    "        for layer in self.layers:\n",
    "            layer.set_optimizer(optimizer_factory())\n",
    "\n",
    "        # Цикл по батчам, размера batch_size\n",
    "        for batch_index in range(ceil(len(xs) / batch_size)):\n",
    "            current_batch_slice = slice(\n",
    "                batch_index * batch_size, (batch_index + 1) * batch_size\n",
    "            )\n",
    "            batch_xs = xs[current_batch_slice]\n",
    "            batch_ys = ys[current_batch_slice]\n",
    "            batch_losses = []  # Loss-ы одного батча\n",
    "\n",
    "            for x, y in zip(batch_xs, batch_ys):\n",
    "                x = x[None, ...]  # Для правильных размерностей (1, n), а не (n,)\n",
    "                predict = self.forward(x)[0]\n",
    "                error = self.error_function(predict, y)\n",
    "\n",
    "                # Считаем ошибку\n",
    "                self.backward(error)\n",
    "\n",
    "                E = self.loss_function(predict, y)\n",
    "                self.predicted.append(predict)\n",
    "                batch_losses.append(E)\n",
    "\n",
    "            # Обновляем веса\n",
    "            self.update(learning_rate=learning_rate)\n",
    "\n",
    "            # Собираем статистику\n",
    "            batch_loss = np.sum(batch_losses)\n",
    "            batch_losses.clear()\n",
    "            self.losses.append(batch_loss)"
   ]
  },
  {
   "cell_type": "code",
   "execution_count": 99,
   "metadata": {},
   "outputs": [],
   "source": [
    "network = NN(\n",
    "    [\n",
    "        Layer(784, 64, (sigmoid, dsigmoid),\n",
    "            weights_initialize_function=lambda shape: np.random.random(shape) * 0.01,\n",
    "        ),\n",
    "        Layer(64, 35, (sigmoid, dsigmoid),\n",
    "            weights_initialize_function=lambda shape: np.random.random(shape) * 0.01,\n",
    "        ),\n",
    "    ],\n",
    "    loss_function=sklearn.metrics.root_mean_squared_error,\n",
    "    error_function=error_function,\n",
    ")\n",
    "\n",
    "loss_history = []"
   ]
  },
  {
   "cell_type": "markdown",
   "metadata": {},
   "source": [
    "Создадим экземпляр нашего перцептрона и обучим его\n"
   ]
  },
  {
   "cell_type": "code",
   "execution_count": 100,
   "metadata": {},
   "outputs": [
    {
     "name": "stderr",
     "output_type": "stream",
     "text": [
      "epoch: 50, loss: 0.9643686044: 100%|██████████| 50/50 [00:26<00:00,  1.86it/s]\n"
     ]
    }
   ],
   "source": [
    "def train(\n",
    "    network: NN,\n",
    "    x: Nums,\n",
    "    y: Nums,\n",
    "    num_epoches: int,\n",
    "    learning_rate: float,\n",
    "    batch_size: int,\n",
    "    loss_history: list\n",
    "):\n",
    "    bar = tqdm(range(1, num_epoches + 1), total=num_epoches)\n",
    "    xy_indices = np.arange(len(x))\n",
    "    for epoch in bar:\n",
    "        network.predicted.clear()\n",
    "        # В каждой эпохе изменим порядок обучающего датасета\n",
    "        np.random.shuffle(xy_indices)\n",
    "\n",
    "        # size - размер выборки для эпохи, ставлю 1000, чтобы быстрее видеть результат\n",
    "        indices = np.random.choice(len(xy_indices), size=1000, replace=False)\n",
    "\n",
    "        epoch_x = x[indices]\n",
    "        epoch_y = y[indices]\n",
    "        \n",
    "        network.train(\n",
    "            epoch_x,\n",
    "            epoch_y,\n",
    "            lambda: AdamOptimizer(0.4, 0.999),\n",
    "            learning_rate=learning_rate,\n",
    "            batch_size=batch_size,\n",
    "        )\n",
    "        \n",
    "        # Средний loss за эпоху\n",
    "        loss = network.pop_loss(np.mean)\n",
    "        loss_history.append(loss)\n",
    "\n",
    "        bar.set_description(\n",
    "            f\"epoch: {epoch}, loss: {loss:.10f}\"\n",
    "        )\n",
    "        network.losses.clear()\n",
    "    return loss_history\n",
    "\n",
    "\n",
    "loss_history = train(\n",
    "    network, train_x, train_y_autoencoded, 50, 0.005, 25, loss_history\n",
    ")"
   ]
  },
  {
   "cell_type": "code",
   "execution_count": 104,
   "metadata": {},
   "outputs": [
    {
     "data": {
      "image/png": "[encoded data removed]",
      "text/plain": [
       "<Figure size 640x480 with 1 Axes>"
      ]
     },
     "metadata": {},
     "output_type": "display_data"
    }
   ],
   "source": [
    "fig, ax = plt.subplots()\n",
    "\n",
    "ax.plot(loss_history)\n",
    "ax.set_xlabel(\"epoch\")\n",
    "ax.set_ylabel(\"loss\")\n",
    "ax.set_title(\"loss history\")\n",
    "plt.show()"
   ]
  },
  {
   "cell_type": "code",
   "execution_count": 105,
   "metadata": {},
   "outputs": [
    {
     "name": "stdout",
     "output_type": "stream",
     "text": [
      "RMSE на валидационной выборке: 0.036\n"
     ]
    }
   ],
   "source": [
    "pred_y = network.forward(test_x)\n",
    "true_y = test_y_autoencoded\n",
    "\n",
    "rmse = sklearn.metrics.root_mean_squared_error(true_y, pred_y)\n",
    "print(f\"RMSE на валидационной выборке: {rmse:.3f}\")"
   ]
  },
  {
   "cell_type": "code",
   "execution_count": 106,
   "metadata": {},
   "outputs": [
    {
     "data": {
      "image/png": "[encoded data removed]",
      "text/plain": [
       "<Figure size 1500x400 with 20 Axes>"
      ]
     },
     "metadata": {},
     "output_type": "display_data"
    }
   ],
   "source": [
    "# выбираем 10 цифр из датасета для показа\n",
    "slc = slice(0, 10)\n",
    "\n",
    "num_row = 2\n",
    "num_col = 10\n",
    "\n",
    "# изначальный вариант\n",
    "images1 = np.empty(10 * 784).reshape((10, 28, 28))\n",
    "images1[:10] = train_x[slc].reshape((10, 28, 28))\n",
    "\n",
    "# после кодировки\n",
    "images2 = np.empty(10 * 7 * 5).reshape((10, 7, 5))\n",
    "images2[:10] = network.forward(train_x[slc]).reshape((10, 7, 5))\n",
    "\n",
    "\n",
    "fig, axes = plt.subplots(num_row, num_col, figsize=(1.5 * num_col, 2 * num_row))\n",
    "for i in range(10):\n",
    "    ax = axes[i // num_col, i % num_col]\n",
    "    ax.imshow(images1[i], cmap=\"gray\")\n",
    "\n",
    "for i in range(10, 20):\n",
    "    ax = axes[i // num_col, i % num_col]\n",
    "    ax.imshow(images2[i - 10], cmap=\"gray\")\n",
    "\n",
    "plt.tight_layout()\n",
    "plt.show()"
   ]
  },
  {
   "cell_type": "markdown",
   "metadata": {},
   "source": [
    "Посмотрим на результат обучения на валидационной выборке\n"
   ]
  },
  {
   "cell_type": "markdown",
   "metadata": {},
   "source": [
    "Ура!\n"
   ]
  }
 ],
 "metadata": {
  "kernelspec": {
   "display_name": "all_ai",
   "language": "python",
   "name": "python3"
  },
  "language_info": {
   "codemirror_mode": {
    "name": "ipython",
    "version": 3
   },
   "file_extension": ".py",
   "mimetype": "text/x-python",
   "name": "python",
   "nbconvert_exporter": "python",
   "pygments_lexer": "ipython3",
   "version": "3.12.7"
  }
 },
 "nbformat": 4,
 "nbformat_minor": 2
}
