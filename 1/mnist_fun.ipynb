{
 "cells": [
  {
   "cell_type": "markdown",
   "metadata": {},
   "source": [
    "### Обучение обратным распостранением на основе датасета iris-ов"
   ]
  },
  {
   "cell_type": "code",
   "execution_count": 1,
   "metadata": {},
   "outputs": [],
   "source": [
    "import sklearn.datasets\n",
    "import sklearn.preprocessing\n",
    "from matplotlib import pyplot as plt\n",
    "import numpy as np\n",
    "from math import ceil\n",
    "from tqdm import tqdm\n",
    "import sklearn.metrics\n",
    "from sklearn.metrics import ConfusionMatrixDisplay\n",
    "\n",
    "np.set_printoptions(formatter={\"float\": lambda x: \"{0:0.3f}\".format(x)})"
   ]
  },
  {
   "cell_type": "markdown",
   "metadata": {},
   "source": [
    "Загрузка датасета"
   ]
  },
  {
   "cell_type": "code",
   "execution_count": 2,
   "metadata": {},
   "outputs": [
    {
     "name": "stderr",
     "output_type": "stream",
     "text": [
      "2024-11-25 15:30:11.798616: E external/local_xla/xla/stream_executor/cuda/cuda_fft.cc:477] Unable to register cuFFT factory: Attempting to register factory for plugin cuFFT when one has already been registered\n",
      "WARNING: All log messages before absl::InitializeLog() is called are written to STDERR\n",
      "E0000 00:00:1732537811.821975  161042 cuda_dnn.cc:8310] Unable to register cuDNN factory: Attempting to register factory for plugin cuDNN when one has already been registered\n",
      "E0000 00:00:1732537811.828874  161042 cuda_blas.cc:1418] Unable to register cuBLAS factory: Attempting to register factory for plugin cuBLAS when one has already been registered\n",
      "2024-11-25 15:30:11.851004: I tensorflow/core/platform/cpu_feature_guard.cc:210] This TensorFlow binary is optimized to use available CPU instructions in performance-critical operations.\n",
      "To enable the following instructions: AVX2 FMA, in other operations, rebuild TensorFlow with the appropriate compiler flags.\n"
     ]
    },
    {
     "data": {
      "text/plain": [
       "((60000, 784), (60000, 10))"
      ]
     },
     "execution_count": 2,
     "metadata": {},
     "output_type": "execute_result"
    }
   ],
   "source": [
    "from keras.datasets import mnist\n",
    "\n",
    "(train_x, train_y), (test_x, test_y) = mnist.load_data()\n",
    "\n",
    "train_x = (train_x / 255)\n",
    "test_x = (test_x / 255)\n",
    "\n",
    "train_x.resize(60000, 784)\n",
    "test_x.resize(10000, 784)\n",
    "\n",
    "encoder = sklearn.preprocessing.OneHotEncoder()\n",
    "train_y = encoder.fit_transform(train_y[:, None]).toarray()\n",
    "test_y = encoder.fit_transform(test_y[:, None]).toarray()\n",
    "\n",
    "train_x.shape, train_y.shape"
   ]
  },
  {
   "cell_type": "markdown",
   "metadata": {},
   "source": [
    "Реализуем необходимые функции активации нейроной для наших будущих слоёв"
   ]
  },
  {
   "cell_type": "code",
   "execution_count": 3,
   "metadata": {},
   "outputs": [],
   "source": [
    "from typing import Callable, Tuple\n",
    "\n",
    "type Nums = np.ndarray[np.number]\n",
    "type NumsToNums = Callable[[Nums], Nums]\n",
    "type NumsNumsToNums = Callable[[Nums, Nums], Nums]\n",
    "\n",
    "def relu(x: Nums):\n",
    "    return x * (x > 0)\n",
    "\n",
    "def drelu(x: Nums):\n",
    "    # производная функции relu\n",
    "    return (x > 0)\n",
    "\n",
    "def sigmoid(x: Nums):\n",
    "    return 1 / (1 + np.exp(-x))\n",
    "\n",
    "def dsigmoid(x: Nums):\n",
    "    s = sigmoid(x)\n",
    "    return s * (1 - s)\n",
    "\n",
    "def softmax(x: Nums):\n",
    "    e_x = np.exp(x)\n",
    "    sm = np.sum(e_x)\n",
    "    return e_x / sm\n",
    "\n",
    "def cross_entropy(z: Nums, y: Nums):\n",
    "    # z - предсказанное, y - ожидаемое\n",
    "    return -np.sum(y * np.log(z))\n",
    "\n",
    "def error_function(pred: Nums, expected: Nums):\n",
    "    # Получаем ошибку для последнего слоя нейросети\n",
    "    return pred - expected"
   ]
  },
  {
   "cell_type": "markdown",
   "metadata": {},
   "source": [
    "Реализуем универсальный класс для линейного слоя"
   ]
  },
  {
   "cell_type": "code",
   "execution_count": 4,
   "metadata": {},
   "outputs": [],
   "source": [
    "class Layer:\n",
    "    \"\"\"\n",
    "    Реализует линейный слой в многослойном перцептроне\n",
    "\n",
    "    input_size: int - количество входных нейронов\n",
    "    output_size: int - количество выходных нейронов\n",
    "    weights: np.ndarray[np.number] - веса слоя\n",
    "    bias: np.ndarray[np.number] - смещения\n",
    "    \n",
    "    self.activation_function: NumsToNums - функция активации слоя\n",
    "    self.activation_function_derivation: NumsToNums - производная функции активации слоя\n",
    "    \"\"\"\n",
    "\n",
    "    def __init__(\n",
    "        self,\n",
    "        input_size: int,\n",
    "        output_size: int,\n",
    "        activation_function: Tuple[\n",
    "                NumsToNums,\n",
    "                NumsToNums,\n",
    "            ],\n",
    "        weights_initialize_function: Callable[[Tuple[int, int]], Nums] = None\n",
    "    ) -> None:\n",
    "        \"\"\"\n",
    "        Args:\n",
    "            input_size (int): размерность входных данных слоя\n",
    "            output_size (int): размерность выходных данных слоя\n",
    "            activation_function (NumsToNums, NumsToNums): кортеж из функции активации и её производной\n",
    "            weights_initialize_function (Callable[[Tuple[int, int]], Nums]): функция инициализации весов,\n",
    "            принимает кортеж shape \n",
    "        \"\"\"\n",
    "        self.input_size = input_size\n",
    "        self.output_size = output_size\n",
    "        if weights_initialize_function is None:\n",
    "            weights_initialize_function = np.random.random\n",
    "        \n",
    "        self.weights = weights_initialize_function((input_size, output_size))\n",
    "        self.bias = weights_initialize_function((1, output_size))\n",
    "        self.activation_function = activation_function[0]\n",
    "        self.activation_function_derivation = activation_function[1]\n",
    "        \n",
    "        # Значения x и t, фиксируемые при forward, нужны для вычисления ошибки\n",
    "        self._xt = ()\n",
    "        \"\"\"\n",
    "        Контейнеры для хранения вычисленных ошибок для весов и смещений\n",
    "        Необходимы для того, чтобы можно было обучать батчами\n",
    "        \n",
    "        В батче, для каждого примера необходимо вызвать forward и backward.\n",
    "        В конце батча, для модификации весов, необходимо вызвать update\n",
    "        _errors_log будет очищен\n",
    "        \"\"\"\n",
    "        self._errors_log = ([], [])\n",
    "\n",
    "    def forward(self, x: Nums) -> Nums:\n",
    "        # линейное преобразование\n",
    "        t = x @ self.weights + self.bias\n",
    "        # нелинейное преобразование\n",
    "        h = self.activation_function(t)\n",
    "        \n",
    "        # Записываем значения, необходимые для вычисления ошибки\n",
    "        self._xt = (x, t)\n",
    "        return h\n",
    "\n",
    "    def backward(self, error: Nums) -> Nums:\n",
    "        \"\"\"\n",
    "        Обратное распространение ошибки\n",
    "        Запоминает производные ошибки, но не изменяет параметры модели\n",
    "        Для изменения нужно вызвать update\n",
    "        \"\"\"\n",
    "        x, t = self._xt\n",
    "        self._xt = ()\n",
    "        \n",
    "        de_dT = error * self.activation_function_derivation(t)\n",
    "        de_dW = x.T @ de_dT\n",
    "        de_dB = de_dT\n",
    "        de_dX = de_dT @ self.weights.T\n",
    "        self._errors_log[0].append(de_dW)\n",
    "        self._errors_log[1].append(de_dB)\n",
    "        return de_dX\n",
    "    \n",
    "    def update(self, learning_rate: float):\n",
    "        \"\"\"\n",
    "        Модифицирует веса модели\n",
    "        learning_rate: float, [0, 1] - на сколько сильно модель будет реагировать на ошибку\n",
    "        \"\"\"\n",
    "        de_dWs, de_dBs = self._errors_log\n",
    "        de_dW = np.sum(de_dWs, axis=0)\n",
    "        de_dB = np.sum(de_dBs, axis=0)\n",
    "        self.weights -= learning_rate * de_dW\n",
    "        self.bias -= learning_rate * de_dB\n",
    "        self._errors_log = ([], [])\n",
    "\n",
    "    def __repr__(self) -> str:\n",
    "        return f\"<LinearLayer, {self.input_size}x{self.output_size}>\""
   ]
  },
  {
   "cell_type": "markdown",
   "metadata": {},
   "source": [
    "Соответственно и общий класс для перцептрона с обучением по батчам"
   ]
  },
  {
   "cell_type": "code",
   "execution_count": 5,
   "metadata": {},
   "outputs": [],
   "source": [
    "from typing import Any\n",
    "\n",
    "\n",
    "class NN:\n",
    "    \"\"\"\n",
    "    Полносвязная многослойная нейронная сеть\n",
    "    \"\"\"\n",
    "    def __init__(\n",
    "        self,\n",
    "        layers: list[Layer],\n",
    "        loss_function: NumsNumsToNums,\n",
    "        error_function: NumsNumsToNums,\n",
    "    ) -> None:\n",
    "        self.layers = layers\n",
    "        self.loss_function = loss_function  # Функция потерь\n",
    "        self.error_function = error_function  # Функция для получения ошибки для последнего слоя\n",
    "        \n",
    "        # История значения loss_function, после train\n",
    "        self.losses = []\n",
    "        # Предсказания, полученные после train\n",
    "        self.predicted = []\n",
    "    \n",
    "    def pop_loss(self, func: Callable[[Nums], Any]):\n",
    "        loss = func(self.losses)\n",
    "        self.losses.clear()\n",
    "        return loss\n",
    "\n",
    "    def forward(self, x: Nums) -> Nums:\n",
    "        \"\"\"\n",
    "        Прямое распространение сети\n",
    "        \"\"\"\n",
    "        current_x = x\n",
    "        for layer in self.layers:\n",
    "            current_x = layer.forward(current_x)\n",
    "\n",
    "        return current_x\n",
    "\n",
    "    def backward(self, error: Nums) -> Nums:\n",
    "        \"\"\"\n",
    "        Обратное распространение сети, не меняет веса\n",
    "        \"\"\"\n",
    "        current_error = error\n",
    "        \n",
    "        # Для последнего слоя ошибку получаем в error_function\n",
    "        for layer in self.layers[::-1]:\n",
    "            current_error = layer.backward(current_error)\n",
    "\n",
    "        return current_error\n",
    "\n",
    "    def update(self, learning_rate):\n",
    "        \"\"\"\n",
    "        Модификация весов сети, все ошибки сохраняются в слои,\n",
    "        стоит лишь вызвать данную функцию после однократного\n",
    "        или серии применений (при batch) backward\n",
    "        \"\"\"\n",
    "        for layer in self.layers[::-1]:\n",
    "            layer.update(learning_rate)\n",
    "\n",
    "    def train(self, xs: Nums, ys: Nums, learning_rate: float=0.001, batch_size: int=10):\n",
    "        \"\"\"\n",
    "        Обучение сети в рамках одной эпохи\n",
    "        \"\"\"\n",
    "        # Цикл по батчам, размера batch_size\n",
    "        for batch_index in range(ceil(len(xs) / batch_size)):\n",
    "            current_batch_slice = slice(\n",
    "                batch_index * batch_size, (batch_index + 1) * batch_size\n",
    "            )\n",
    "            batch_xs = xs[current_batch_slice]\n",
    "            batch_ys = ys[current_batch_slice]\n",
    "            batch_losses = []  # Loss-ы одного батча\n",
    "\n",
    "            for x, y in zip(batch_xs, batch_ys):\n",
    "                x = x[None, ...]  # Для правильных размерностей (1, n), а не (n,)\n",
    "                predict = self.forward(x)[0]\n",
    "                error = self.error_function(predict, y)\n",
    "                \n",
    "                # Считаем ошибку\n",
    "                self.backward(error)\n",
    "                \n",
    "                E = self.loss_function(predict, y)\n",
    "                self.predicted.append(predict)\n",
    "                batch_losses.append(E)\n",
    "\n",
    "            # Обновляем веса\n",
    "            self.update(learning_rate=learning_rate)\n",
    "            \n",
    "            # Собираем статистику\n",
    "            batch_loss = np.sum(batch_losses)\n",
    "            batch_losses.clear()\n",
    "            self.losses.append(batch_loss)"
   ]
  },
  {
   "cell_type": "markdown",
   "metadata": {},
   "source": [
    "Создадим экземпляр нашего перцептрона и обучим его"
   ]
  },
  {
   "cell_type": "code",
   "execution_count": null,
   "metadata": {},
   "outputs": [
    {
     "name": "stderr",
     "output_type": "stream",
     "text": [
      "epoch: 5, loss: 0.0000000234, acc: 0.932, f1: 0.932:  50%|█████     | 5/10 [00:21<00:21,  4.31s/it]"
     ]
    }
   ],
   "source": [
    "network = NN(\n",
    "    [\n",
    "        Layer(784, 128, (relu, drelu), weights_initialize_function=lambda shape: np.random.random(shape) * 0.01),\n",
    "        Layer(128, 10, (softmax, lambda x: x), weights_initialize_function=lambda shape: np.random.random(shape) * 0.01),  # x -> softmax(x)  # x -> x - транзитом, не считаем производную\n",
    "    ],\n",
    "    loss_function=cross_entropy,\n",
    "    error_function=error_function,\n",
    ")\n",
    "\n",
    "def train(network: NN, x: Nums, y: Nums, num_epoches: int, learning_rate: float, batch_size: int):\n",
    "    bar = tqdm(range(1, num_epoches + 1), total=num_epoches)\n",
    "    xy_indices = np.arange(len(x))\n",
    "    loss_history = []\n",
    "    for epoch in bar:\n",
    "        network.predicted.clear()\n",
    "        # В каждой эпохе изменим порядок обучающего датасета\n",
    "        np.random.shuffle(xy_indices)\n",
    "        \n",
    "        indices = np.random.choice(len(xy_indices), size=10000, replace=False)\n",
    "        \n",
    "        epoch_x = x[indices]\n",
    "        epoch_y = y[indices]\n",
    "        network.train(epoch_x, epoch_y, learning_rate=learning_rate, batch_size=batch_size)\n",
    "        \n",
    "        loss = network.pop_loss(np.min)\n",
    "        loss_history.append(loss)\n",
    "        y_pred_classes = np.argmax(network.predicted, axis=1)\n",
    "        y_true_classes = np.argmax(epoch_y, axis=1)\n",
    "\n",
    "        acc = sklearn.metrics.accuracy_score(y_true_classes, y_pred_classes)\n",
    "        f1 = sklearn.metrics.f1_score(y_true_classes, y_pred_classes, average='weighted')\n",
    "        \n",
    "        bar.set_description(f\"epoch: {epoch}, loss: {loss:.10f}, acc: {acc:.3f}, f1: {f1:.3f}\")\n",
    "        # print(f\"epoch: {epoch}, loss: {loss:.10f}, acc: {acc:.3f}, f1: {f1:.3f}\")\n",
    "        network.losses.clear()\n",
    "    return loss_history\n",
    "\n",
    "loss_history = train(network, train_x, train_y, 10, 0.001, 1)"
   ]
  },
  {
   "cell_type": "code",
   "execution_count": null,
   "metadata": {},
   "outputs": [
    {
     "data": {
      "image/png": "[encoded data removed]",
      "text/plain": [
       "<Figure size 640x480 with 1 Axes>"
      ]
     },
     "metadata": {},
     "output_type": "display_data"
    }
   ],
   "source": [
    "fig, ax = plt.subplots()\n",
    "\n",
    "ax.plot(loss_history)\n",
    "ax.set_xlabel(\"epoch\")\n",
    "ax.set_ylabel(\"loss\")\n",
    "ax.set_title(\"loss history\")\n",
    "plt.show()"
   ]
  },
  {
   "cell_type": "markdown",
   "metadata": {},
   "source": [
    "Посмотрим на результат обучения на валидационной выборке"
   ]
  },
  {
   "cell_type": "code",
   "execution_count": null,
   "metadata": {},
   "outputs": [
    {
     "name": "stdout",
     "output_type": "stream",
     "text": [
      "              precision    recall  f1-score   support\n",
      "\n",
      "           1       0.97      0.98      0.97       980\n",
      "           2       0.98      0.98      0.98      1135\n",
      "           3       0.97      0.93      0.95      1032\n",
      "           4       0.97      0.93      0.95      1010\n",
      "           5       0.95      0.96      0.96       982\n",
      "           6       0.93      0.96      0.94       892\n",
      "           7       0.96      0.96      0.96       958\n",
      "           8       0.94      0.97      0.96      1028\n",
      "           9       0.91      0.96      0.94       974\n",
      "          10       0.98      0.92      0.95      1009\n",
      "\n",
      "    accuracy                           0.96     10000\n",
      "   macro avg       0.96      0.96      0.96     10000\n",
      "weighted avg       0.96      0.96      0.96     10000\n",
      "\n"
     ]
    },
    {
     "data": {
      "text/plain": [
       "<sklearn.metrics._plot.confusion_matrix.ConfusionMatrixDisplay at 0x7fdf3bdf3800>"
      ]
     },
     "execution_count": 107,
     "metadata": {},
     "output_type": "execute_result"
    },
    {
     "data": {
      "image/png": "[encoded data removed]",
      "text/plain": [
       "<Figure size 640x480 with 2 Axes>"
      ]
     },
     "metadata": {},
     "output_type": "display_data"
    }
   ],
   "source": [
    "y_pred = network.forward(test_x)\n",
    "\n",
    "y_pred_classes = [x + 1 for x in np.argmax(y_pred, axis=1)]\n",
    "y_true_classes = [x + 1 for x in np.argmax(test_y, axis=1)]\n",
    "\n",
    "print(sklearn.metrics.classification_report(y_true_classes, y_pred_classes))\n",
    "ConfusionMatrixDisplay.from_predictions(y_true_classes, y_pred_classes)"
   ]
  },
  {
   "cell_type": "markdown",
   "metadata": {},
   "source": [
    "Ура!"
   ]
  }
 ],
 "metadata": {
  "kernelspec": {
   "display_name": "all_ai",
   "language": "python",
   "name": "python3"
  },
  "language_info": {
   "codemirror_mode": {
    "name": "ipython",
    "version": 3
   },
   "file_extension": ".py",
   "mimetype": "text/x-python",
   "name": "python",
   "nbconvert_exporter": "python",
   "pygments_lexer": "ipython3",
   "version": "3.12.7"
  }
 },
 "nbformat": 4,
 "nbformat_minor": 2
}
