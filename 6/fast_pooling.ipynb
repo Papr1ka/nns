{
 "cells": [
  {
   "cell_type": "code",
   "execution_count": 190,
   "metadata": {},
   "outputs": [],
   "source": [
    "import numpy as np"
   ]
  },
  {
   "cell_type": "code",
   "execution_count": 191,
   "metadata": {},
   "outputs": [
    {
     "data": {
      "text/plain": [
       "array([[ 0,  1,  2,  3,  4,  5,  6],\n",
       "       [ 7,  8,  9, 10, 11, 12, 13],\n",
       "       [14, 15, 16, 17, 18, 19, 20],\n",
       "       [21, 22, 23, 24, 25, 26, 27],\n",
       "       [28, 29, 30, 31, 32, 33, 34]])"
      ]
     },
     "execution_count": 191,
     "metadata": {},
     "output_type": "execute_result"
    }
   ],
   "source": [
    "y = np.arange(35).reshape(5,7)\n",
    "y"
   ]
  },
  {
   "cell_type": "code",
   "execution_count": 192,
   "metadata": {},
   "outputs": [
    {
     "data": {
      "text/plain": [
       "array([ 0, 15, 30])"
      ]
     },
     "execution_count": 192,
     "metadata": {},
     "output_type": "execute_result"
    }
   ],
   "source": [
    "y[[0, 2, 4], [0, 1, 2]]"
   ]
  },
  {
   "cell_type": "code",
   "execution_count": 193,
   "metadata": {},
   "outputs": [
    {
     "data": {
      "text/plain": [
       "array([[ 3, 17, 20, 21],\n",
       "       [ 1,  1, 23,  4],\n",
       "       [12, 24,  7, 15],\n",
       "       [ 1, 15, 23,  1]])"
      ]
     },
     "execution_count": 193,
     "metadata": {},
     "output_type": "execute_result"
    }
   ],
   "source": [
    "matrix = np.random.randint(1, 25, (4, 4))\n",
    "window = (2, 2)\n",
    "strides = (1, 1)\n",
    "channels_out = 3\n",
    "matrix"
   ]
  },
  {
   "cell_type": "code",
   "execution_count": 194,
   "metadata": {},
   "outputs": [],
   "source": [
    "i = np.repeat(np.arange(window[0]), window[1])\n",
    "col = np.tile(i, (channels_out))[:, None]\n",
    "i = col + np.repeat(np.arange(3), 3)\n",
    "\n",
    "j = np.tile(np.tile(np.arange(window[1]), window[0]), channels_out)\n",
    "j = j[:, None] + np.tile(np.arange(3), 3)\n",
    "\n",
    "# j[None, :].T + np.arange(3)\n",
    "\n"
   ]
  },
  {
   "cell_type": "code",
   "execution_count": 195,
   "metadata": {},
   "outputs": [
    {
     "data": {
      "text/plain": [
       "(array([[0, 0, 0, 1, 1, 1, 2, 2, 2],\n",
       "        [0, 0, 0, 1, 1, 1, 2, 2, 2],\n",
       "        [1, 1, 1, 2, 2, 2, 3, 3, 3],\n",
       "        [1, 1, 1, 2, 2, 2, 3, 3, 3],\n",
       "        [0, 0, 0, 1, 1, 1, 2, 2, 2],\n",
       "        [0, 0, 0, 1, 1, 1, 2, 2, 2],\n",
       "        [1, 1, 1, 2, 2, 2, 3, 3, 3],\n",
       "        [1, 1, 1, 2, 2, 2, 3, 3, 3],\n",
       "        [0, 0, 0, 1, 1, 1, 2, 2, 2],\n",
       "        [0, 0, 0, 1, 1, 1, 2, 2, 2],\n",
       "        [1, 1, 1, 2, 2, 2, 3, 3, 3],\n",
       "        [1, 1, 1, 2, 2, 2, 3, 3, 3]]),\n",
       " array([[0, 1, 2, 0, 1, 2, 0, 1, 2],\n",
       "        [1, 2, 3, 1, 2, 3, 1, 2, 3],\n",
       "        [0, 1, 2, 0, 1, 2, 0, 1, 2],\n",
       "        [1, 2, 3, 1, 2, 3, 1, 2, 3],\n",
       "        [0, 1, 2, 0, 1, 2, 0, 1, 2],\n",
       "        [1, 2, 3, 1, 2, 3, 1, 2, 3],\n",
       "        [0, 1, 2, 0, 1, 2, 0, 1, 2],\n",
       "        [1, 2, 3, 1, 2, 3, 1, 2, 3],\n",
       "        [0, 1, 2, 0, 1, 2, 0, 1, 2],\n",
       "        [1, 2, 3, 1, 2, 3, 1, 2, 3],\n",
       "        [0, 1, 2, 0, 1, 2, 0, 1, 2],\n",
       "        [1, 2, 3, 1, 2, 3, 1, 2, 3]]),\n",
       " array([[0],\n",
       "        [0],\n",
       "        [0],\n",
       "        [0],\n",
       "        [1],\n",
       "        [1],\n",
       "        [1],\n",
       "        [1],\n",
       "        [2],\n",
       "        [2],\n",
       "        [2],\n",
       "        [2]]))"
      ]
     },
     "execution_count": 195,
     "metadata": {},
     "output_type": "execute_result"
    }
   ],
   "source": [
    "def get_indices(channels_out, shape, window, strides, padding):\n",
    "    out_h = int((shape[0] + 2 * padding[0] - window[0]) / strides[0]) + 1\n",
    "    out_w = int((shape[1] + 2 * padding[1] - window[1]) / strides[1]) + 1\n",
    "    \n",
    "    # i indices\n",
    "    \n",
    "    # base for each slide\n",
    "    slide_i = np.repeat(np.arange(window[0]), window[1])\n",
    "    # for each channel the same\n",
    "    slide_channels_i = np.tile(slide_i, channels_out)\n",
    "    # move horizontally\n",
    "    i = slide_channels_i[:, None] + strides[0] * np.repeat(np.arange(out_h), out_w)\n",
    "    \n",
    "    # j indices\n",
    "    \n",
    "    # base for each slide\n",
    "    slide_j = np.tile(np.arange(window[1]), window[0])\n",
    "    # for each channel\n",
    "    slide_channels_j = np.tile(slide_j, channels_out)\n",
    "    # move vertically\n",
    "    j = slide_channels_j[:, None] + strides[1] * np.tile(np.arange(out_w), out_h)\n",
    "\n",
    "    # channel indices\n",
    "    c = np.repeat(np.arange(channels_out), window[0] * window[1])[:, None]\n",
    "    return i, j, c\n",
    "\n",
    "get_indices(3, (4, 4), (2, 2), (1, 1), (0, 0))"
   ]
  },
  {
   "cell_type": "code",
   "execution_count": 196,
   "metadata": {},
   "outputs": [],
   "source": [
    "def add_padding(x, padding):\n",
    "    # accepts 3d array\n",
    "    return np.pad(x, ((0, 0), (padding[1], padding[1]), (padding[0], padding[0])))"
   ]
  },
  {
   "cell_type": "code",
   "execution_count": 197,
   "metadata": {},
   "outputs": [],
   "source": [
    "m = np.array([matrix, np.flip(matrix)])"
   ]
  },
  {
   "cell_type": "code",
   "execution_count": 198,
   "metadata": {},
   "outputs": [
    {
     "data": {
      "text/plain": [
       "array([[ 3, 17, 20, 21],\n",
       "       [ 1,  1, 23,  4],\n",
       "       [12, 24,  7, 15],\n",
       "       [ 1, 15, 23,  1]])"
      ]
     },
     "execution_count": 198,
     "metadata": {},
     "output_type": "execute_result"
    }
   ],
   "source": [
    "matrix"
   ]
  },
  {
   "cell_type": "code",
   "execution_count": 199,
   "metadata": {},
   "outputs": [
    {
     "data": {
      "text/plain": [
       "array([[ 3, 17, 20,  1,  1, 23, 12, 24,  7],\n",
       "       [17, 20, 21,  1, 23,  4, 24,  7, 15],\n",
       "       [ 1,  1, 23, 12, 24,  7,  1, 15, 23],\n",
       "       [ 1, 23,  4, 24,  7, 15, 15, 23,  1],\n",
       "       [ 1, 23, 15, 15,  7, 24,  4, 23,  1],\n",
       "       [23, 15,  1,  7, 24, 12, 23,  1,  1],\n",
       "       [15,  7, 24,  4, 23,  1, 21, 20, 17],\n",
       "       [ 7, 24, 12, 23,  1,  1, 20, 17,  3]])"
      ]
     },
     "execution_count": 199,
     "metadata": {},
     "output_type": "execute_result"
    }
   ],
   "source": [
    "def im2col(x, window, strides, padding):\n",
    "    padded = add_padding(x, padding)\n",
    "    i, j, c = get_indices(x.shape[0], x.shape[1:], window, strides, padding)\n",
    "    cols = padded[c, i, j]\n",
    "    return cols\n",
    "\n",
    "im2col(m, (2, 2), (1, 1), (0, 0))"
   ]
  },
  {
   "cell_type": "code",
   "execution_count": 200,
   "metadata": {},
   "outputs": [
    {
     "data": {
      "text/plain": [
       "array([[[ 3, 17, 20, 21],\n",
       "        [ 1,  1, 23,  4],\n",
       "        [12, 24,  7, 15],\n",
       "        [ 1, 15, 23,  1]],\n",
       "\n",
       "       [[ 1, 23, 15,  1],\n",
       "        [15,  7, 24, 12],\n",
       "        [ 4, 23,  1,  1],\n",
       "        [21, 20, 17,  3]]])"
      ]
     },
     "execution_count": 200,
     "metadata": {},
     "output_type": "execute_result"
    }
   ],
   "source": [
    "m"
   ]
  },
  {
   "cell_type": "code",
   "execution_count": 282,
   "metadata": {},
   "outputs": [
    {
     "name": "stdout",
     "output_type": "stream",
     "text": [
      "[[[ 3 17 20  1  1 23 12 24  7]\n",
      "  [17 20 21  1 23  4 24  7 15]\n",
      "  [ 1  1 23 12 24  7  1 15 23]\n",
      "  [ 1 23  4 24  7 15 15 23  1]]\n",
      "\n",
      " [[ 1 23 15 15  7 24  4 23  1]\n",
      "  [23 15  1  7 24 12 23  1  1]\n",
      "  [15  7 24  4 23  1 21 20 17]\n",
      "  [ 7 24 12 23  1  1 20 17  3]]]\n"
     ]
    },
    {
     "data": {
      "text/plain": [
       "(array([[[17, 23, 23],\n",
       "         [24, 24, 23],\n",
       "         [24, 24, 23]],\n",
       " \n",
       "        [[23, 24, 24],\n",
       "         [23, 24, 24],\n",
       "         [23, 23, 17]]]),\n",
       " array([[[1, 3, 2],\n",
       "         [3, 2, 0],\n",
       "         [1, 0, 2]],\n",
       " \n",
       "        [[1, 3, 2],\n",
       "         [3, 1, 0],\n",
       "         [1, 0, 2]]]))"
      ]
     },
     "execution_count": 282,
     "metadata": {},
     "output_type": "execute_result"
    }
   ],
   "source": [
    "def max_pooling(x, window, strides, padding):\n",
    "    \n",
    "    n_H = int((x.shape[1] + 2 * padding[0] - window[0])/ strides[0]) + 1\n",
    "    n_W = int((x.shape[2] + 2 * padding[1] - window[1])/ strides[1]) + 1\n",
    "    \n",
    "    x_col = im2col(x, window, strides, padding)\n",
    "    x_col = x_col.reshape(x.shape[0], window[0] * window[1], -1)\n",
    "    print(x_col)\n",
    "    a_pol = np.max(x_col, axis=1)\n",
    "    return a_pol.reshape((x.shape[0], n_H, n_W)), x_col.argmax(axis=1).reshape((x.shape[0], n_H, n_W))\n",
    "pooled, indices = max_pooling(m, (2, 2), (1, 1), (0, 0))\n",
    "pooled, indices"
   ]
  },
  {
   "cell_type": "code",
   "execution_count": 278,
   "metadata": {},
   "outputs": [
    {
     "data": {
      "text/plain": [
       "array([1, 3, 2, 3, 2, 0, 1, 0, 2, 1, 3, 2, 3, 1, 0, 1, 0, 2])"
      ]
     },
     "execution_count": 278,
     "metadata": {},
     "output_type": "execute_result"
    }
   ],
   "source": [
    "indices.flatten()"
   ]
  },
  {
   "cell_type": "code",
   "execution_count": null,
   "metadata": {},
   "outputs": [],
   "source": [
    "def pool_backward(x, indices, error, window, strides, padding):\n",
    "    n_H = int((x.shape[1] + 2 * padding[0] - window[0])/ strides[0]) + 1\n",
    "    n_W = int((x.shape[2] + 2 * padding[1] - window[1])/ strides[1]) + 1\n",
    "    \n",
    "    dx = np.zeros(x.shape)\n",
    "    \n",
    "pool_backward(np.ones_like(pooled), indices, np.ones_like(pooled), (2, 2), (1, 1), (0, 0))"
   ]
  },
  {
   "cell_type": "code",
   "execution_count": 261,
   "metadata": {},
   "outputs": [],
   "source": [
    "def col2im(x_col, x_shape, window, strides, padding):\n",
    "    H_padded = x_shape[1] + 2 * padding[0]\n",
    "    W_padded = x_shape[2] + 2 * padding[1]\n",
    "    \n",
    "    new_x = np.zeros((x_shape[0], H_padded, W_padded))\n",
    "    print(new_x.shape)\n",
    "    \n",
    "    i, j, d = get_indices(x_shape[0], x_shape[1:], window, strides, padding)\n",
    "    np.add.at(new_x, (d, i, j), x_col)\n",
    "    if padding[0] != 0 or padding[1] != 0:\n",
    "        return new_x[:, padding[0]:-padding[0], padding[1]:-padding[1]]\n",
    "    return new_x"
   ]
  },
  {
   "cell_type": "code",
   "execution_count": 262,
   "metadata": {},
   "outputs": [
    {
     "data": {
      "text/plain": [
       "array([[ 3, 17, 20,  1,  1, 23, 12, 24,  7],\n",
       "       [17, 20, 21,  1, 23,  4, 24,  7, 15],\n",
       "       [ 1,  1, 23, 12, 24,  7,  1, 15, 23],\n",
       "       [ 1, 23,  4, 24,  7, 15, 15, 23,  1],\n",
       "       [ 1, 23, 15, 15,  7, 24,  4, 23,  1],\n",
       "       [23, 15,  1,  7, 24, 12, 23,  1,  1],\n",
       "       [15,  7, 24,  4, 23,  1, 21, 20, 17],\n",
       "       [ 7, 24, 12, 23,  1,  1, 20, 17,  3]])"
      ]
     },
     "execution_count": 262,
     "metadata": {},
     "output_type": "execute_result"
    }
   ],
   "source": [
    "x_col = im2col(m, (2, 2), (1, 1), (0, 0))\n",
    "x_col"
   ]
  },
  {
   "cell_type": "code",
   "execution_count": 263,
   "metadata": {},
   "outputs": [
    {
     "name": "stdout",
     "output_type": "stream",
     "text": [
      "(2, 4, 4)\n"
     ]
    },
    {
     "data": {
      "text/plain": [
       "array([[[ 3., 34., 40., 21.],\n",
       "        [ 2.,  4., 92.,  8.],\n",
       "        [24., 96., 28., 30.],\n",
       "        [ 1., 30., 46.,  1.]],\n",
       "\n",
       "       [[ 1., 46., 30.,  1.],\n",
       "        [30., 28., 96., 24.],\n",
       "        [ 8., 92.,  4.,  2.],\n",
       "        [21., 40., 34.,  3.]]])"
      ]
     },
     "execution_count": 263,
     "metadata": {},
     "output_type": "execute_result"
    }
   ],
   "source": [
    "col2im(x_col, m.shape, (2, 2), (1, 1), (0, 0))"
   ]
  }
 ],
 "metadata": {
  "kernelspec": {
   "display_name": "all_ai",
   "language": "python",
   "name": "python3"
  },
  "language_info": {
   "codemirror_mode": {
    "name": "ipython",
    "version": 3
   },
   "file_extension": ".py",
   "mimetype": "text/x-python",
   "name": "python",
   "nbconvert_exporter": "python",
   "pygments_lexer": "ipython3",
   "version": "3.12.7"
  }
 },
 "nbformat": 4,
 "nbformat_minor": 2
}
