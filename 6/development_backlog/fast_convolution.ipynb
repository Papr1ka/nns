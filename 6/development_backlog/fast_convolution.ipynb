{
 "cells": [
  {
   "cell_type": "code",
   "execution_count": 3,
   "metadata": {},
   "outputs": [],
   "source": [
    "# from keras.api.datasets import mnist\n",
    "# import sklearn.preprocessing\n",
    "import numpy as np\n",
    "from nn.utils import get_indices, col2im, im2col, add_padding"
   ]
  },
  {
   "cell_type": "code",
   "execution_count": 4,
   "metadata": {},
   "outputs": [],
   "source": [
    "# (train_x, train_y), (test_x, test_y) = mnist.load_data()\n",
    "\n",
    "# train_x = train_x / 255\n",
    "# test_x = test_x / 255\n",
    "\n",
    "# train_x.resize(60000, 784)\n",
    "# test_x.resize(10000, 784)\n",
    "\n",
    "# encoder = sklearn.preprocessing.OneHotEncoder()\n",
    "# train_y = encoder.fit_transform(train_y[..., None]).toarray()\n",
    "# test_y = encoder.fit_transform(test_y[..., None]).toarray()\n",
    "\n",
    "# train_x.shape, train_y.shape"
   ]
  },
  {
   "cell_type": "code",
   "execution_count": 5,
   "metadata": {},
   "outputs": [
    {
     "data": {
      "text/plain": [
       "array([[[ 1,  2,  3,  4],\n",
       "        [ 5,  6,  7,  8],\n",
       "        [ 9, 10, 11, 12],\n",
       "        [13, 14, 15, 16]],\n",
       "\n",
       "       [[17, 18, 19, 20],\n",
       "        [21, 22, 23, 24],\n",
       "        [25, 26, 27, 28],\n",
       "        [29, 30, 31, 32]],\n",
       "\n",
       "       [[33, 34, 35, 36],\n",
       "        [37, 38, 39, 40],\n",
       "        [41, 42, 43, 44],\n",
       "        [45, 46, 47, 48]]])"
      ]
     },
     "metadata": {},
     "output_type": "display_data"
    },
    {
     "data": {
      "text/plain": [
       "array([[ 1,  2,  3,  5,  6,  7,  9, 10, 11],\n",
       "       [ 2,  3,  4,  6,  7,  8, 10, 11, 12],\n",
       "       [ 5,  6,  7,  9, 10, 11, 13, 14, 15],\n",
       "       [ 6,  7,  8, 10, 11, 12, 14, 15, 16],\n",
       "       [17, 18, 19, 21, 22, 23, 25, 26, 27],\n",
       "       [18, 19, 20, 22, 23, 24, 26, 27, 28],\n",
       "       [21, 22, 23, 25, 26, 27, 29, 30, 31],\n",
       "       [22, 23, 24, 26, 27, 28, 30, 31, 32],\n",
       "       [33, 34, 35, 37, 38, 39, 41, 42, 43],\n",
       "       [34, 35, 36, 38, 39, 40, 42, 43, 44],\n",
       "       [37, 38, 39, 41, 42, 43, 45, 46, 47],\n",
       "       [38, 39, 40, 42, 43, 44, 46, 47, 48]])"
      ]
     },
     "execution_count": 5,
     "metadata": {},
     "output_type": "execute_result"
    }
   ],
   "source": [
    "# sample = train_x[0].reshape((1, 28, 28))\n",
    "\n",
    "# sample = np.random.randint(1, 25, size=(3, 4, 4))\n",
    "sample = np.arange(1, 49).reshape((3, 4, 4))\n",
    "\n",
    "display(sample)\n",
    "weights = np.random.randint(1, 10, size=(3, 3, 2, 2))\n",
    "# display(weights)\n",
    "\n",
    "x_col = im2col(sample, (2, 2), (1, 1), (0, 0))\n",
    "\n",
    "x_col"
   ]
  },
  {
   "cell_type": "code",
   "execution_count": 6,
   "metadata": {},
   "outputs": [
    {
     "data": {
      "text/plain": [
       "array([[3, 7, 2, 4, 6, 3, 5, 5, 1, 7, 5, 7],\n",
       "       [5, 8, 7, 3, 9, 4, 5, 9, 9, 1, 3, 4],\n",
       "       [9, 2, 6, 9, 5, 4, 6, 3, 2, 9, 3, 9]])"
      ]
     },
     "execution_count": 6,
     "metadata": {},
     "output_type": "execute_result"
    }
   ],
   "source": [
    "weights.reshape((3, 12))"
   ]
  },
  {
   "cell_type": "code",
   "execution_count": 7,
   "metadata": {},
   "outputs": [
    {
     "data": {
      "text/plain": [
       "array([[1],\n",
       "       [8],\n",
       "       [8]])"
      ]
     },
     "execution_count": 7,
     "metadata": {},
     "output_type": "execute_result"
    }
   ],
   "source": [
    "bias = np.random.randint(1, 10, size=(3, 1))\n",
    "bias"
   ]
  },
  {
   "cell_type": "code",
   "execution_count": 8,
   "metadata": {},
   "outputs": [
    {
     "data": {
      "text/plain": [
       "array([[1145, 1200, 1255, 1365, 1420, 1475, 1585, 1640, 1695],\n",
       "       [1204, 1271, 1338, 1472, 1539, 1606, 1740, 1807, 1874],\n",
       "       [1279, 1346, 1413, 1547, 1614, 1681, 1815, 1882, 1949]])"
      ]
     },
     "metadata": {},
     "output_type": "display_data"
    }
   ],
   "source": [
    "display(weights.reshape((3, -1)) @ x_col + bias)\n",
    "# (weights.reshape((-1, 12)) @ x_col).reshape((-1, 3, 3))"
   ]
  },
  {
   "cell_type": "code",
   "execution_count": 23,
   "metadata": {},
   "outputs": [],
   "source": [
    "def conv2d(x, weights, bias, strides, padding):\n",
    "    window = weights.shape[-2:]\n",
    "    \n",
    "    num_filters = weights.shape[0]\n",
    "    n_H = int((x.shape[1] + 2 * padding[0] - window[0]) / strides[0]) + 1\n",
    "    n_W = int((x.shape[2] + 2 * padding[1] - window[1]) / strides[1]) + 1\n",
    "    \n",
    "    x_col = im2col(x, window, strides, padding)\n",
    "    \n",
    "    weights_flatted = weights.reshape((num_filters, -1))\n",
    "    bias_flatted = bias.reshape((-1, 1))\n",
    "    \n",
    "    convolved = (weights_flatted @ x_col) + bias_flatted\n",
    "    convolved = convolved.reshape((num_filters, n_H, n_W))\n",
    "    return convolved, x_col"
   ]
  },
  {
   "cell_type": "code",
   "execution_count": 24,
   "metadata": {},
   "outputs": [],
   "source": [
    "weights = np.random.randint(1, 10, size=(3, 3, 2, 2))"
   ]
  },
  {
   "cell_type": "code",
   "execution_count": 30,
   "metadata": {},
   "outputs": [],
   "source": [
    "output, x_col = conv2d(sample, weights, bias, (1, 1), (0, 0))"
   ]
  },
  {
   "cell_type": "code",
   "execution_count": 62,
   "metadata": {},
   "outputs": [],
   "source": [
    "# error = np.ones_like(output)\n",
    "error = np.random.randint(1, 40, size=output.shape)"
   ]
  },
  {
   "cell_type": "code",
   "execution_count": 61,
   "metadata": {},
   "outputs": [],
   "source": [
    "def backward(error, x_col, weights, bias, strides, padding, prev_shape):\n",
    "    window = weights.shape[-2:]\n",
    "    \n",
    "    num_filters = weights.shape[0]\n",
    "    \n",
    "    error_reshaped = error.reshape((num_filters, -1))\n",
    "    \n",
    "    de_dW = (error_reshaped @ x_col.T).reshape(weights.shape)\n",
    "    de_dB = np.sum(error, axis=(1, 2))\n",
    "    \n",
    "    weights_flatted = weights.reshape((num_filters, -1))\n",
    "    error_col = weights_flatted.T @ error_reshaped\n",
    "    de_dX = col2im(error_col, prev_shape, window, strides, padding)\n",
    "    return de_dX, de_dW, de_dB"
   ]
  },
  {
   "cell_type": "code",
   "execution_count": 63,
   "metadata": {},
   "outputs": [
    {
     "data": {
      "text/plain": [
       "(array([[[  51.,  449.,  517.,  144.],\n",
       "         [ 287., 1002., 1216.,  464.],\n",
       "         [ 665., 1258.,  987.,  344.],\n",
       "         [ 393.,  697.,  462.,  214.]],\n",
       " \n",
       "        [[ 296.,  953.,  923.,  225.],\n",
       "         [ 629., 1573., 1727.,  736.],\n",
       "         [ 946., 1776., 1322.,  461.],\n",
       "         [ 525.,  851.,  454.,  250.]],\n",
       " \n",
       "        [[ 213.,  683.,  856.,  387.],\n",
       "         [ 617., 1768., 1694.,  603.],\n",
       "         [ 814., 1646., 1373.,  561.],\n",
       "         [ 560.,  917.,  488.,  203.]]]),\n",
       " array([[[[1274, 1488],\n",
       "          [2130, 2344]],\n",
       " \n",
       "         [[4698, 4912],\n",
       "          [5554, 5768]],\n",
       " \n",
       "         [[8122, 8336],\n",
       "          [8978, 9192]]],\n",
       " \n",
       " \n",
       "        [[[1038, 1211],\n",
       "          [1730, 1903]],\n",
       " \n",
       "         [[3806, 3979],\n",
       "          [4498, 4671]],\n",
       " \n",
       "         [[6574, 6747],\n",
       "          [7266, 7439]]],\n",
       " \n",
       " \n",
       "        [[[1013, 1195],\n",
       "          [1741, 1923]],\n",
       " \n",
       "         [[3925, 4107],\n",
       "          [4653, 4835]],\n",
       " \n",
       "         [[6837, 7019],\n",
       "          [7565, 7747]]]]),\n",
       " array([214, 173, 182]))"
      ]
     },
     "execution_count": 63,
     "metadata": {},
     "output_type": "execute_result"
    }
   ],
   "source": [
    "backward(error, x_col, weights, bias, (1, 1), (0, 0), sample.shape)"
   ]
  }
 ],
 "metadata": {
  "kernelspec": {
   "display_name": "all_ai",
   "language": "python",
   "name": "python3"
  },
  "language_info": {
   "codemirror_mode": {
    "name": "ipython",
    "version": 3
   },
   "file_extension": ".py",
   "mimetype": "text/x-python",
   "name": "python",
   "nbconvert_exporter": "python",
   "pygments_lexer": "ipython3",
   "version": "3.12.7"
  }
 },
 "nbformat": 4,
 "nbformat_minor": 2
}
