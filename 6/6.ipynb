{
 "cells": [
  {
   "cell_type": "code",
   "execution_count": 1,
   "metadata": {},
   "outputs": [
    {
     "name": "stderr",
     "output_type": "stream",
     "text": [
      "2024-12-10 16:20:31.918848: E external/local_xla/xla/stream_executor/cuda/cuda_fft.cc:477] Unable to register cuFFT factory: Attempting to register factory for plugin cuFFT when one has already been registered\n",
      "WARNING: All log messages before absl::InitializeLog() is called are written to STDERR\n",
      "E0000 00:00:1733836831.938112  348362 cuda_dnn.cc:8310] Unable to register cuDNN factory: Attempting to register factory for plugin cuDNN when one has already been registered\n",
      "E0000 00:00:1733836831.943971  348362 cuda_blas.cc:1418] Unable to register cuBLAS factory: Attempting to register factory for plugin cuBLAS when one has already been registered\n",
      "2024-12-10 16:20:31.964122: I tensorflow/core/platform/cpu_feature_guard.cc:210] This TensorFlow binary is optimized to use available CPU instructions in performance-critical operations.\n",
      "To enable the following instructions: AVX2 FMA, in other operations, rebuild TensorFlow with the appropriate compiler flags.\n"
     ]
    }
   ],
   "source": [
    "from typing import Callable, Tuple\n",
    "\n",
    "from keras.datasets import mnist\n",
    "\n",
    "from matplotlib import pyplot as plt\n",
    "import numpy as np\n",
    "\n",
    "import sklearn.preprocessing\n",
    "import sklearn.metrics\n",
    "\n",
    "from tqdm import tqdm\n",
    "\n",
    "# Наши разработки из 3-ей работы))\n",
    "from nn import Nums\n",
    "from nn import NN, Layer\n",
    "from nn.functions import cross_entropy, dsigmoid, sigmoid, softmax, relu, drelu\n",
    "from nn.optimizers import AdamOptimizer, OptimizerBase, NoOptimizer, RMSPropOptimizer\n",
    "\n",
    "type Nums = np.ndarray[np.number]\n",
    "type NumsToNums = Callable[[Nums], Nums]\n",
    "type NumsNumsToNums = Callable[[Nums, Nums], Nums]\n",
    "\n",
    "np.set_printoptions(formatter={\"float\": lambda x: \"{0:0.3f}\".format(x)})"
   ]
  },
  {
   "cell_type": "markdown",
   "metadata": {},
   "source": [
    "Загружаем датасет, one-hot-encoding для меток классов"
   ]
  },
  {
   "cell_type": "code",
   "execution_count": 2,
   "metadata": {},
   "outputs": [
    {
     "data": {
      "text/plain": [
       "((60000, 784), (60000, 10))"
      ]
     },
     "execution_count": 2,
     "metadata": {},
     "output_type": "execute_result"
    }
   ],
   "source": [
    "(train_x, train_y), (test_x, test_y) = mnist.load_data()\n",
    "\n",
    "train_x = train_x / 255\n",
    "test_x = test_x / 255\n",
    "\n",
    "train_x.resize(60000, 784)\n",
    "test_x.resize(10000, 784)\n",
    "\n",
    "encoder = sklearn.preprocessing.OneHotEncoder()\n",
    "train_y = encoder.fit_transform(train_y[..., None]).toarray()\n",
    "test_y = encoder.fit_transform(test_y[..., None]).toarray()\n",
    "\n",
    "train_x.shape, train_y.shape"
   ]
  },
  {
   "cell_type": "code",
   "execution_count": 3,
   "metadata": {},
   "outputs": [],
   "source": [
    "def get_views(x: Nums, window: Tuple[int, int], strides: Tuple[int, int]) -> Nums:\n",
    "    # x - 3d\n",
    "    output_shape = (np.subtract(x.shape[-2:], window) + strides) / strides\n",
    "    output_shape = tuple(np.floor(output_shape, casting='unsafe', dtype=int))\n",
    "    \n",
    "    # (num_channels) x (output_shape) x (filter size)\n",
    "    views_shape = (x.shape[0],) + output_shape + window\n",
    "    \n",
    "    channel_strides, row_strides, col_strides = x.strides\n",
    "    \n",
    "    views = np.lib.stride_tricks.as_strided(\n",
    "        x, shape=views_shape, strides=(channel_strides, row_strides * strides[0], col_strides * strides[1], row_strides, col_strides)\n",
    "    )\n",
    "    return views\n",
    "    "
   ]
  },
  {
   "cell_type": "code",
   "execution_count": 4,
   "metadata": {},
   "outputs": [],
   "source": [
    "def add_padding(x: Nums, padding: Tuple[int, int]) -> Nums:\n",
    "    # accepts 3d array\n",
    "    return np.pad(x, ((0, 0), (padding[1], padding[1]), (padding[0], padding[0])))\n",
    "\n",
    "def conv2d(x: Nums, filters: Nums, strides: Tuple[int, int]=(1, 1), padding: Tuple[int, int]=(0, 0)) -> Nums:\n",
    "    \"\"\"2д свёртка\n",
    "\n",
    "    Args:\n",
    "        x (Nums): Входной массив, 3d [каналы x ширина x высота]\n",
    "        filters (Nums): Ядра свёртки, 3d [каналы x ширина x высота]\n",
    "        strides (Tuple[int, int], optional): Шаги свёртки по x и y. Defaults to (1, 1).\n",
    "        padding (Tuple[int, int], optional): Отступы по x и y. Defaults to (1, 1).\n",
    "\n",
    "    Returns:\n",
    "        Nums: Результат свёртки\n",
    "    \"\"\"\n",
    "    assert x.shape[0] == filters.shape[0], f\"num channels must be the same, {x.shape[0]} != {filters.shape[0]}\"\n",
    "    if padding != (0, 0):\n",
    "        x = add_padding(x, padding)\n",
    "    \n",
    "    # x - кол-во каналов, x, y\n",
    "    # filters - кол-во каналов, x, y\n",
    "    \n",
    "    output_shape = (np.subtract(x.shape[-2:], filters.shape[-2:]) + strides) / strides\n",
    "    output_shape = tuple(np.floor(output_shape, casting='unsafe', dtype=int))\n",
    "    \n",
    "    # (num_channels) x (output_shape) x (filter size)\n",
    "    views_shape = (x.shape[0],) + output_shape + filters.shape[-2:]\n",
    "    \n",
    "    channel_strides, row_strides, col_strides = x.strides\n",
    "    \n",
    "    views = np.lib.stride_tricks.as_strided(\n",
    "        x, shape=views_shape, strides=(channel_strides, row_strides * strides[0], col_strides * strides[1], row_strides, col_strides)\n",
    "        )\n",
    "    # print(views, views.shape)\n",
    "    return np.einsum('cijkl, ckl -> ij', views, filters)"
   ]
  },
  {
   "cell_type": "code",
   "execution_count": 5,
   "metadata": {},
   "outputs": [],
   "source": [
    "def space_matrix(x, strides):\n",
    "    shape_x, shape_y = x.shape[-2:]\n",
    "    shape_x = (shape_x - 1) * strides[0] + 1\n",
    "    shape_y = (shape_y - 1) * strides[1] + 1\n",
    "    new_x = np.zeros((x.shape[:-2] + (shape_x, shape_y)))\n",
    "    new_x[..., ::strides[0], ::strides[1]] = x\n",
    "    return new_x"
   ]
  },
  {
   "cell_type": "code",
   "execution_count": 82,
   "metadata": {},
   "outputs": [],
   "source": [
    "class MaxPool2DLayer:\n",
    "    def __init__(\n",
    "        self,\n",
    "        window: Tuple[int, int],\n",
    "        strides: Tuple[int, int],\n",
    "        input_shape: Tuple[int, int, int]\n",
    "    ) -> None:\n",
    "        self.window = window\n",
    "        self.strides = strides\n",
    "        self.num_filters_in = input_shape[0]\n",
    "        self.input_shape = input_shape\n",
    "\n",
    "    def forward(self, x: Nums) -> Nums:\n",
    "        # x - размерность [NumFilters x M x N]\n",
    "        \n",
    "        views = get_views(x, self.window, self.strides)\n",
    "        t = np.max(views, axis=(-2, -1))\n",
    "        \n",
    "        # for i in range(len(x)):\n",
    "        #     views = get_views(x[i], self.window, self.strides)\n",
    "        #     out = np.max(views, axis=(-2, -1))\n",
    "        #     t.append(out)\n",
    "        #     calced.append(views)\n",
    "        \n",
    "        # t = np.array(t).reshape((x.shape[0], *self.output_shape))\n",
    "        # self._calced = calced\n",
    "        self.cache = x\n",
    "        return t\n",
    "        \n",
    "    def backward(self, error: Nums) -> Nums:\n",
    "        # error - размерность [NumFilters x M x N]\n",
    "        \n",
    "        x = self.cache\n",
    "        \n",
    "        de_dX = np.zeros(x.shape)\n",
    "        \n",
    "        views_to_write = get_views(de_dX, self.window, self.strides)\n",
    "        views_to_read = get_views(x, self.window, self.strides)\n",
    "        \n",
    "        assert error.shape[0] == x.shape[0], f\"num channels must be the same, {error.shape}, {x.shape}\"\n",
    "\n",
    "        for c in range(views_to_read.shape[0]):\n",
    "            for i in range(views_to_read.shape[1]):\n",
    "                for j in range(views_to_read.shape[2]):\n",
    "                    idx = np.argmax(views_to_read[c, i, j])\n",
    "                    views_to_write[c, i, j][np.unravel_index(idx, (2, 2))] += error[c, i, j]\n",
    "        return de_dX\n",
    "\n",
    "    def update(self, learning_rate: float):\n",
    "        pass\n",
    "\n",
    "    def set_optimizer(self, optimizer: OptimizerBase):\n",
    "        pass\n",
    "\n",
    "    def __repr__(self) -> str:\n",
    "        return f\"<Pooling2dLayer>\"\n"
   ]
  },
  {
   "cell_type": "code",
   "execution_count": 41,
   "metadata": {},
   "outputs": [],
   "source": [
    "from functools import reduce\n",
    "from operator import mul\n",
    "\n",
    "\n",
    "class Conv2DLayer:\n",
    "    \"\"\"\n",
    "    Реализует свёрточный слой\n",
    "\n",
    "    input_size: int - количество входных нейронов\n",
    "    output_size: int - количество выходных нейронов\n",
    "    weights: np.ndarray[np.number] - веса слоя\n",
    "    bias: np.ndarray[np.number] - смещения\n",
    "\n",
    "    self.activation_function: NumsToNums - функция активации слоя\n",
    "    self.activation_function_derivation: NumsToNums - производная функции активации слоя\n",
    "    \"\"\"\n",
    "\n",
    "    def __init__(\n",
    "        self,\n",
    "        filters_shape: Tuple[int, int, int, int],\n",
    "        strides: Tuple[int, int],\n",
    "        padding: Tuple[int, int],\n",
    "        activation_function: Tuple[\n",
    "            NumsToNums,\n",
    "            NumsToNums,\n",
    "        ],\n",
    "        shape: Tuple[int, int],\n",
    "        weights_initialize_function: Callable[[Tuple[int, int]], Nums] = None,\n",
    "    ) -> None:\n",
    "        if weights_initialize_function is None:\n",
    "            weights_initialize_function = np.random.random\n",
    "\n",
    "        self.num_filters = filters_shape[0]\n",
    "        self.weights = weights_initialize_function(filters_shape)\n",
    "        self.bias = weights_initialize_function((self.num_filters,))\n",
    "        self.activation_function = activation_function[0]\n",
    "        self.activation_function_derivation = activation_function[1]\n",
    "        self.strides = strides\n",
    "        self.padding = padding\n",
    "        self.input_shape = shape\n",
    "        self.input_shape_ravel = reduce(mul, shape)\n",
    "        \n",
    "        output_shape = (np.subtract(shape, filters_shape[-2:]) + strides) / strides\n",
    "        self.output_shape = tuple(np.floor(output_shape, casting='unsafe', dtype=int))\n",
    "\n",
    "        # Значения x и t, фиксируемые при forward, нужны для вычисления ошибки\n",
    "        self.cache = None\n",
    "        self._errors_log = ([], [])\n",
    "\n",
    "    def forward(self, x: Nums) -> Nums:\n",
    "        # x - размерность [NumFilters x M x N]\n",
    "            \n",
    "        t = np.zeros((self.num_filters, *self.output_shape))\n",
    "        \n",
    "        for i in range(self.num_filters):\n",
    "            t[i] = conv2d(x, self.weights[i], strides=self.strides, padding=self.padding) + self.bias[i]\n",
    "        \n",
    "        h = self.activation_function(t)\n",
    "        self.cache = (x, t)\n",
    "        return h\n",
    "\n",
    "    def backward(self, error: Nums) -> Nums:\n",
    "        \"\"\"\n",
    "        Обратное распространение ошибки\n",
    "        Запоминает производные ошибки, но не изменяет параметры модели\n",
    "        Для изменения нужно вызвать update\n",
    "        \"\"\"\n",
    "        x, t = self.cache\n",
    "        \n",
    "        # (5, 28, 28)\n",
    "        \n",
    "        de_dT = error * self.activation_function_derivation(t)\n",
    "        views = get_views(x, self.weights.shape[-2:], self.strides)\n",
    "        assert np.ndim(de_dT) == 3, f\"invalid shape, {de_dT.shape}\"\n",
    "        \n",
    "        de_dW = np.einsum('cijkl, oij->ockl', views, de_dT)\n",
    "        \n",
    "        de_dB = np.zeros_like(self.bias)\n",
    "        for i in range(len(de_dT)):\n",
    "            de_dB[i] = np.sum(de_dT[i])\n",
    "        \n",
    "        # print(de_dT.shape)\n",
    "        assert de_dT.shape == (self.num_filters, *self.output_shape)\n",
    "        \n",
    "        de_dX = np.zeros(x.shape)\n",
    "        views_to_write = get_views(de_dX, self.weights.shape[2:], self.strides)\n",
    "        views_to_read = get_views(x, self.weights.shape[2:], self.strides)\n",
    "\n",
    "        for c in range(len(de_dT)):\n",
    "            for i in range(views_to_read.shape[1]):\n",
    "                for j in range(views_to_read.shape[2]):\n",
    "                    views_to_write[:, i, j] += de_dT[c, i, j] * self.weights[c]\n",
    "        \n",
    "        self._errors_log[0].append(de_dW)\n",
    "        self._errors_log[1].append(de_dB)\n",
    "        return de_dX\n",
    "\n",
    "    def update(self, learning_rate: float):\n",
    "        \"\"\"\n",
    "        Модифицирует веса модели\n",
    "        learning_rate: float, [0, 1] - на сколько сильно модель будет реагировать на ошибку\n",
    "        \"\"\"\n",
    "        de_dWs, de_dBs = self._errors_log\n",
    "        de_dW = np.sum(de_dWs, axis=0)\n",
    "        de_dB = np.sum(de_dBs, axis=0)\n",
    "\n",
    "        self.optimizer.step(self.weights, self.bias, learning_rate, de_dW, de_dB)\n",
    "\n",
    "        self._errors_log = ([], [])\n",
    "\n",
    "    def set_optimizer(self, optimizer: OptimizerBase):\n",
    "        optimizer.init_params(self.weights, self.bias)\n",
    "        self.optimizer = optimizer\n",
    "\n",
    "    def __repr__(self) -> str:\n",
    "        return f\"<Conv2dLayer, {self.weights.shape}>\"\n"
   ]
  },
  {
   "cell_type": "code",
   "execution_count": 8,
   "metadata": {},
   "outputs": [],
   "source": [
    "class FlattenLayer:\n",
    "    def __init__(self, input_size):\n",
    "        self.input_size = input_size\n",
    "    \n",
    "    def forward(self, x: Nums) -> Nums:\n",
    "        return x.reshape((1, x.size))\n",
    "    \n",
    "    def backward(self, error: Nums) -> Nums:\n",
    "        return error.reshape(self.input_size)\n",
    "    \n",
    "    def set_optimizer(self, optimizer):\n",
    "        pass\n",
    "    \n",
    "    def update(self, lr):\n",
    "        pass"
   ]
  },
  {
   "cell_type": "code",
   "execution_count": 83,
   "metadata": {},
   "outputs": [
    {
     "name": "stdout",
     "output_type": "stream",
     "text": [
      "(1, 28, 28)\n",
      "(3, 24, 24)\n",
      "(3, 12, 12)\n",
      "(3, 10, 10)\n",
      "(3, 5, 5)\n",
      "(1, 75)\n",
      "(1, 10)\n",
      "Backwards\n",
      "mnn (1, 75)\n",
      "unflatten (3, 5, 5)\n",
      "pool2 (3, 10, 10)\n",
      "conv2 (3, 12, 12)\n",
      "pool1 (3, 24, 24)\n",
      "conv1 (1, 28, 28)\n"
     ]
    }
   ],
   "source": [
    "from nn.functions import relu, drelu\n",
    "\n",
    "# conv1 = Conv2DLayer((5, 3, 3), (1, 1), (1, 1), (relu, drelu), (28, 28))\n",
    "# pool1 = MaxPool2DLayer((2, 2), (2, 2), (28, 28))\n",
    "# # conv2 = Conv2DLayer((3, 3, 3), (1, 1), (1, 1), (relu, drelu), (14, 14))\n",
    "# flat1 = FlattenLayer((5, 14, 14))\n",
    "# mnn1 = Layer(5 * 14 * 14, 10, (softmax, lambda x: x),\n",
    "#     weights_initialize_function=lambda shape: np.random.random(shape) * 0.01)\n",
    "\n",
    "\n",
    "\n",
    "conv1 = Conv2DLayer((3, 1, 5, 5), (1, 1), (0, 0), (relu, drelu), (28, 28),\n",
    "                    weights_initialize_function=lambda shape: np.random.random(shape) * 0.01)\n",
    "pool1 = MaxPool2DLayer((2, 2), (2, 2), (3, 24, 24))\n",
    "conv2 = Conv2DLayer((3, 3, 3, 3), (1, 1), (0, 0), (relu, drelu), (12, 12),\n",
    "            weights_initialize_function=lambda shape: np.random.random(shape) * 0.01)\n",
    "pool2 = MaxPool2DLayer((2, 2), (2, 2), (3, 10, 10))\n",
    "flat1 = FlattenLayer((3, 5, 5))\n",
    "mnn1 = Layer(3 * 5 * 5, 10, (softmax, lambda x: x),\n",
    "    weights_initialize_function=lambda shape: np.random.random(shape) * 0.01,\n",
    ")\n",
    "\n",
    "the_y = train_x[0].reshape((1, 28, 28))\n",
    "\n",
    "true_y = train_y[0]\n",
    "\n",
    "print(the_y.shape)\n",
    "\n",
    "conv1_t = the_y\n",
    "the_y = conv1.forward(the_y)\n",
    "print(the_y.shape)\n",
    "\n",
    "the_y = pool1.forward(the_y)\n",
    "print(the_y.shape)\n",
    "\n",
    "the_y = conv2.forward(the_y)\n",
    "print(the_y.shape)\n",
    "\n",
    "the_y = pool2.forward(the_y)\n",
    "print(the_y.shape)\n",
    "\n",
    "the_y = flat1.forward(the_y)\n",
    "print(the_y.shape)\n",
    "\n",
    "the_y = mnn1.forward(the_y)\n",
    "print(the_y.shape)\n",
    "\n",
    "print(\"Backwards\")\n",
    "\n",
    "error = the_y - true_y\n",
    "\n",
    "grad_mnn = mnn1.backward(error)\n",
    "print(\"mnn\", grad_mnn.shape)\n",
    "\n",
    "grad_unflatten = flat1.backward(grad_mnn)\n",
    "print(\"unflatten\", grad_unflatten.shape)\n",
    "\n",
    "grad_pool2 = pool2.backward(grad_unflatten)\n",
    "print(\"pool2\", grad_pool2.shape)\n",
    "\n",
    "de_dW2 = conv2.backward(grad_pool2)\n",
    "print(\"conv2\", de_dW2.shape)\n",
    "\n",
    "grad_pool1 = pool1.backward(de_dW2)\n",
    "print(\"pool1\", grad_pool1.shape)\n",
    "\n",
    "de_dW1 = conv1.backward(grad_pool1)\n",
    "print(\"conv1\", de_dW1.shape)\n",
    "# the_y = Conv2DLayer((3, 3, 3), (1, 1), (1, 1), (relu, drelu), (14, 14)).forward(the_y)\n",
    "# print(the_y.shape)"
   ]
  },
  {
   "cell_type": "code",
   "execution_count": 65,
   "metadata": {},
   "outputs": [],
   "source": [
    "from nn import NN, Layer\n",
    "from nn.functions import cross_entropy, dsigmoid, sigmoid, softmax"
   ]
  },
  {
   "cell_type": "code",
   "execution_count": 145,
   "metadata": {},
   "outputs": [],
   "source": [
    "# expected 95%\n",
    "from sklearn.metrics import root_mean_squared_error\n",
    "\n",
    "\n",
    "network = NN(\n",
    "    [\n",
    "        # MaxPool2DLayer((2, 2), (2, 2), (24, 24)),\n",
    "        # Conv2DLayer((3, 3, 3), (1, 1), (0, 0), (sigmoid, dsigmoid), (28, 28)),\n",
    "        # Conv2DLayer((3, 1, 5, 5), (1, 1), (0, 0), (relu, drelu), (28, 28),\n",
    "        #             weights_initialize_function=lambda shape: np.random.random(shape) * 0.01),\n",
    "        # MaxPool2DLayer((2, 2), (2, 2), (3, 24, 24)),\n",
    "\n",
    "        Conv2DLayer((32, 1, 3, 3), (1, 1), (0, 0), (relu, drelu), (28, 28),\n",
    "                    weights_initialize_function=lambda shape: np.random.random(shape) * 0.01),\n",
    "    \n",
    "        MaxPool2DLayer((2, 2), (2, 2), (2, 26, 26)),\n",
    "        \n",
    "        Conv2DLayer((32, 32, 3, 3), (1, 1), (0, 0), (relu, drelu), (13, 13),\n",
    "                    weights_initialize_function=lambda shape: np.random.random(shape) * 0.01),\n",
    "        MaxPool2DLayer((2, 2), (2, 2), (32, 11, 11)),\n",
    "        \n",
    "        Conv2DLayer((12, 32, 3, 3), (1, 1), (0, 0), (relu, drelu), (5, 5),\n",
    "                    weights_initialize_function=lambda shape: np.random.random(shape) * 0.01),\n",
    "        FlattenLayer((12, 3, 3)),\n",
    "        \n",
    "        # FlattenLayer((1, 28, 28)),\n",
    "        # Layer(784, 64, (relu, drelu), weights_initialize_function=lambda shape: np.random.random(shape) * 0.01,),\n",
    "        Layer(12 * 3 * 3, 10, (softmax, lambda x: x),\n",
    "            weights_initialize_function=lambda shape: np.random.random(shape) * 0.01,\n",
    "        ),\n",
    "    ],\n",
    "    loss_function=cross_entropy,\n",
    ")\n",
    "\n",
    "loss_history = []"
   ]
  },
  {
   "cell_type": "code",
   "execution_count": 146,
   "metadata": {},
   "outputs": [
    {
     "data": {
      "text/plain": [
       "array([[0.100, 0.100, 0.100, 0.099, 0.101, 0.100, 0.100, 0.100, 0.100,\n",
       "        0.100]])"
      ]
     },
     "execution_count": 146,
     "metadata": {},
     "output_type": "execute_result"
    }
   ],
   "source": [
    "network.forward(train_x[0].reshape((1, 28, 28)))"
   ]
  },
  {
   "cell_type": "code",
   "execution_count": null,
   "metadata": {},
   "outputs": [
    {
     "name": "stderr",
     "output_type": "stream",
     "text": [
      "epoch: 1, loss: 57.5635668436:   0%|          | 1/1000 [00:18<5:06:25, 18.40s/it]"
     ]
    }
   ],
   "source": [
    "def train(\n",
    "    network: NN,\n",
    "    x: Nums,\n",
    "    y: Nums,\n",
    "    num_epoches: int,\n",
    "    learning_rate: float,\n",
    "    batch_size: int,\n",
    "    loss_history: list\n",
    "):\n",
    "    bar = tqdm(range(1, num_epoches + 1), total=num_epoches)\n",
    "    xy_indices = np.arange(len(x))\n",
    "    for epoch in bar:\n",
    "        network.predicted.clear()\n",
    "        # В каждой эпохе изменим порядок обучающего датасета\n",
    "        np.random.shuffle(xy_indices)\n",
    "\n",
    "        # size - размер выборки для эпохи, ставлю 1000, чтобы быстрее видеть результат\n",
    "        indices = np.random.choice(len(xy_indices), size=100, replace=False)\n",
    "\n",
    "        epoch_x = x[indices]\n",
    "        epoch_y = y[indices]\n",
    "        \n",
    "        network.train(\n",
    "            epoch_x,\n",
    "            epoch_y,\n",
    "            lambda: AdamOptimizer(0.4, 0.999),\n",
    "            learning_rate=learning_rate,\n",
    "            batch_size=batch_size,\n",
    "        )\n",
    "        \n",
    "        # Средний loss за эпоху\n",
    "        loss = network.pop_loss(np.mean)\n",
    "        loss_history.append(loss)\n",
    "\n",
    "        bar.set_description(\n",
    "            f\"epoch: {epoch}, loss: {loss:.10f}\"\n",
    "        )\n",
    "        network.losses.clear()\n",
    "    return loss_history\n",
    "\n",
    "\n",
    "loss_history = train(\n",
    "    network, train_x.reshape((60000, 1, 28, 28)), train_y, 1000, 0.0003, 25, loss_history\n",
    ")"
   ]
  },
  {
   "cell_type": "code",
   "execution_count": 133,
   "metadata": {},
   "outputs": [],
   "source": [
    "def show_multiple(images):\n",
    "    # plot images\n",
    "    fig, axes = plt.subplots(1, len(images), figsize=(1.5*len(images),2))\n",
    "    for i in range(len(images)):\n",
    "        ax = axes[i]\n",
    "        ax.imshow(images[i], cmap='gray')"
   ]
  },
  {
   "cell_type": "code",
   "execution_count": 135,
   "metadata": {},
   "outputs": [
    {
     "data": {
      "image/png": "[encoded data removed]",
      "text/plain": [
       "<Figure size 640x480 with 1 Axes>"
      ]
     },
     "metadata": {},
     "output_type": "display_data"
    },
    {
     "data": {
      "image/png": "[encoded data removed]",
      "text/plain": [
       "<Figure size 300x200 with 2 Axes>"
      ]
     },
     "metadata": {},
     "output_type": "display_data"
    },
    {
     "data": {
      "image/png": "[encoded data removed]",
      "text/plain": [
       "<Figure size 300x200 with 2 Axes>"
      ]
     },
     "metadata": {},
     "output_type": "display_data"
    },
    {
     "data": {
      "image/png": "[encoded data removed]",
      "text/plain": [
       "<Figure size 600x200 with 4 Axes>"
      ]
     },
     "metadata": {},
     "output_type": "display_data"
    }
   ],
   "source": [
    "sample = train_x[4].reshape((1, 28, 28))\n",
    "\n",
    "fig = plt.figure\n",
    "plt.imshow(sample[0], cmap='gray_r')\n",
    "plt.show()\n",
    "\n",
    "after_conv_1 = network.layers[0].forward(sample)\n",
    "show_multiple(after_conv_1)\n",
    "after_max = network.layers[1].forward(after_conv_1)\n",
    "show_multiple(after_max)\n",
    "after_conv_2 = network.layers[2].forward(after_max)\n",
    "show_multiple(after_conv_2)\n",
    "# after_max_2 = network.layers[3].forward(after_conv_2)\n",
    "# show_multiple(after_max_2)\n",
    "\n",
    "plt.tight_layout()\n",
    "plt.show()\n"
   ]
  },
  {
   "cell_type": "code",
   "execution_count": null,
   "metadata": {},
   "outputs": [],
   "source": [
    "def forward_conv(self, X):\n",
    "    \"\"\"\n",
    "        Performs a forward convolution.\n",
    "\n",
    "        Parameters:\n",
    "        - X : Last conv layer of shape (m, n_C_prev, n_H_prev, n_W_prev).\n",
    "\n",
    "        Returns:\n",
    "        - out: output of convolution.\n",
    "    \"\"\"\n",
    "    self.cache = X\n",
    "    m, n_C_prev, n_H_prev, n_W_prev = X.shape\n",
    "\n",
    "    # Define output size.\n",
    "    n_C = self.n_F\n",
    "    n_H = int((n_H_prev + 2 * self.p - self.f)/ self.s) + 1\n",
    "    n_W = int((n_W_prev + 2 * self.p - self.f)/ self.s) + 1\n",
    "\n",
    "    out = np.zeros((m, n_C, n_H, n_W))\n",
    "\n",
    "    for i in range(m): # For each image.\n",
    "\n",
    "        for c in range(n_C): # For each channel.\n",
    "\n",
    "            for h in range(n_H): # Slide the filter vertically.\n",
    "                h_start = h * self.s\n",
    "                h_end = h_start + self.f\n",
    "\n",
    "                for w in range(n_W): # Slide the filter horizontally.                \n",
    "                    w_start = w * self.s\n",
    "                    w_end = w_start + self.f\n",
    "\n",
    "                    # Element wise multiplication + sum.\n",
    "                    out[i, c, h, w] = np.sum(X[i, :, h_start:h_end, w_start:w_end] \n",
    "                                    * self.W['val'][c, ...]) + self.b['val'][c]\n",
    "    return out"
   ]
  },
  {
   "cell_type": "code",
   "execution_count": null,
   "metadata": {},
   "outputs": [],
   "source": [
    "def backward(self, dout):\n",
    "    \"\"\"\n",
    "        Distributes error from previous layer to convolutional layer and\n",
    "        compute error for the current convolutional layer.\n",
    "        Parameters:\n",
    "        - dout: error from previous layer.\n",
    "\n",
    "        Returns:\n",
    "        - deltaL: error of the current convolutional layer.\n",
    "    \"\"\"\n",
    "    X = self.cache\n",
    "\n",
    "    m, n_C, n_H, n_W = X.shape\n",
    "    m, n_C_dout, n_H_dout, n_W_dout = dout.shape\n",
    "\n",
    "    dX = np.zeros(X.shape)\n",
    "\n",
    "    #Compute dW.\n",
    "    for i in range(m): # For each example.\n",
    "\n",
    "        for c in range(n_C_dout): # For each channel.\n",
    "\n",
    "            for h in range(n_H_dout): # Slide the filter vertically.\n",
    "                h_start = h * self.s\n",
    "                h_end = h_start + self.f\n",
    "\n",
    "                for w in range(n_W_dout): #  Slide the filter horizontally.\n",
    "                    w_start = w * self.s\n",
    "                    w_end = w_start + self.f\n",
    "\n",
    "                    self.W['grad'][c, ...] += dout[i, c, h, w] * X[i, :, h_start:h_end, w_start:w_end]\n",
    "                    dX[i, :, h_start:h_end, w_start:w_end] += dout[i, c, h, w] * self.W['val'][c, ...]\n",
    "    #Compute db.\n",
    "    for c in range(self.n_F):\n",
    "        self.b['grad'][c, ...] = np.sum(dout[:, c, ...])\n",
    "\n",
    "    return dX, self.W['grad'], self.b['grad']"
   ]
  },
  {
   "cell_type": "code",
   "execution_count": null,
   "metadata": {},
   "outputs": [
    {
     "data": {
      "text/plain": [
       "(4, 2, 3, 3)"
      ]
     },
     "execution_count": 134,
     "metadata": {},
     "output_type": "execute_result"
    }
   ],
   "source": [
    "from numpy import flip\n",
    "\n",
    "\n",
    "class A:\n",
    "    pass\n",
    "\n",
    "weights = np.array([\n",
    "    [\n",
    "        [0, 1, 0],\n",
    "        [1, 0, 1],\n",
    "        [2, 1, 0]\n",
    "    ],\n",
    "    [\n",
    "        [0, 1, 0],\n",
    "        [1, 0, 1],\n",
    "        [2, 1, 0]\n",
    "    ]\n",
    "])\n",
    "\n",
    "weights = np.array([weights, flip(weights), weights, flip(weights)])\n",
    "bias = np.ones((len(weights),))\n",
    "\n",
    "obj = A()\n",
    "obj.n_F = 4  # num filters\n",
    "obj.s = 1  # strides\n",
    "obj.f = 3  # kernel shape\n",
    "obj.p = 0  # padding\n",
    "obj.W = {'val': weights, 'grad': np.zeros_like(weights, dtype=np.float64)}\n",
    "obj.b = {'val': bias, 'grad': np.zeros_like(bias, dtype=np.float64)}\n",
    "weights.shape"
   ]
  },
  {
   "cell_type": "code",
   "execution_count": null,
   "metadata": {},
   "outputs": [
    {
     "name": "stdout",
     "output_type": "stream",
     "text": [
      "error_shape (1, 4, 3, 3)\n",
      "grad to prev layer\n",
      "(2, np.int64(3), np.int64(3), 3, 3)\n",
      "(200, 40, 8, 40, 8)\n",
      "(2, np.int64(3), np.int64(3), 3, 3)\n",
      "(200, 40, 8, 40, 8)\n",
      "(2, np.int64(3), np.int64(3), 3, 3)\n",
      "(200, 40, 8, 40, 8)\n",
      "(2, np.int64(3), np.int64(3), 3, 3)\n",
      "(200, 40, 8, 40, 8)\n",
      "(4, 3, 3)\n"
     ]
    }
   ],
   "source": [
    "test_a = np.array([\n",
    "    [\n",
    "        [0, 1, 2, 1, 0],\n",
    "        [4, 1, 0, 1, 0],\n",
    "        [2, 0, 1, 1, 1],\n",
    "        [1, 2, 3, 1, 0],\n",
    "        [0, 4, 3, 2, 0],\n",
    "    ],\n",
    "    np.flip(np.array([\n",
    "        [0, 1, 2, 1, 0],\n",
    "        [4, 1, 0, 1, 0],\n",
    "        [2, 0, 1, 1, 1],\n",
    "        [1, 2, 3, 1, 0],\n",
    "        [0, 4, 3, 2, 0],\n",
    "    ])),\n",
    "])\n",
    "# display(test_a)\n",
    "\n",
    "fwd = forward_conv(obj, test_a.reshape((1, 2, 5, 5)))\n",
    "# display(fwd, fwd.shape)\n",
    "\n",
    "y = relu(fwd)\n",
    "\n",
    "error = np.random.randint(1, 100, size=y.shape)\n",
    "# error = np.ones_like(y)[0]\n",
    "print(\"error_shape\", error.shape)\n",
    "\n",
    "de_dT = error * drelu(fwd)\n",
    "\n",
    "print(\"grad to prev layer\")\n",
    "dx_true, dw_true, db_true = backward(obj, de_dT)\n",
    "# de_dT = de_dT[0]\n",
    "\n",
    "l = Conv2DLayer((4, 3, 3), (1, 1), (0, 0), (relu, drelu), (5, 5))\n",
    "l.weights = weights\n",
    "l.bias = obj.b['val']\n",
    "q = l.forward(test_a.reshape(2, 5, 5))\n",
    "# print(\"shape\", error.shape)\n",
    "dx = l.backward(error)\n",
    "dw, db = l._errors_log"
   ]
  },
  {
   "cell_type": "code",
   "execution_count": null,
   "metadata": {},
   "outputs": [
    {
     "data": {
      "text/plain": [
       "array([[[1.000, 0.000, 0.000],\n",
       "        [0.000, 0.000, 0.000],\n",
       "        [0.000, 0.000, 0.000]],\n",
       "\n",
       "       [[0.000, 1.000, 0.000],\n",
       "        [0.000, 0.000, 0.000],\n",
       "        [0.000, 0.000, 0.000]],\n",
       "\n",
       "       [[1.000, 0.000, 0.000],\n",
       "        [0.000, 0.000, 0.000],\n",
       "        [0.000, 0.000, 0.000]],\n",
       "\n",
       "       [[0.000, 1.000, 0.000],\n",
       "        [0.000, 0.000, 0.000],\n",
       "        [0.000, 0.000, 0.000]]])"
      ]
     },
     "execution_count": 211,
     "metadata": {},
     "output_type": "execute_result"
    }
   ],
   "source": [
    "layer = MaxPool2DLayer((2, 2), (2, 2), (4, 3, 3))\n",
    "pooled = layer.forward(q)\n",
    "layer.backward(np.ones_like(pooled))\n",
    "# views = get_views(q, (2, 2), (2, 2))\n",
    "# t = np.max(views, axis=(-2, -1))\n",
    "\n",
    "# pooled, pooled.shape, views.shape"
   ]
  },
  {
   "cell_type": "code",
   "execution_count": null,
   "metadata": {},
   "outputs": [
    {
     "data": {
      "text/plain": [
       "array([[[1.000]],\n",
       "\n",
       "       [[1.000]],\n",
       "\n",
       "       [[1.000]],\n",
       "\n",
       "       [[1.000]]])"
      ]
     },
     "execution_count": 195,
     "metadata": {},
     "output_type": "execute_result"
    }
   ],
   "source": [
    "error = np.ones_like(pooled)\n",
    "error"
   ]
  },
  {
   "cell_type": "code",
   "execution_count": null,
   "metadata": {},
   "outputs": [
    {
     "data": {
      "text/plain": [
       "(4, 1, 1, 2, 2)"
      ]
     },
     "execution_count": 197,
     "metadata": {},
     "output_type": "execute_result"
    }
   ],
   "source": [
    "views.shape"
   ]
  },
  {
   "cell_type": "code",
   "execution_count": null,
   "metadata": {},
   "outputs": [
    {
     "data": {
      "text/plain": [
       "array([[[1.000, 0.000, 0.000],\n",
       "        [0.000, 0.000, 0.000],\n",
       "        [0.000, 0.000, 0.000]],\n",
       "\n",
       "       [[0.000, 1.000, 0.000],\n",
       "        [0.000, 0.000, 0.000],\n",
       "        [0.000, 0.000, 0.000]],\n",
       "\n",
       "       [[1.000, 0.000, 0.000],\n",
       "        [0.000, 0.000, 0.000],\n",
       "        [0.000, 0.000, 0.000]],\n",
       "\n",
       "       [[0.000, 1.000, 0.000],\n",
       "        [0.000, 0.000, 0.000],\n",
       "        [0.000, 0.000, 0.000]]])"
      ]
     },
     "execution_count": 207,
     "metadata": {},
     "output_type": "execute_result"
    }
   ],
   "source": [
    "de_dX = np.zeros((4, 3, 3))\n",
    "views_to_write = get_views(de_dX, (2, 2), (2, 2))\n",
    "views_to_read = get_views(q, (2, 2), (2, 2))\n",
    "\n",
    "for c in range(len(views_to_read)):\n",
    "    for i in range(views_to_read.shape[1]):\n",
    "        for j in range(views_to_read.shape[2]):\n",
    "            idx = np.argmax(views_to_read[c, i, j])\n",
    "            views_to_write[c, i, j][np.unravel_index(idx, (2, 2))] += error[c, i, j]\n",
    "\n",
    "de_dX"
   ]
  },
  {
   "cell_type": "code",
   "execution_count": null,
   "metadata": {},
   "outputs": [
    {
     "data": {
      "text/plain": [
       "array([[[[703.000, 514.000, 350.000],\n",
       "         [965.000, 674.000, 465.000],\n",
       "         [1143.000, 1007.000, 780.000]],\n",
       "\n",
       "        [[734.000, 883.000, 826.000],\n",
       "         [507.000, 465.000, 909.000],\n",
       "         [371.000, 575.000, 763.000]]],\n",
       "\n",
       "\n",
       "       [[[536.000, 344.000, 219.000],\n",
       "         [432.000, 571.000, 378.000],\n",
       "         [962.000, 910.000, 597.000]],\n",
       "\n",
       "        [[716.000, 980.000, 515.000],\n",
       "         [588.000, 367.000, 437.000],\n",
       "         [286.000, 358.000, 711.000]]],\n",
       "\n",
       "\n",
       "       [[[784.000, 582.000, 542.000],\n",
       "         [1162.000, 664.000, 598.000],\n",
       "         [1088.000, 1180.000, 902.000]],\n",
       "\n",
       "        [[678.000, 1002.000, 1289.000],\n",
       "         [403.000, 677.000, 1069.000],\n",
       "         [467.000, 632.000, 647.000]]],\n",
       "\n",
       "\n",
       "       [[[502.000, 463.000, 322.000],\n",
       "         [613.000, 371.000, 271.000],\n",
       "         [680.000, 650.000, 440.000]],\n",
       "\n",
       "        [[686.000, 958.000, 845.000],\n",
       "         [469.000, 628.000, 773.000],\n",
       "         [405.000, 330.000, 458.000]]]])"
      ]
     },
     "execution_count": 133,
     "metadata": {},
     "output_type": "execute_result"
    }
   ],
   "source": [
    "obj.W['grad'] = np.zeros_like(obj.W['val'], dtype=np.float64)\n",
    "obj.b['grad'] = np.zeros_like(obj.b['val'], dtype=np.float64)\n",
    "_, dw, _ = backward(obj, de_dT)\n",
    "dw"
   ]
  },
  {
   "cell_type": "code",
   "execution_count": null,
   "metadata": {},
   "outputs": [
    {
     "data": {
      "text/plain": [
       "((1, 4, 3, 3), (4, 2, 3, 3))"
      ]
     },
     "execution_count": 74,
     "metadata": {},
     "output_type": "execute_result"
    }
   ],
   "source": [
    "de_dT.shape, weights.shape"
   ]
  },
  {
   "cell_type": "code",
   "execution_count": null,
   "metadata": {},
   "outputs": [
    {
     "data": {
      "text/plain": [
       "array([[[0.000, 234.000, 376.000, 331.000, 296.000],\n",
       "        [234.000, 345.000, 917.000, 595.000, 355.000],\n",
       "        [437.000, 838.000, 946.000, 985.000, 413.000],\n",
       "        [470.000, 697.000, 1010.000, 351.000, 260.000],\n",
       "        [256.000, 270.000, 458.000, 260.000, 0.000]],\n",
       "\n",
       "       [[0.000, 234.000, 376.000, 331.000, 296.000],\n",
       "        [234.000, 345.000, 917.000, 595.000, 355.000],\n",
       "        [437.000, 838.000, 946.000, 985.000, 413.000],\n",
       "        [470.000, 697.000, 1010.000, 351.000, 260.000],\n",
       "        [256.000, 270.000, 458.000, 260.000, 0.000]]])"
      ]
     },
     "execution_count": 98,
     "metadata": {},
     "output_type": "execute_result"
    }
   ],
   "source": [
    "de_dX = np.zeros(test_a.shape)\n",
    "views_to_write = get_views(de_dX, weights.shape[2:], (1, 1))\n",
    "views_to_read = get_views(test_a, weights.shape[2:], (1, 1))\n",
    "\n",
    "for c in range(len(de_dT[0])):\n",
    "    for i in range(views_to_read.shape[1]):\n",
    "        for j in range(views_to_read.shape[2]):\n",
    "            views_to_write[:, i, j] += de_dT[0, c, i, j] * weights[c]\n",
    "\n",
    "de_dX"
   ]
  },
  {
   "cell_type": "code",
   "execution_count": null,
   "metadata": {},
   "outputs": [
    {
     "ename": "ValueError",
     "evalue": "operands could not be broadcast together with shapes (4,) (4,2,3,3) ",
     "output_type": "error",
     "traceback": [
      "\u001b[0;31m---------------------------------------------------------------------------\u001b[0m",
      "\u001b[0;31mValueError\u001b[0m                                Traceback (most recent call last)",
      "Cell \u001b[0;32mIn[100], line 7\u001b[0m\n\u001b[1;32m      5\u001b[0m \u001b[38;5;28;01mfor\u001b[39;00m i \u001b[38;5;129;01min\u001b[39;00m \u001b[38;5;28mrange\u001b[39m(views_to_read\u001b[38;5;241m.\u001b[39mshape[\u001b[38;5;241m1\u001b[39m]):\n\u001b[1;32m      6\u001b[0m     \u001b[38;5;28;01mfor\u001b[39;00m j \u001b[38;5;129;01min\u001b[39;00m \u001b[38;5;28mrange\u001b[39m(views_to_read\u001b[38;5;241m.\u001b[39mshape[\u001b[38;5;241m2\u001b[39m]):\n\u001b[0;32m----> 7\u001b[0m         views_to_write[:, i, j] \u001b[38;5;241m+\u001b[39m\u001b[38;5;241m=\u001b[39m \u001b[43mde_dT\u001b[49m\u001b[43m[\u001b[49m\u001b[38;5;241;43m0\u001b[39;49m\u001b[43m,\u001b[49m\u001b[43m \u001b[49m\u001b[43m:\u001b[49m\u001b[43m,\u001b[49m\u001b[43m \u001b[49m\u001b[43mi\u001b[49m\u001b[43m,\u001b[49m\u001b[43m \u001b[49m\u001b[43mj\u001b[49m\u001b[43m]\u001b[49m\u001b[43m \u001b[49m\u001b[38;5;241;43m*\u001b[39;49m\u001b[43m \u001b[49m\u001b[43mweights\u001b[49m\u001b[43m[\u001b[49m\u001b[43m:\u001b[49m\u001b[43m]\u001b[49m\n\u001b[1;32m      9\u001b[0m de_dX\n",
      "\u001b[0;31mValueError\u001b[0m: operands could not be broadcast together with shapes (4,) (4,2,3,3) "
     ]
    }
   ],
   "source": [
    "de_dX = np.zeros(test_a.shape)\n",
    "views_to_write = get_views(de_dX, weights.shape[2:], (1, 1))\n",
    "views_to_read = get_views(test_a, weights.shape[2:], (1, 1))\n",
    "\n",
    "for i in range(views_to_read.shape[1]):\n",
    "    for j in range(views_to_read.shape[2]):\n",
    "        views_to_write[:, i, j] += de_dT[0, :, i, j] * weights[:]\n",
    "\n",
    "de_dX"
   ]
  },
  {
   "cell_type": "code",
   "execution_count": null,
   "metadata": {},
   "outputs": [],
   "source": [
    "w0 = weights[0]"
   ]
  },
  {
   "cell_type": "code",
   "execution_count": null,
   "metadata": {},
   "outputs": [
    {
     "name": "stdout",
     "output_type": "stream",
     "text": [
      "(2, 5, 5, 3, 3)\n"
     ]
    },
    {
     "data": {
      "text/plain": [
       "array([[[   0,  260,  148,  200,    0],\n",
       "        [ 260,  351,  758,  375,  200],\n",
       "        [ 723, 1055, 1096,  732,  227],\n",
       "        [ 607,  917, 1187,  345,  234],\n",
       "        [ 402,  437,  586,  234,    0]],\n",
       "\n",
       "       [[   0,  260,  148,  200,    0],\n",
       "        [ 260,  351,  758,  375,  200],\n",
       "        [ 723, 1055, 1096,  732,  227],\n",
       "        [ 607,  917, 1187,  345,  234],\n",
       "        [ 402,  437,  586,  234,    0]]])"
      ]
     },
     "execution_count": 84,
     "metadata": {},
     "output_type": "execute_result"
    }
   ],
   "source": [
    "views = get_views(add_padding(w0, (2, 2)), (3, 3), (1, 1))\n",
    "print(views.shape)\n",
    "# out = np.zeros((2, 5, 5))\n",
    "\n",
    "# for c in range(len(de_dT[0])):\n",
    "#     for i in range(views.shape[1]):\n",
    "#         for j in range(views.shape[2]):\n",
    "#             out[c, ...] += views[:, i, j] * de_dT[0, c, i, j]\n",
    "# out\n",
    "np.einsum('cijkl, okl->cij', views, de_dT[0])\n",
    "# print(views.shape, de_dT[0].shape)\n",
    "# out, out.shape"
   ]
  },
  {
   "cell_type": "code",
   "execution_count": null,
   "metadata": {},
   "outputs": [
    {
     "data": {
      "text/plain": [
       "(2, 3, 3, 3, 3)"
      ]
     },
     "execution_count": 58,
     "metadata": {},
     "output_type": "execute_result"
    }
   ],
   "source": [
    "views.shape"
   ]
  },
  {
   "cell_type": "code",
   "execution_count": null,
   "metadata": {},
   "outputs": [
    {
     "name": "stdout",
     "output_type": "stream",
     "text": [
      "448\n",
      "436\n",
      "527\n",
      "427\n"
     ]
    },
    {
     "data": {
      "text/plain": [
       "array([[190, 165, 133],\n",
       "       [231, 151, 286],\n",
       "       [221, 186, 275]])"
      ]
     },
     "execution_count": 46,
     "metadata": {},
     "output_type": "execute_result"
    }
   ],
   "source": [
    "for c in range(len(de_dT[0])):\n",
    "    print(np.sum(de_dT[0, c]))\n",
    "\n",
    "np.sum(de_dT[0], axis=0)"
   ]
  },
  {
   "cell_type": "code",
   "execution_count": null,
   "metadata": {},
   "outputs": [
    {
     "name": "stdout",
     "output_type": "stream",
     "text": [
      "(2, 3, 3, 3, 3) (4, 3, 3)\n"
     ]
    },
    {
     "data": {
      "text/plain": [
       "(array([[[[639.000, 411.000, 234.000],\n",
       "          [635.000, 495.000, 400.000],\n",
       "          [871.000, 874.000, 608.000]],\n",
       " \n",
       "         [[676.000, 787.000, 686.000],\n",
       "          [466.000, 432.000, 679.000],\n",
       "          [305.000, 417.000, 622.000]]],\n",
       " \n",
       " \n",
       "        [[[535.000, 380.000, 296.000],\n",
       "          [741.000, 411.000, 320.000],\n",
       "          [869.000, 732.000, 466.000]],\n",
       " \n",
       "         [[601.000, 762.000, 799.000],\n",
       "          [359.000, 412.000, 809.000],\n",
       "          [332.000, 362.000, 615.000]]],\n",
       " \n",
       " \n",
       "        [[[514.000, 378.000, 413.000],\n",
       "          [823.000, 756.000, 587.000],\n",
       "          [1157.000, 1211.000, 701.000]],\n",
       " \n",
       "         [[694.000, 793.000, 748.000],\n",
       "          [353.000, 376.000, 770.000],\n",
       "          [378.000, 536.000, 799.000]]],\n",
       " \n",
       " \n",
       "        [[[535.000, 462.000, 435.000],\n",
       "          [892.000, 373.000, 375.000],\n",
       "          [576.000, 674.000, 592.000]],\n",
       " \n",
       "         [[449.000, 728.000, 1049.000],\n",
       "          [240.000, 609.000, 864.000],\n",
       "          [360.000, 425.000, 343.000]]]]),\n",
       " (4, 2, 3, 3))"
      ]
     },
     "execution_count": 22,
     "metadata": {},
     "output_type": "execute_result"
    }
   ],
   "source": [
    "views = get_views(test_a, (3, 3), (1, 1))\n",
    "\n",
    "out = np.zeros((4, 2, 3, 3))\n",
    "\n",
    "for c in range(len(de_dT[0])):\n",
    "    for i in range(views.shape[1]):\n",
    "        for j in range(views.shape[2]):\n",
    "            out[c, ...] += views[:, i, j] * de_dT[0, c, i, j]\n",
    "out\n",
    "assert (np.einsum('cijkl, oij->ockl', views, de_dT[0]) == out).all()\n",
    "print(views.shape, de_dT[0].shape)\n",
    "out, out.shape"
   ]
  },
  {
   "cell_type": "code",
   "execution_count": null,
   "metadata": {},
   "outputs": [
    {
     "data": {
      "text/plain": [
       "array([[[[ 639,  411,  234],\n",
       "         [ 635,  495,  400],\n",
       "         [ 871,  874,  608]],\n",
       "\n",
       "        [[ 676,  787,  686],\n",
       "         [ 466,  432,  679],\n",
       "         [ 305,  417,  622]]],\n",
       "\n",
       "\n",
       "       [[[ 535,  380,  296],\n",
       "         [ 741,  411,  320],\n",
       "         [ 869,  732,  466]],\n",
       "\n",
       "        [[ 601,  762,  799],\n",
       "         [ 359,  412,  809],\n",
       "         [ 332,  362,  615]]],\n",
       "\n",
       "\n",
       "       [[[ 514,  378,  413],\n",
       "         [ 823,  756,  587],\n",
       "         [1157, 1211,  701]],\n",
       "\n",
       "        [[ 694,  793,  748],\n",
       "         [ 353,  376,  770],\n",
       "         [ 378,  536,  799]]],\n",
       "\n",
       "\n",
       "       [[[ 535,  462,  435],\n",
       "         [ 892,  373,  375],\n",
       "         [ 576,  674,  592]],\n",
       "\n",
       "        [[ 449,  728, 1049],\n",
       "         [ 240,  609,  864],\n",
       "         [ 360,  425,  343]]]])"
      ]
     },
     "execution_count": 24,
     "metadata": {},
     "output_type": "execute_result"
    }
   ],
   "source": [
    "np.einsum('cijkl, oij->ockl', views, de_dT[0])"
   ]
  },
  {
   "cell_type": "code",
   "execution_count": null,
   "metadata": {},
   "outputs": [],
   "source": [
    "# def add_padding(x: Nums, padding: Tuple[int, int]) -> Nums:\n",
    "#     # accepts 3d array\n",
    "#     return np.pad(x, ((0, 0), (padding[1], padding[1]), (padding[0], padding[0])))\n",
    "\n",
    "# def conv2d(x: Nums, filters: Nums, strides: Tuple[int, int]=(1, 1), padding: Tuple[int, int]=(0, 0)) -> Nums:\n",
    "#     \"\"\"2д свёртка\n",
    "\n",
    "#     Args:\n",
    "#         x (Nums): Входной массив, 3d\n",
    "#         filters (Nums): Ядра свёртки, 3d\n",
    "#         strides (Tuple[int, int], optional): Шаги свёртки по x и y. Defaults to (1, 1).\n",
    "#         padding (Tuple[int, int], optional): Отступы по x и y. Defaults to (1, 1).\n",
    "\n",
    "#     Returns:\n",
    "#         Nums: Результат свёртки\n",
    "#     \"\"\"\n",
    "#     assert x.shape[0] == filters.shape[0], f\"num channels must be the same, {x.shape[0]} != {filters.shape[0]}\"\n",
    "#     if padding != (0, 0):\n",
    "#         x = add_padding(x, padding)\n",
    "    \n",
    "#     # x - кол-во каналов, x, y\n",
    "#     # filters - кол-во каналов, x, y\n",
    "    \n",
    "#     output_shape = (np.subtract(x.shape[-2:], filters.shape[-2:]) + strides) / strides\n",
    "#     output_shape = tuple(np.floor(output_shape, casting='unsafe', dtype=int))\n",
    "    \n",
    "#     # (num_channels) x (output_shape) x (filter size)\n",
    "#     views_shape = (x.shape[0],) + output_shape + filters.shape[-2:]\n",
    "    \n",
    "#     print(views_shape)\n",
    "#     # 2 x 3 x 3\n",
    "    \n",
    "#     channel_strides, row_strides, col_strides = x.strides\n",
    "#     print((channel_strides, row_strides * strides[0], col_strides * strides[1], row_strides, col_strides))\n",
    "    \n",
    "#     views = np.lib.stride_tricks.as_strided(\n",
    "#         x, shape=views_shape, strides=(channel_strides, row_strides * strides[0], col_strides * strides[1], row_strides, col_strides)\n",
    "#         )\n",
    "#     # print(views, views.shape)\n",
    "#     return np.einsum('cijkl, ckl -> ij', views, filters)"
   ]
  },
  {
   "cell_type": "code",
   "execution_count": null,
   "metadata": {},
   "outputs": [
    {
     "data": {
      "text/plain": [
       "(2, 5, 5)"
      ]
     },
     "execution_count": 26,
     "metadata": {},
     "output_type": "execute_result"
    }
   ],
   "source": [
    "# Допустим есть 2 канала 5 на 5\n",
    "test_a.shape"
   ]
  },
  {
   "cell_type": "code",
   "execution_count": null,
   "metadata": {},
   "outputs": [
    {
     "data": {
      "text/plain": [
       "(2, 2, 3, 3)"
      ]
     },
     "execution_count": 137,
     "metadata": {},
     "output_type": "execute_result"
    }
   ],
   "source": [
    "# Допустим есть 2 фильтра (2x3x3)\n",
    "weights.shape"
   ]
  },
  {
   "cell_type": "code",
   "execution_count": null,
   "metadata": {},
   "outputs": [
    {
     "name": "stdout",
     "output_type": "stream",
     "text": [
      "(2, np.int64(3), np.int64(3), 3, 3)\n",
      "(200, 40, 8, 40, 8)\n",
      "(2, np.int64(3), np.int64(3), 3, 3)\n",
      "(200, 40, 8, 40, 8)\n",
      "(2, np.int64(3), np.int64(3), 3, 3)\n",
      "(200, 40, 8, 40, 8)\n"
     ]
    },
    {
     "ename": "IndexError",
     "evalue": "index 2 is out of bounds for axis 0 with size 2",
     "output_type": "error",
     "traceback": [
      "\u001b[0;31m---------------------------------------------------------------------------\u001b[0m",
      "\u001b[0;31mIndexError\u001b[0m                                Traceback (most recent call last)",
      "Cell \u001b[0;32mIn[27], line 4\u001b[0m\n\u001b[1;32m      1\u001b[0m output \u001b[38;5;241m=\u001b[39m np\u001b[38;5;241m.\u001b[39mzeros((\u001b[38;5;241m2\u001b[39m, \u001b[38;5;241m3\u001b[39m, \u001b[38;5;241m3\u001b[39m))\n\u001b[1;32m      3\u001b[0m \u001b[38;5;28;01mfor\u001b[39;00m i \u001b[38;5;129;01min\u001b[39;00m \u001b[38;5;28mrange\u001b[39m(\u001b[38;5;28mlen\u001b[39m(weights)):\n\u001b[0;32m----> 4\u001b[0m     \u001b[43moutput\u001b[49m\u001b[43m[\u001b[49m\u001b[43mi\u001b[49m\u001b[43m]\u001b[49m \u001b[38;5;241m=\u001b[39m conv2d(test_a, weights[i], strides\u001b[38;5;241m=\u001b[39m(\u001b[38;5;241m1\u001b[39m, \u001b[38;5;241m1\u001b[39m), padding\u001b[38;5;241m=\u001b[39m(\u001b[38;5;241m0\u001b[39m, \u001b[38;5;241m0\u001b[39m))\n",
      "\u001b[0;31mIndexError\u001b[0m: index 2 is out of bounds for axis 0 with size 2"
     ]
    }
   ],
   "source": [
    "output = np.zeros((2, 3, 3))\n",
    "\n",
    "for i in range(len(weights)):\n",
    "    output[i] = conv2d(test_a, weights[i], strides=(1, 1), padding=(0, 0))"
   ]
  },
  {
   "cell_type": "code",
   "execution_count": null,
   "metadata": {},
   "outputs": [
    {
     "data": {
      "text/plain": [
       "array([[[17.000, 14.000, 14.000],\n",
       "        [12.000, 14.000, 16.000],\n",
       "        [10.000, 22.000, 21.000]],\n",
       "\n",
       "       [[21.000, 22.000, 10.000],\n",
       "        [16.000, 14.000, 12.000],\n",
       "        [14.000, 14.000, 17.000]]])"
      ]
     },
     "execution_count": 28,
     "metadata": {},
     "output_type": "execute_result"
    }
   ],
   "source": [
    "output"
   ]
  },
  {
   "cell_type": "code",
   "execution_count": 136,
   "metadata": {},
   "outputs": [
    {
     "data": {
      "image/png": "[encoded data removed]",
      "text/plain": [
       "<Figure size 640x480 with 1 Axes>"
      ]
     },
     "metadata": {},
     "output_type": "display_data"
    }
   ],
   "source": [
    "fig, ax = plt.subplots()\n",
    "\n",
    "ax.plot(loss_history)\n",
    "ax.set_xlabel(\"epoch\")\n",
    "ax.set_ylabel(\"loss\")\n",
    "ax.set_title(\"loss history\")\n",
    "plt.show()"
   ]
  },
  {
   "cell_type": "code",
   "execution_count": 137,
   "metadata": {},
   "outputs": [
    {
     "name": "stdout",
     "output_type": "stream",
     "text": [
      "              precision    recall  f1-score   support\n",
      "\n",
      "           0       0.90      0.97      0.94       980\n",
      "           1       0.87      0.97      0.92      1135\n",
      "           2       0.91      0.85      0.88      1032\n",
      "           3       0.67      0.94      0.78      1010\n",
      "           4       0.76      0.92      0.83       982\n",
      "           5       0.83      0.72      0.77       892\n",
      "           6       0.90      0.88      0.89       958\n",
      "           7       0.91      0.86      0.88      1028\n",
      "           8       0.89      0.62      0.73       974\n",
      "           9       0.91      0.68      0.78      1009\n",
      "\n",
      "    accuracy                           0.84     10000\n",
      "   macro avg       0.85      0.84      0.84     10000\n",
      "weighted avg       0.85      0.84      0.84     10000\n",
      "\n"
     ]
    },
    {
     "data": {
      "text/plain": [
       "<sklearn.metrics._plot.confusion_matrix.ConfusionMatrixDisplay at 0x7f86291f6120>"
      ]
     },
     "execution_count": 137,
     "metadata": {},
     "output_type": "execute_result"
    },
    {
     "data": {
      "image/png": "[encoded data removed]",
      "text/plain": [
       "<Figure size 640x480 with 2 Axes>"
      ]
     },
     "metadata": {},
     "output_type": "display_data"
    }
   ],
   "source": [
    "from sklearn.metrics import ConfusionMatrixDisplay\n",
    "\n",
    "y_pred = []\n",
    "for i in range(len(test_x)):\n",
    "    y_pred.append(network.forward(test_x[i].reshape((1, 28, 28)))[0])\n",
    "\n",
    "y_pred_classes = [x for x in np.argmax(y_pred, axis=1)]\n",
    "y_true_classes = [x for x in np.argmax(test_y, axis=1)]\n",
    "\n",
    "print(sklearn.metrics.classification_report(y_true_classes, y_pred_classes))\n",
    "ConfusionMatrixDisplay.from_predictions(y_true_classes, y_pred_classes)"
   ]
  }
 ],
 "metadata": {
  "kernelspec": {
   "display_name": "all_ai",
   "language": "python",
   "name": "python3"
  },
  "language_info": {
   "codemirror_mode": {
    "name": "ipython",
    "version": 3
   },
   "file_extension": ".py",
   "mimetype": "text/x-python",
   "name": "python",
   "nbconvert_exporter": "python",
   "pygments_lexer": "ipython3",
   "version": "3.12.7"
  }
 },
 "nbformat": 4,
 "nbformat_minor": 2
}
