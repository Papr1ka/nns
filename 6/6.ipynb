{
 "cells": [
  {
   "cell_type": "code",
   "execution_count": 6,
   "metadata": {},
   "outputs": [
    {
     "name": "stderr",
     "output_type": "stream",
     "text": [
      "2024-12-10 10:22:16.413229: E external/local_xla/xla/stream_executor/cuda/cuda_fft.cc:477] Unable to register cuFFT factory: Attempting to register factory for plugin cuFFT when one has already been registered\n",
      "WARNING: All log messages before absl::InitializeLog() is called are written to STDERR\n",
      "E0000 00:00:1733815336.433280   49961 cuda_dnn.cc:8310] Unable to register cuDNN factory: Attempting to register factory for plugin cuDNN when one has already been registered\n",
      "E0000 00:00:1733815336.439257   49961 cuda_blas.cc:1418] Unable to register cuBLAS factory: Attempting to register factory for plugin cuBLAS when one has already been registered\n",
      "2024-12-10 10:22:16.459159: I tensorflow/core/platform/cpu_feature_guard.cc:210] This TensorFlow binary is optimized to use available CPU instructions in performance-critical operations.\n",
      "To enable the following instructions: AVX2 FMA, in other operations, rebuild TensorFlow with the appropriate compiler flags.\n"
     ]
    }
   ],
   "source": [
    "from typing import Callable, Tuple\n",
    "\n",
    "from keras.datasets import mnist\n",
    "\n",
    "from matplotlib import pyplot as plt\n",
    "import numpy as np\n",
    "\n",
    "import sklearn.preprocessing\n",
    "import sklearn.metrics\n",
    "\n",
    "from tqdm import tqdm\n",
    "\n",
    "# Наши разработки из 3-ей работы))\n",
    "from nn import Nums\n",
    "from nn import NN, Layer\n",
    "from nn.functions import cross_entropy, dsigmoid, sigmoid, softmax\n",
    "from nn.optimizers import AdamOptimizer, OptimizerBase, NoOptimizer, RMSPropOptimizer\n",
    "\n",
    "type Nums = np.ndarray[np.number]\n",
    "type NumsToNums = Callable[[Nums], Nums]\n",
    "type NumsNumsToNums = Callable[[Nums, Nums], Nums]\n",
    "\n",
    "np.set_printoptions(formatter={\"float\": lambda x: \"{0:0.3f}\".format(x)})"
   ]
  },
  {
   "cell_type": "markdown",
   "metadata": {},
   "source": [
    "Загружаем датасет, one-hot-encoding для меток классов"
   ]
  },
  {
   "cell_type": "code",
   "execution_count": 7,
   "metadata": {},
   "outputs": [
    {
     "data": {
      "text/plain": [
       "((60000, 784), (60000, 10))"
      ]
     },
     "execution_count": 7,
     "metadata": {},
     "output_type": "execute_result"
    }
   ],
   "source": [
    "(train_x, train_y), (test_x, test_y) = mnist.load_data()\n",
    "\n",
    "train_x = train_x / 255\n",
    "test_x = test_x / 255\n",
    "\n",
    "train_x.resize(60000, 784)\n",
    "test_x.resize(10000, 784)\n",
    "\n",
    "encoder = sklearn.preprocessing.OneHotEncoder()\n",
    "train_y = encoder.fit_transform(train_y[..., None]).toarray()\n",
    "test_y = encoder.fit_transform(test_y[..., None]).toarray()\n",
    "\n",
    "train_x.shape, train_y.shape"
   ]
  },
  {
   "cell_type": "code",
   "execution_count": 8,
   "metadata": {},
   "outputs": [],
   "source": [
    "def add_padding(x: Nums, padding: Tuple[int, int]) -> Nums:\n",
    "    return np.pad(x, ((padding[1], padding[1]), (padding[0], padding[0])))\n",
    "\n",
    "def conv2d(x: Nums, filters: Nums, strides: Tuple[int, int]=(1, 1), padding: Tuple[int, int]=(0, 0)) -> Nums:\n",
    "    \"\"\"2д свёртка\n",
    "\n",
    "    Args:\n",
    "        x (Nums): Входной массив, 2d\n",
    "        filters (Nums): Ядра свёртки, 3d\n",
    "        strides (Tuple[int, int], optional): Шаги свёртки по x и y. Defaults to (1, 1).\n",
    "        padding (Tuple[int, int], optional): Отступы по x и y. Defaults to (1, 1).\n",
    "\n",
    "    Returns:\n",
    "        Nums: Результат свёртки\n",
    "    \"\"\"\n",
    "    if padding != (0, 0):\n",
    "        x = add_padding(x, padding)\n",
    "    \n",
    "    output_shape = (np.subtract(x.shape, filters.shape[-2:]) + strides) / strides\n",
    "    output_shape = tuple(np.floor(output_shape, casting='unsafe', dtype=int))\n",
    "    views_shape = output_shape + filters.shape[-2:]\n",
    "    \n",
    "    row_strides, col_strides = x.strides\n",
    "    \n",
    "    views = np.lib.stride_tricks.as_strided(\n",
    "        x, shape=views_shape, strides=(row_strides * strides[0], col_strides * strides[1], row_strides, col_strides)\n",
    "        )\n",
    "    return np.einsum('ijkl, qkl -> qij', views, filters)"
   ]
  },
  {
   "cell_type": "code",
   "execution_count": 9,
   "metadata": {},
   "outputs": [],
   "source": [
    "# for i in range(len(train_x)):\n",
    "#     y = conv2d(train_x[i].reshape((28, 28)), w, strides=(1, 1), padding=(1, 1))"
   ]
  },
  {
   "cell_type": "code",
   "execution_count": 10,
   "metadata": {},
   "outputs": [],
   "source": [
    "def get_views(x: Nums, window: Tuple[int, int], strides: Tuple[int, int]) -> Nums:\n",
    "    output_shape = (np.subtract(x.shape, window) + strides) / strides\n",
    "    output_shape = tuple(np.floor(output_shape, casting='unsafe', dtype=int))\n",
    "    \n",
    "    views_shape = output_shape + window\n",
    "    \n",
    "    row_strides, col_strides = x.strides\n",
    "    \n",
    "    views = np.lib.stride_tricks.as_strided(\n",
    "        x, shape=views_shape, strides=(row_strides * strides[0], col_strides * strides[1], row_strides, col_strides)\n",
    "    )\n",
    "    return views\n",
    "    "
   ]
  },
  {
   "cell_type": "code",
   "execution_count": 11,
   "metadata": {},
   "outputs": [],
   "source": [
    "def space_matrix(x, strides):\n",
    "    shape_x, shape_y = x.shape[-2:]\n",
    "    shape_x = (shape_x - 1) * strides[0] + 1\n",
    "    shape_y = (shape_y - 1) * strides[1] + 1\n",
    "    new_x = np.zeros((x.shape[:-2] + (shape_x, shape_y)))\n",
    "    new_x[..., ::strides[0], ::strides[1]] = x\n",
    "    return new_x"
   ]
  },
  {
   "cell_type": "code",
   "execution_count": 12,
   "metadata": {},
   "outputs": [],
   "source": [
    "class MaxPool2DLayer:\n",
    "    def __init__(\n",
    "        self,\n",
    "        window: Tuple[int, int],\n",
    "        strides: Tuple[int, int],\n",
    "        input_shape: Tuple[int, int, int]\n",
    "    ) -> None:\n",
    "        self.window = window\n",
    "        self.strides = strides\n",
    "        self.num_filters_in = input_shape[0]\n",
    "        self.input_shape = input_shape\n",
    "\n",
    "        output_shape = (np.subtract(input_shape[1:], window) + strides) / strides\n",
    "        self.output_shape = tuple(np.floor(output_shape, casting='unsafe', dtype=int))\n",
    "        self._calced = None\n",
    "\n",
    "    def forward(self, x: Nums) -> Nums:\n",
    "        # x - размерность [NumFilters x M x N]\n",
    "        \n",
    "        t = []\n",
    "        calced = []\n",
    "        \n",
    "        for i in range(len(x)):\n",
    "            views = get_views(x[i], self.window, self.strides)\n",
    "            out = np.max(views, axis=(-2, -1))\n",
    "            t.append(out)\n",
    "            calced.append(views)\n",
    "        \n",
    "        t = np.array(t).reshape((x.shape[0], *self.output_shape))\n",
    "        self._calced = calced\n",
    "        return t\n",
    "        \n",
    "    def backward(self, error: Nums) -> Nums:\n",
    "        # error - размерность [NumFilters x M x N]\n",
    "        views = self._calced\n",
    "        self._calced = None\n",
    "\n",
    "        out = np.zeros(self.input_shape)\n",
    "        \n",
    "        for k in range(len(error)):\n",
    "            de_dX_i_views = get_views(out[k], window=self.window, strides=self.strides)   \n",
    "            \n",
    "            views_i = views[k]\n",
    "\n",
    "            for i in range(views_i.shape[-4]):\n",
    "                for j in range(views_i.shape[-3]):\n",
    "                    max_index = np.argmax(views_i[i, j])\n",
    "                    de_dX_i_views[i, j][np.unravel_index(max_index, views_i.shape[-2:])] += error[k, i, j]\n",
    "            \n",
    "        return out\n",
    "\n",
    "    def update(self, learning_rate: float):\n",
    "        pass\n",
    "\n",
    "    def set_optimizer(self, optimizer: OptimizerBase):\n",
    "        pass\n",
    "\n",
    "    def __repr__(self) -> str:\n",
    "        return f\"<Pooling2dLayer>\"\n"
   ]
  },
  {
   "cell_type": "code",
   "execution_count": 13,
   "metadata": {},
   "outputs": [
    {
     "data": {
      "text/plain": [
       "array([[[28, 20,  2, 12, 12],\n",
       "        [14, 26, 11, 25, 12],\n",
       "        [21,  6,  4, 12, 22],\n",
       "        [15, 21, 15,  8, 14],\n",
       "        [27,  8,  9, 13, 17]]])"
      ]
     },
     "metadata": {},
     "output_type": "display_data"
    },
    {
     "data": {
      "text/plain": [
       "array([[[28, 26, 25],\n",
       "        [26, 26, 25],\n",
       "        [27, 21, 22]]])"
      ]
     },
     "metadata": {},
     "output_type": "display_data"
    },
    {
     "data": {
      "text/plain": [
       "array([[[1.000, 0.000, 0.000, 0.000, 0.000],\n",
       "        [0.000, 3.000, 0.000, 2.000, 0.000],\n",
       "        [0.000, 0.000, 0.000, 0.000, 1.000],\n",
       "        [0.000, 1.000, 0.000, 0.000, 0.000],\n",
       "        [1.000, 0.000, 0.000, 0.000, 0.000]]])"
      ]
     },
     "execution_count": 13,
     "metadata": {},
     "output_type": "execute_result"
    }
   ],
   "source": [
    "arr = np.arange(25).reshape(1, 5, 5)\n",
    "arr = np.random.randint(1, 30, (1, 5, 5))\n",
    "display(arr)\n",
    "pool = MaxPool2DLayer((3, 3), (1, 1), (1, 5, 5))\n",
    "fwd = pool.forward(arr)\n",
    "display(fwd)\n",
    "\n",
    "pool.backward(np.ones_like(fwd))"
   ]
  },
  {
   "cell_type": "code",
   "execution_count": null,
   "metadata": {},
   "outputs": [],
   "source": [
    "from functools import reduce\n",
    "from operator import mul\n",
    "\n",
    "\n",
    "class Conv2DLayer:\n",
    "    \"\"\"\n",
    "    Реализует свёрточный слой\n",
    "\n",
    "    input_size: int - количество входных нейронов\n",
    "    output_size: int - количество выходных нейронов\n",
    "    weights: np.ndarray[np.number] - веса слоя\n",
    "    bias: np.ndarray[np.number] - смещения\n",
    "\n",
    "    self.activation_function: NumsToNums - функция активации слоя\n",
    "    self.activation_function_derivation: NumsToNums - производная функции активации слоя\n",
    "    \"\"\"\n",
    "\n",
    "    def __init__(\n",
    "        self,\n",
    "        filters_shape: Tuple[int, int, int],\n",
    "        strides: Tuple[int, int],\n",
    "        padding: Tuple[int, int],\n",
    "        activation_function: Tuple[\n",
    "            NumsToNums,\n",
    "            NumsToNums,\n",
    "        ],\n",
    "        shape: Tuple[int, int],\n",
    "        weights_initialize_function: Callable[[Tuple[int, int]], Nums] = None,\n",
    "    ) -> None:\n",
    "        if weights_initialize_function is None:\n",
    "            weights_initialize_function = np.random.random\n",
    "\n",
    "        self.num_filters = filters_shape[0]\n",
    "        self.weights = weights_initialize_function(filters_shape)\n",
    "        self.bias = weights_initialize_function(filters_shape)\n",
    "        self.activation_function = activation_function[0]\n",
    "        self.activation_function_derivation = activation_function[1]\n",
    "        self.strides = strides\n",
    "        self.padding = padding\n",
    "        self.input_shape = shape\n",
    "        self.input_shape_ravel = reduce(mul, shape)\n",
    "        \n",
    "        output_shape = (np.subtract(shape, filters_shape[-2:]) + strides) / strides\n",
    "        self.output_shape = tuple(np.floor(output_shape, casting='unsafe', dtype=int))\n",
    "\n",
    "        # Значения x и t, фиксируемые при forward, нужны для вычисления ошибки\n",
    "        self.cache = None\n",
    "        self._errors_log = ([], [])\n",
    "\n",
    "    def forward(self, x: Nums) -> Nums:\n",
    "        # x - размерность [NumFilters x M x N]\n",
    "    \n",
    "        t = []\n",
    "        \n",
    "        t = np.zeros((self.num_filters, *self.output_shape))\n",
    "        \n",
    "        for i in range(len(x)):\n",
    "            out = conv2d(x[i], self.weights, strides=self.strides, padding=self.padding)\n",
    "            t.append(out)\n",
    "        \n",
    "        t = np.array(t).reshape((x.shape[0] * self.num_filters, *self.output_shape))\n",
    "        h = self.activation_function(t)\n",
    "        self.cache = (x, t)\n",
    "        return h\n",
    "\n",
    "    def backward(self, error: Nums) -> Nums:\n",
    "        \"\"\"\n",
    "        Обратное распространение ошибки\n",
    "        Запоминает производные ошибки, но не изменяет параметры модели\n",
    "        Для изменения нужно вызвать update\n",
    "        \"\"\"\n",
    "        x, t = self.cache\n",
    "        \n",
    "        # (5, 28, 28)\n",
    "        \n",
    "        de_dT = error * self.activation_function_derivation(t)\n",
    "        \n",
    "        de_dX = []\n",
    "        # print(x.shape, de_dT.shape, self.weights.shape, error.shape)\n",
    "        # (2, 12, 12) (4, 10, 10) (2, 3, 3) (4, 10, 10)\n",
    "        # (8, 8, 3, 3) (10, 10)\n",
    "        # weights_flipped = self.weights[..., ::-1, ::-1].copy()\n",
    "        \n",
    "        de_dW = np.zeros(self.weights.shape)\n",
    "        de_dX = np.zeros(x.shape)\n",
    "        \n",
    "        for i in range(len(x)):\n",
    "            views = get_views(add_padding(x[i], self.padding), self.weights.shape[1:], self.strides)\n",
    "            for j in range(self.num_filters):\n",
    "                de_dW[j] += np.einsum('ijkl, ij -> kl', views, de_dT[j * len(x) + i])\n",
    "                \n",
    "                rotated = np.flip(de_dT[j * len(x) + i], (-2, -1))\n",
    "                spaced = space_matrix(rotated, self.strides)\n",
    "                \n",
    "                padding = tuple(np.subtract(spaced.shape[-2:], 1))\n",
    "                \n",
    "                convolved = conv2d(self.weights[j], spaced[None, :], (1, 1), padding)\n",
    "                # print(de_dX.shape, convolved)\n",
    "                de_dX[i] += convolved.reshape(x.shape[-2:])\n",
    "                \n",
    "        self._errors_log[0].append(de_dW)\n",
    "        return de_dX\n",
    "\n",
    "    def update(self, learning_rate: float):\n",
    "        \"\"\"\n",
    "        Модифицирует веса модели\n",
    "        learning_rate: float, [0, 1] - на сколько сильно модель будет реагировать на ошибку\n",
    "        \"\"\"\n",
    "        de_dWs, _ = self._errors_log\n",
    "        de_dW = np.sum(de_dWs, axis=0)\n",
    "        # de_dB = np.sum(de_dBs, axis=0)\n",
    "\n",
    "        self.optimizer.step(self.weights, 0, learning_rate, de_dW, 0)\n",
    "\n",
    "        self._errors_log = ([], [])\n",
    "\n",
    "    def set_optimizer(self, optimizer: OptimizerBase):\n",
    "        optimizer.init_params(self.weights, self.bias)\n",
    "        self.optimizer = optimizer\n",
    "\n",
    "    def __repr__(self) -> str:\n",
    "        return f\"<Conv2dLayer, {self.weights.shape}>\"\n"
   ]
  },
  {
   "cell_type": "code",
   "execution_count": 15,
   "metadata": {},
   "outputs": [
    {
     "data": {
      "text/plain": [
       "array([[0, 1, 2],\n",
       "       [3, 4, 5],\n",
       "       [6, 7, 8]])"
      ]
     },
     "metadata": {},
     "output_type": "display_data"
    },
    {
     "data": {
      "text/plain": [
       "array([[1.000, 4.000, 1.000],\n",
       "       [1.000, 1.000, 1.000],\n",
       "       [1.000, 3.000, 1.000]])"
      ]
     },
     "metadata": {},
     "output_type": "display_data"
    },
    {
     "data": {
      "text/plain": [
       "array([[0, 0, 0, 0, 0],\n",
       "       [0, 0, 1, 2, 0],\n",
       "       [0, 3, 4, 5, 0],\n",
       "       [0, 6, 7, 8, 0],\n",
       "       [0, 0, 0, 0, 0]])"
      ]
     },
     "metadata": {},
     "output_type": "display_data"
    },
    {
     "data": {
      "text/plain": [
       "(3, 3, 3, 3)"
      ]
     },
     "metadata": {},
     "output_type": "display_data"
    },
    {
     "data": {
      "text/plain": [
       "array([[14.000, 23.000, 22.000],\n",
       "       [33.000, 53.000, 49.000],\n",
       "       [29.000, 45.000, 39.000]])"
      ]
     },
     "execution_count": 15,
     "metadata": {},
     "output_type": "execute_result"
    }
   ],
   "source": [
    "q = np.arange(3 * 3).reshape(3, 3)\n",
    "display(q)\n",
    "\n",
    "error = np.ones((3, 3))\n",
    "error[0, 1] = 4\n",
    "error[2, 1] = 3\n",
    "display(error)\n",
    "display(add_padding(q, (1, 1)))\n",
    "\n",
    "views = get_views(add_padding(q, (1, 1)), (3, 3), (1, 1))\n",
    "display(views.shape)\n",
    "\n",
    "np.einsum('ijkl, ij -> kl', views, error)"
   ]
  },
  {
   "cell_type": "code",
   "execution_count": 16,
   "metadata": {},
   "outputs": [
    {
     "data": {
      "text/plain": [
       "array([[1.000, 0.000, 0.000, 4.000, 0.000, 0.000, 1.000],\n",
       "       [0.000, 0.000, 0.000, 0.000, 0.000, 0.000, 0.000],\n",
       "       [0.000, 0.000, 0.000, 0.000, 0.000, 0.000, 0.000],\n",
       "       [1.000, 0.000, 0.000, 1.000, 0.000, 0.000, 1.000],\n",
       "       [0.000, 0.000, 0.000, 0.000, 0.000, 0.000, 0.000],\n",
       "       [0.000, 0.000, 0.000, 0.000, 0.000, 0.000, 0.000],\n",
       "       [1.000, 0.000, 0.000, 3.000, 0.000, 0.000, 1.000]])"
      ]
     },
     "execution_count": 16,
     "metadata": {},
     "output_type": "execute_result"
    }
   ],
   "source": [
    "space_matrix(error, (3, 3))"
   ]
  },
  {
   "cell_type": "code",
   "execution_count": 17,
   "metadata": {},
   "outputs": [
    {
     "data": {
      "text/plain": [
       "array([[1, 7, 8],\n",
       "       [1, 4, 2],\n",
       "       [8, 1, 8]])"
      ]
     },
     "metadata": {},
     "output_type": "display_data"
    },
    {
     "data": {
      "text/plain": [
       "array([[[1.000, 0.000, 2.000],\n",
       "        [0.000, 0.000, 0.000],\n",
       "        [3.000, 0.000, 4.000]]])"
      ]
     },
     "metadata": {},
     "output_type": "display_data"
    },
    {
     "data": {
      "text/plain": [
       "array([[[4.000, 28.000, 35.000, 21.000, 24.000],\n",
       "        [4.000, 16.000, 11.000, 12.000, 6.000],\n",
       "        [34.000, 18.000, 73.000, 10.000, 32.000],\n",
       "        [2.000, 8.000, 5.000, 4.000, 2.000],\n",
       "        [16.000, 2.000, 24.000, 1.000, 8.000]]])"
      ]
     },
     "execution_count": 17,
     "metadata": {},
     "output_type": "execute_result"
    }
   ],
   "source": [
    "weights = np.random.randint(1, 10, size=(3, 3))\n",
    "display(weights)\n",
    "\n",
    "error = np.arange(4).reshape((1, 2, 2)) + 1\n",
    "filters = space_matrix(error, (2, 2))\n",
    "display(filters)\n",
    "\n",
    "conv2d(weights, filters, (1, 1), (2, 2))"
   ]
  },
  {
   "cell_type": "code",
   "execution_count": 18,
   "metadata": {},
   "outputs": [
    {
     "data": {
      "text/plain": [
       "array([[[99.000, 791.000, 1575.000, 1559.000, 1543.000, 1527.000,\n",
       "         1511.000, 1495.000, 1479.000, 1463.000, 1358.000, 720.000],\n",
       "        [188.000, 1205.000, 2102.000, 2079.000, 2056.000, 2033.000,\n",
       "         2010.000, 1987.000, 1964.000, 1941.000, 1750.000, 820.000],\n",
       "        [960.000, 1958.000, 3538.000, 3498.000, 3458.000, 3418.000,\n",
       "         3378.000, 3338.000, 3298.000, 3258.000, 2358.000, 1440.000],\n",
       "        [860.000, 1738.000, 3138.000, 3098.000, 3058.000, 3018.000,\n",
       "         2978.000, 2938.000, 2898.000, 2858.000, 2058.000, 1260.000],\n",
       "        [760.000, 1518.000, 2738.000, 2698.000, 2658.000, 2618.000,\n",
       "         2578.000, 2538.000, 2498.000, 2458.000, 1758.000, 1080.000],\n",
       "        [660.000, 1298.000, 2338.000, 2298.000, 2258.000, 2218.000,\n",
       "         2178.000, 2138.000, 2098.000, 2058.000, 1458.000, 900.000],\n",
       "        [560.000, 1078.000, 1938.000, 1898.000, 1858.000, 1818.000,\n",
       "         1778.000, 1738.000, 1698.000, 1658.000, 1158.000, 720.000],\n",
       "        [460.000, 858.000, 1538.000, 1498.000, 1458.000, 1418.000,\n",
       "         1378.000, 1338.000, 1298.000, 1258.000, 858.000, 540.000],\n",
       "        [360.000, 638.000, 1138.000, 1098.000, 1058.000, 1018.000,\n",
       "         978.000, 938.000, 898.000, 858.000, 558.000, 360.000],\n",
       "        [260.000, 418.000, 738.000, 698.000, 658.000, 618.000, 578.000,\n",
       "         538.000, 498.000, 458.000, 258.000, 180.000],\n",
       "        [161.000, 207.000, 363.000, 339.000, 315.000, 291.000, 267.000,\n",
       "         243.000, 219.000, 195.000, 100.000, 80.000],\n",
       "        [72.000, 73.000, 136.000, 119.000, 102.000, 85.000, 68.000,\n",
       "         51.000, 34.000, 17.000, 8.000, 0.000]]])"
      ]
     },
     "execution_count": 18,
     "metadata": {},
     "output_type": "execute_result"
    }
   ],
   "source": [
    "filters = space_matrix(np.arange(100).reshape((1, 10, 10)), (1, 1))\n",
    "\n",
    "conv2d(weights, filters, (1, 1), (9, 9))"
   ]
  },
  {
   "cell_type": "code",
   "execution_count": 19,
   "metadata": {},
   "outputs": [
    {
     "data": {
      "text/plain": [
       "array([[[0.000, 1.000, 2.000],\n",
       "        [3.000, 4.000, 5.000],\n",
       "        [6.000, 7.000, 8.000]],\n",
       "\n",
       "       [[9.000, 10.000, 11.000],\n",
       "        [12.000, 13.000, 14.000],\n",
       "        [15.000, 16.000, 17.000]],\n",
       "\n",
       "       [[1.000, 1.000, 1.000],\n",
       "        [1.000, 1.000, 1.000],\n",
       "        [1.000, 1.000, 1.000]],\n",
       "\n",
       "       [[1.000, 1.000, 1.000],\n",
       "        [1.000, 1.000, 1.000],\n",
       "        [1.000, 1.000, 1.000]]])"
      ]
     },
     "execution_count": 19,
     "metadata": {},
     "output_type": "execute_result"
    }
   ],
   "source": [
    "np.array([\n",
    "    np.arange(2 * 3 * 3).reshape(2, 3, 3),\n",
    "    np.ones((2, 3, 3))\n",
    "]).reshape((4, 3, 3))"
   ]
  },
  {
   "cell_type": "code",
   "execution_count": 20,
   "metadata": {},
   "outputs": [],
   "source": [
    "class FlattenLayer:\n",
    "    def __init__(self, input_size):\n",
    "        self.input_size = input_size\n",
    "    \n",
    "    def forward(self, x: Nums) -> Nums:\n",
    "        return x.reshape((1, x.size))\n",
    "    \n",
    "    def backward(self, error: Nums) -> Nums:\n",
    "        return error.reshape(self.input_size)\n",
    "    \n",
    "    def set_optimizer(self, optimizer):\n",
    "        pass\n",
    "    \n",
    "    def update(self, lr):\n",
    "        pass"
   ]
  },
  {
   "cell_type": "code",
   "execution_count": 21,
   "metadata": {},
   "outputs": [
    {
     "name": "stdout",
     "output_type": "stream",
     "text": [
      "(1, 28, 28)\n",
      "(2, 24, 24)\n",
      "(2, 12, 12)\n",
      "(4, 10, 10)\n",
      "(4, 5, 5)\n",
      "(1, 100)\n",
      "(1, 10)\n",
      "Backwards\n",
      "mnn (1, 100)\n",
      "unflatten (4, 5, 5)\n"
     ]
    },
    {
     "ename": "ValueError",
     "evalue": "not enough values to unpack (expected 2, got 1)",
     "output_type": "error",
     "traceback": [
      "\u001b[0;31m---------------------------------------------------------------------------\u001b[0m",
      "\u001b[0;31mValueError\u001b[0m                                Traceback (most recent call last)",
      "Cell \u001b[0;32mIn[21], line 58\u001b[0m\n\u001b[1;32m     55\u001b[0m grad_unflatten \u001b[38;5;241m=\u001b[39m flat1\u001b[38;5;241m.\u001b[39mbackward(grad_mnn)\n\u001b[1;32m     56\u001b[0m \u001b[38;5;28mprint\u001b[39m(\u001b[38;5;124m\"\u001b[39m\u001b[38;5;124munflatten\u001b[39m\u001b[38;5;124m\"\u001b[39m, grad_unflatten\u001b[38;5;241m.\u001b[39mshape)\n\u001b[0;32m---> 58\u001b[0m grad_pool2 \u001b[38;5;241m=\u001b[39m \u001b[43mpool2\u001b[49m\u001b[38;5;241;43m.\u001b[39;49m\u001b[43mbackward\u001b[49m\u001b[43m(\u001b[49m\u001b[43mgrad_unflatten\u001b[49m\u001b[43m)\u001b[49m\n\u001b[1;32m     59\u001b[0m \u001b[38;5;28mprint\u001b[39m(\u001b[38;5;124m\"\u001b[39m\u001b[38;5;124mpool2\u001b[39m\u001b[38;5;124m\"\u001b[39m, grad_pool2\u001b[38;5;241m.\u001b[39mshape)\n\u001b[1;32m     61\u001b[0m de_dW2 \u001b[38;5;241m=\u001b[39m conv2\u001b[38;5;241m.\u001b[39mbackward(grad_pool2)\n",
      "Cell \u001b[0;32mIn[12], line 41\u001b[0m, in \u001b[0;36mMaxPool2DLayer.backward\u001b[0;34m(self, error)\u001b[0m\n\u001b[1;32m     38\u001b[0m out \u001b[38;5;241m=\u001b[39m np\u001b[38;5;241m.\u001b[39mzeros(\u001b[38;5;28mself\u001b[39m\u001b[38;5;241m.\u001b[39minput_shape)\n\u001b[1;32m     40\u001b[0m \u001b[38;5;28;01mfor\u001b[39;00m k \u001b[38;5;129;01min\u001b[39;00m \u001b[38;5;28mrange\u001b[39m(\u001b[38;5;28mlen\u001b[39m(error)):\n\u001b[0;32m---> 41\u001b[0m     de_dX_i_views \u001b[38;5;241m=\u001b[39m \u001b[43mget_views\u001b[49m\u001b[43m(\u001b[49m\u001b[43mout\u001b[49m\u001b[43m[\u001b[49m\u001b[43mk\u001b[49m\u001b[43m]\u001b[49m\u001b[43m,\u001b[49m\u001b[43m \u001b[49m\u001b[43mwindow\u001b[49m\u001b[38;5;241;43m=\u001b[39;49m\u001b[38;5;28;43mself\u001b[39;49m\u001b[38;5;241;43m.\u001b[39;49m\u001b[43mwindow\u001b[49m\u001b[43m,\u001b[49m\u001b[43m \u001b[49m\u001b[43mstrides\u001b[49m\u001b[38;5;241;43m=\u001b[39;49m\u001b[38;5;28;43mself\u001b[39;49m\u001b[38;5;241;43m.\u001b[39;49m\u001b[43mstrides\u001b[49m\u001b[43m)\u001b[49m   \n\u001b[1;32m     43\u001b[0m     views_i \u001b[38;5;241m=\u001b[39m views[k]\n\u001b[1;32m     45\u001b[0m     \u001b[38;5;28;01mfor\u001b[39;00m i \u001b[38;5;129;01min\u001b[39;00m \u001b[38;5;28mrange\u001b[39m(views_i\u001b[38;5;241m.\u001b[39mshape[\u001b[38;5;241m-\u001b[39m\u001b[38;5;241m4\u001b[39m]):\n",
      "Cell \u001b[0;32mIn[10], line 7\u001b[0m, in \u001b[0;36mget_views\u001b[0;34m(x, window, strides)\u001b[0m\n\u001b[1;32m      3\u001b[0m output_shape \u001b[38;5;241m=\u001b[39m \u001b[38;5;28mtuple\u001b[39m(np\u001b[38;5;241m.\u001b[39mfloor(output_shape, casting\u001b[38;5;241m=\u001b[39m\u001b[38;5;124m'\u001b[39m\u001b[38;5;124munsafe\u001b[39m\u001b[38;5;124m'\u001b[39m, dtype\u001b[38;5;241m=\u001b[39m\u001b[38;5;28mint\u001b[39m))\n\u001b[1;32m      5\u001b[0m views_shape \u001b[38;5;241m=\u001b[39m output_shape \u001b[38;5;241m+\u001b[39m window\n\u001b[0;32m----> 7\u001b[0m row_strides, col_strides \u001b[38;5;241m=\u001b[39m x\u001b[38;5;241m.\u001b[39mstrides\n\u001b[1;32m      9\u001b[0m views \u001b[38;5;241m=\u001b[39m np\u001b[38;5;241m.\u001b[39mlib\u001b[38;5;241m.\u001b[39mstride_tricks\u001b[38;5;241m.\u001b[39mas_strided(\n\u001b[1;32m     10\u001b[0m     x, shape\u001b[38;5;241m=\u001b[39mviews_shape, strides\u001b[38;5;241m=\u001b[39m(row_strides \u001b[38;5;241m*\u001b[39m strides[\u001b[38;5;241m0\u001b[39m], col_strides \u001b[38;5;241m*\u001b[39m strides[\u001b[38;5;241m1\u001b[39m], row_strides, col_strides)\n\u001b[1;32m     11\u001b[0m )\n\u001b[1;32m     12\u001b[0m \u001b[38;5;28;01mreturn\u001b[39;00m views\n",
      "\u001b[0;31mValueError\u001b[0m: not enough values to unpack (expected 2, got 1)"
     ]
    }
   ],
   "source": [
    "from nn.functions import relu, drelu\n",
    "\n",
    "# conv1 = Conv2DLayer((5, 3, 3), (1, 1), (1, 1), (relu, drelu), (28, 28))\n",
    "# pool1 = MaxPool2DLayer((2, 2), (2, 2), (28, 28))\n",
    "# # conv2 = Conv2DLayer((3, 3, 3), (1, 1), (1, 1), (relu, drelu), (14, 14))\n",
    "# flat1 = FlattenLayer((5, 14, 14))\n",
    "# mnn1 = Layer(5 * 14 * 14, 10, (softmax, lambda x: x),\n",
    "#     weights_initialize_function=lambda shape: np.random.random(shape) * 0.01)\n",
    "\n",
    "\n",
    "\n",
    "conv1 = Conv2DLayer((2, 5, 5), (1, 1), (0, 0), (relu, drelu), (28, 28))\n",
    "pool1 = MaxPool2DLayer((2, 2), (2, 2), (24, 24))\n",
    "conv2 = Conv2DLayer((2, 3, 3), (1, 1), (0, 0), (sigmoid, dsigmoid), (12, 12))\n",
    "pool2 = MaxPool2DLayer((2, 2), (2, 2), (10, 10))\n",
    "flat1 = FlattenLayer((4, 5, 5))\n",
    "mnn1 = Layer(4 * 5 * 5, 10, (softmax, lambda x: x),\n",
    "    weights_initialize_function=lambda shape: np.random.random(shape) * 0.01,\n",
    ")\n",
    "\n",
    "\n",
    "\n",
    "the_y = train_x[0].reshape((1, 28, 28))\n",
    "\n",
    "true_y = train_y[0]\n",
    "\n",
    "print(the_y.shape)\n",
    "\n",
    "conv1_t = the_y\n",
    "the_y = conv1.forward(the_y)\n",
    "print(the_y.shape)\n",
    "\n",
    "the_y = pool1.forward(the_y)\n",
    "print(the_y.shape)\n",
    "\n",
    "the_y = conv2.forward(the_y)\n",
    "print(the_y.shape)\n",
    "\n",
    "the_y = pool2.forward(the_y)\n",
    "print(the_y.shape)\n",
    "\n",
    "the_y = flat1.forward(the_y)\n",
    "print(the_y.shape)\n",
    "\n",
    "the_y = mnn1.forward(the_y)\n",
    "print(the_y.shape)\n",
    "\n",
    "print(\"Backwards\")\n",
    "\n",
    "error = the_y - true_y\n",
    "\n",
    "grad_mnn = mnn1.backward(error)\n",
    "print(\"mnn\", grad_mnn.shape)\n",
    "\n",
    "grad_unflatten = flat1.backward(grad_mnn)\n",
    "print(\"unflatten\", grad_unflatten.shape)\n",
    "\n",
    "grad_pool2 = pool2.backward(grad_unflatten)\n",
    "print(\"pool2\", grad_pool2.shape)\n",
    "\n",
    "de_dW2 = conv2.backward(grad_pool2)\n",
    "print(\"conv2\", de_dW2.shape)\n",
    "\n",
    "grad_pool1 = pool1.backward(de_dW2)\n",
    "print(\"pool1\", grad_pool1.shape)\n",
    "\n",
    "de_dW1 = conv1.backward(grad_pool1)\n",
    "print(\"conv1\", de_dW1.shape)\n",
    "# the_y = Conv2DLayer((3, 3, 3), (1, 1), (1, 1), (relu, drelu), (14, 14)).forward(the_y)\n",
    "# print(the_y.shape)"
   ]
  },
  {
   "cell_type": "code",
   "execution_count": null,
   "metadata": {},
   "outputs": [],
   "source": [
    "from nn import NN, Layer\n",
    "from nn.functions import cross_entropy, dsigmoid, sigmoid, softmax"
   ]
  },
  {
   "cell_type": "code",
   "execution_count": null,
   "metadata": {},
   "outputs": [],
   "source": [
    "# expected 95%\n",
    "from sklearn.metrics import root_mean_squared_error\n",
    "\n",
    "\n",
    "network = NN(\n",
    "    [\n",
    "        # MaxPool2DLayer((2, 2), (2, 2), (24, 24)),\n",
    "        # Conv2DLayer((3, 3, 3), (1, 1), (0, 0), (sigmoid, dsigmoid), (28, 28)),\n",
    "        Conv2DLayer((3, 5, 5), (1, 1), (0, 0), (relu, drelu), (28, 28),\n",
    "                    weights_initialize_function=lambda shape: np.random.random(shape) * 0.01),\n",
    "        MaxPool2DLayer((2, 2), (2, 2), (3, 24, 24)),\n",
    "        \n",
    "        Conv2DLayer((3, 3, 3), (1, 1), (0, 0), (relu, drelu), (12, 12),\n",
    "                    weights_initialize_function=lambda shape: np.random.random(shape) * 0.01),\n",
    "        \n",
    "        MaxPool2DLayer((2, 2), (2, 2), (9, 10, 10)),\n",
    "        \n",
    "        FlattenLayer((9, 5, 5)),\n",
    "        \n",
    "        # FlattenLayer((1, 28, 28)),\n",
    "        # Layer(784, 64, (relu, drelu), weights_initialize_function=lambda shape: np.random.random(shape) * 0.01,),\n",
    "        Layer(9 * 5 * 5, 10, (softmax, lambda x: x),\n",
    "            weights_initialize_function=lambda shape: np.random.random(shape) * 0.01,\n",
    "        ),\n",
    "    ],\n",
    "    loss_function=cross_entropy,\n",
    ")\n",
    "\n",
    "loss_history = []"
   ]
  },
  {
   "cell_type": "code",
   "execution_count": null,
   "metadata": {},
   "outputs": [
    {
     "data": {
      "text/plain": [
       "array([[0.100, 0.100, 0.100, 0.100, 0.100, 0.100, 0.100, 0.100, 0.100,\n",
       "        0.100]])"
      ]
     },
     "execution_count": 147,
     "metadata": {},
     "output_type": "execute_result"
    }
   ],
   "source": [
    "network.forward(train_x[:1].reshape((1, 28, 28)))"
   ]
  },
  {
   "cell_type": "code",
   "execution_count": null,
   "metadata": {},
   "outputs": [
    {
     "name": "stderr",
     "output_type": "stream",
     "text": [
      "  0%|          | 0/250 [00:00<?, ?it/s]"
     ]
    },
    {
     "name": "stderr",
     "output_type": "stream",
     "text": [
      "epoch: 19, loss: nan:   8%|▊         | 19/250 [00:18<03:40,  1.05it/s]            \n"
     ]
    },
    {
     "ename": "KeyboardInterrupt",
     "evalue": "",
     "output_type": "error",
     "traceback": [
      "\u001b[0;31m---------------------------------------------------------------------------\u001b[0m",
      "\u001b[0;31mKeyboardInterrupt\u001b[0m                         Traceback (most recent call last)",
      "Cell \u001b[0;32mIn[148], line 42\u001b[0m\n\u001b[1;32m     38\u001b[0m         network\u001b[38;5;241m.\u001b[39mlosses\u001b[38;5;241m.\u001b[39mclear()\n\u001b[1;32m     39\u001b[0m     \u001b[38;5;28;01mreturn\u001b[39;00m loss_history\n\u001b[0;32m---> 42\u001b[0m loss_history \u001b[38;5;241m=\u001b[39m \u001b[43mtrain\u001b[49m\u001b[43m(\u001b[49m\n\u001b[1;32m     43\u001b[0m \u001b[43m    \u001b[49m\u001b[43mnetwork\u001b[49m\u001b[43m,\u001b[49m\u001b[43m \u001b[49m\u001b[43mtrain_x\u001b[49m\u001b[38;5;241;43m.\u001b[39;49m\u001b[43mreshape\u001b[49m\u001b[43m(\u001b[49m\u001b[43m(\u001b[49m\u001b[38;5;241;43m60000\u001b[39;49m\u001b[43m,\u001b[49m\u001b[43m \u001b[49m\u001b[38;5;241;43m1\u001b[39;49m\u001b[43m,\u001b[49m\u001b[43m \u001b[49m\u001b[38;5;241;43m28\u001b[39;49m\u001b[43m,\u001b[49m\u001b[43m \u001b[49m\u001b[38;5;241;43m28\u001b[39;49m\u001b[43m)\u001b[49m\u001b[43m)\u001b[49m\u001b[43m,\u001b[49m\u001b[43m \u001b[49m\u001b[43mtrain_y\u001b[49m\u001b[43m,\u001b[49m\u001b[43m \u001b[49m\u001b[38;5;241;43m250\u001b[39;49m\u001b[43m,\u001b[49m\u001b[43m \u001b[49m\u001b[38;5;241;43m0.005\u001b[39;49m\u001b[43m,\u001b[49m\u001b[43m \u001b[49m\u001b[38;5;241;43m25\u001b[39;49m\u001b[43m,\u001b[49m\u001b[43m \u001b[49m\u001b[43mloss_history\u001b[49m\n\u001b[1;32m     44\u001b[0m \u001b[43m)\u001b[49m\n",
      "Cell \u001b[0;32mIn[148], line 23\u001b[0m, in \u001b[0;36mtrain\u001b[0;34m(network, x, y, num_epoches, learning_rate, batch_size, loss_history)\u001b[0m\n\u001b[1;32m     20\u001b[0m epoch_x \u001b[38;5;241m=\u001b[39m x[indices]\n\u001b[1;32m     21\u001b[0m epoch_y \u001b[38;5;241m=\u001b[39m y[indices]\n\u001b[0;32m---> 23\u001b[0m \u001b[43mnetwork\u001b[49m\u001b[38;5;241;43m.\u001b[39;49m\u001b[43mtrain\u001b[49m\u001b[43m(\u001b[49m\n\u001b[1;32m     24\u001b[0m \u001b[43m    \u001b[49m\u001b[43mepoch_x\u001b[49m\u001b[43m,\u001b[49m\n\u001b[1;32m     25\u001b[0m \u001b[43m    \u001b[49m\u001b[43mepoch_y\u001b[49m\u001b[43m,\u001b[49m\n\u001b[1;32m     26\u001b[0m \u001b[43m    \u001b[49m\u001b[38;5;28;43;01mlambda\u001b[39;49;00m\u001b[43m:\u001b[49m\u001b[43m \u001b[49m\u001b[43mRMSPropOptimizer\u001b[49m\u001b[43m(\u001b[49m\u001b[38;5;241;43m0.4\u001b[39;49m\u001b[43m)\u001b[49m\u001b[43m,\u001b[49m\n\u001b[1;32m     27\u001b[0m \u001b[43m    \u001b[49m\u001b[43mlearning_rate\u001b[49m\u001b[38;5;241;43m=\u001b[39;49m\u001b[43mlearning_rate\u001b[49m\u001b[43m,\u001b[49m\n\u001b[1;32m     28\u001b[0m \u001b[43m    \u001b[49m\u001b[43mbatch_size\u001b[49m\u001b[38;5;241;43m=\u001b[39;49m\u001b[43mbatch_size\u001b[49m\u001b[43m,\u001b[49m\n\u001b[1;32m     29\u001b[0m \u001b[43m\u001b[49m\u001b[43m)\u001b[49m\n\u001b[1;32m     31\u001b[0m \u001b[38;5;66;03m# Средний loss за эпоху\u001b[39;00m\n\u001b[1;32m     32\u001b[0m loss \u001b[38;5;241m=\u001b[39m network\u001b[38;5;241m.\u001b[39mpop_loss(np\u001b[38;5;241m.\u001b[39mmean)\n",
      "File \u001b[0;32m~/dev/neural_networks/6/nn/nn.py:90\u001b[0m, in \u001b[0;36mNN.train\u001b[0;34m(self, xs, ys, optimizer_factory, learning_rate, batch_size)\u001b[0m\n\u001b[1;32m     87\u001b[0m error \u001b[38;5;241m=\u001b[39m predict \u001b[38;5;241m-\u001b[39m y\n\u001b[1;32m     89\u001b[0m \u001b[38;5;66;03m# Считаем ошибку\u001b[39;00m\n\u001b[0;32m---> 90\u001b[0m \u001b[38;5;28;43mself\u001b[39;49m\u001b[38;5;241;43m.\u001b[39;49m\u001b[43mbackward\u001b[49m\u001b[43m(\u001b[49m\u001b[43merror\u001b[49m\u001b[43m)\u001b[49m\n\u001b[1;32m     92\u001b[0m E \u001b[38;5;241m=\u001b[39m \u001b[38;5;28mself\u001b[39m\u001b[38;5;241m.\u001b[39mloss_function(predict, y)\n\u001b[1;32m     93\u001b[0m \u001b[38;5;28mself\u001b[39m\u001b[38;5;241m.\u001b[39mpredicted\u001b[38;5;241m.\u001b[39mappend(predict)\n",
      "File \u001b[0;32m~/dev/neural_networks/6/nn/nn.py:50\u001b[0m, in \u001b[0;36mNN.backward\u001b[0;34m(self, error)\u001b[0m\n\u001b[1;32m     48\u001b[0m \u001b[38;5;66;03m# Для последнего слоя ошибку получаем в error_function\u001b[39;00m\n\u001b[1;32m     49\u001b[0m \u001b[38;5;28;01mfor\u001b[39;00m layer \u001b[38;5;129;01min\u001b[39;00m \u001b[38;5;28mself\u001b[39m\u001b[38;5;241m.\u001b[39mlayers[::\u001b[38;5;241m-\u001b[39m\u001b[38;5;241m1\u001b[39m]:\n\u001b[0;32m---> 50\u001b[0m     current_error \u001b[38;5;241m=\u001b[39m \u001b[43mlayer\u001b[49m\u001b[38;5;241;43m.\u001b[39;49m\u001b[43mbackward\u001b[49m\u001b[43m(\u001b[49m\u001b[43mcurrent_error\u001b[49m\u001b[43m)\u001b[49m\n\u001b[1;32m     51\u001b[0m \u001b[38;5;28;01mreturn\u001b[39;00m current_error\n",
      "Cell \u001b[0;32mIn[9], line 95\u001b[0m, in \u001b[0;36mConv2DLayer.backward\u001b[0;34m(self, error)\u001b[0m\n\u001b[1;32m     91\u001b[0m spaced \u001b[38;5;241m=\u001b[39m space_matrix(rotated, \u001b[38;5;28mself\u001b[39m\u001b[38;5;241m.\u001b[39mstrides)\n\u001b[1;32m     93\u001b[0m padding \u001b[38;5;241m=\u001b[39m \u001b[38;5;28mtuple\u001b[39m(np\u001b[38;5;241m.\u001b[39msubtract(spaced\u001b[38;5;241m.\u001b[39mshape[\u001b[38;5;241m-\u001b[39m\u001b[38;5;241m2\u001b[39m:], \u001b[38;5;241m1\u001b[39m))\n\u001b[0;32m---> 95\u001b[0m convolved \u001b[38;5;241m=\u001b[39m \u001b[43mconv2d\u001b[49m\u001b[43m(\u001b[49m\u001b[38;5;28;43mself\u001b[39;49m\u001b[38;5;241;43m.\u001b[39;49m\u001b[43mweights\u001b[49m\u001b[43m[\u001b[49m\u001b[43mj\u001b[49m\u001b[43m]\u001b[49m\u001b[43m,\u001b[49m\u001b[43m \u001b[49m\u001b[43mspaced\u001b[49m\u001b[43m[\u001b[49m\u001b[38;5;28;43;01mNone\u001b[39;49;00m\u001b[43m,\u001b[49m\u001b[43m \u001b[49m\u001b[43m:\u001b[49m\u001b[43m]\u001b[49m\u001b[43m,\u001b[49m\u001b[43m \u001b[49m\u001b[43m(\u001b[49m\u001b[38;5;241;43m1\u001b[39;49m\u001b[43m,\u001b[49m\u001b[43m \u001b[49m\u001b[38;5;241;43m1\u001b[39;49m\u001b[43m)\u001b[49m\u001b[43m,\u001b[49m\u001b[43m \u001b[49m\u001b[43mpadding\u001b[49m\u001b[43m)\u001b[49m\n\u001b[1;32m     96\u001b[0m \u001b[38;5;66;03m# print(de_dX.shape, convolved)\u001b[39;00m\n\u001b[1;32m     97\u001b[0m de_dX[i] \u001b[38;5;241m+\u001b[39m\u001b[38;5;241m=\u001b[39m convolved\u001b[38;5;241m.\u001b[39mreshape(x\u001b[38;5;241m.\u001b[39mshape[\u001b[38;5;241m-\u001b[39m\u001b[38;5;241m2\u001b[39m:])\n",
      "Cell \u001b[0;32mIn[40], line 17\u001b[0m, in \u001b[0;36mconv2d\u001b[0;34m(x, filters, strides, padding)\u001b[0m\n\u001b[1;32m      5\u001b[0m \u001b[38;5;250m\u001b[39m\u001b[38;5;124;03m\"\"\"2д свёртка\u001b[39;00m\n\u001b[1;32m      6\u001b[0m \n\u001b[1;32m      7\u001b[0m \u001b[38;5;124;03mArgs:\u001b[39;00m\n\u001b[0;32m   (...)\u001b[0m\n\u001b[1;32m     14\u001b[0m \u001b[38;5;124;03m    Nums: Результат свёртки\u001b[39;00m\n\u001b[1;32m     15\u001b[0m \u001b[38;5;124;03m\"\"\"\u001b[39;00m\n\u001b[1;32m     16\u001b[0m \u001b[38;5;28;01mif\u001b[39;00m padding \u001b[38;5;241m!=\u001b[39m (\u001b[38;5;241m0\u001b[39m, \u001b[38;5;241m0\u001b[39m):\n\u001b[0;32m---> 17\u001b[0m     x \u001b[38;5;241m=\u001b[39m \u001b[43madd_padding\u001b[49m\u001b[43m(\u001b[49m\u001b[43mx\u001b[49m\u001b[43m,\u001b[49m\u001b[43m \u001b[49m\u001b[43mpadding\u001b[49m\u001b[43m)\u001b[49m\n\u001b[1;32m     19\u001b[0m output_shape \u001b[38;5;241m=\u001b[39m (np\u001b[38;5;241m.\u001b[39msubtract(x\u001b[38;5;241m.\u001b[39mshape, filters\u001b[38;5;241m.\u001b[39mshape[\u001b[38;5;241m-\u001b[39m\u001b[38;5;241m2\u001b[39m:]) \u001b[38;5;241m+\u001b[39m strides) \u001b[38;5;241m/\u001b[39m strides\n\u001b[1;32m     20\u001b[0m output_shape \u001b[38;5;241m=\u001b[39m \u001b[38;5;28mtuple\u001b[39m(np\u001b[38;5;241m.\u001b[39mfloor(output_shape, casting\u001b[38;5;241m=\u001b[39m\u001b[38;5;124m'\u001b[39m\u001b[38;5;124munsafe\u001b[39m\u001b[38;5;124m'\u001b[39m, dtype\u001b[38;5;241m=\u001b[39m\u001b[38;5;28mint\u001b[39m))\n",
      "Cell \u001b[0;32mIn[40], line 2\u001b[0m, in \u001b[0;36madd_padding\u001b[0;34m(x, padding)\u001b[0m\n\u001b[1;32m      1\u001b[0m \u001b[38;5;28;01mdef\u001b[39;00m \u001b[38;5;21madd_padding\u001b[39m(x: Nums, padding: Tuple[\u001b[38;5;28mint\u001b[39m, \u001b[38;5;28mint\u001b[39m]) \u001b[38;5;241m-\u001b[39m\u001b[38;5;241m>\u001b[39m Nums:\n\u001b[0;32m----> 2\u001b[0m     \u001b[38;5;28;01mreturn\u001b[39;00m \u001b[43mnp\u001b[49m\u001b[38;5;241;43m.\u001b[39;49m\u001b[43mpad\u001b[49m\u001b[43m(\u001b[49m\u001b[43mx\u001b[49m\u001b[43m,\u001b[49m\u001b[43m \u001b[49m\u001b[43m(\u001b[49m\u001b[43m(\u001b[49m\u001b[43mpadding\u001b[49m\u001b[43m[\u001b[49m\u001b[38;5;241;43m1\u001b[39;49m\u001b[43m]\u001b[49m\u001b[43m,\u001b[49m\u001b[43m \u001b[49m\u001b[43mpadding\u001b[49m\u001b[43m[\u001b[49m\u001b[38;5;241;43m1\u001b[39;49m\u001b[43m]\u001b[49m\u001b[43m)\u001b[49m\u001b[43m,\u001b[49m\u001b[43m \u001b[49m\u001b[43m(\u001b[49m\u001b[43mpadding\u001b[49m\u001b[43m[\u001b[49m\u001b[38;5;241;43m0\u001b[39;49m\u001b[43m]\u001b[49m\u001b[43m,\u001b[49m\u001b[43m \u001b[49m\u001b[43mpadding\u001b[49m\u001b[43m[\u001b[49m\u001b[38;5;241;43m0\u001b[39;49m\u001b[43m]\u001b[49m\u001b[43m)\u001b[49m\u001b[43m)\u001b[49m\u001b[43m)\u001b[49m\n",
      "File \u001b[0;32m~/dev/all_ai/lib64/python3.12/site-packages/numpy/lib/_arraypad_impl.py:761\u001b[0m, in \u001b[0;36mpad\u001b[0;34m(array, pad_width, mode, **kwargs)\u001b[0m\n\u001b[1;32m    758\u001b[0m     \u001b[38;5;28;01mraise\u001b[39;00m \u001b[38;5;167;01mTypeError\u001b[39;00m(\u001b[38;5;124m'\u001b[39m\u001b[38;5;124m`pad_width` must be of integral type.\u001b[39m\u001b[38;5;124m'\u001b[39m)\n\u001b[1;32m    760\u001b[0m \u001b[38;5;66;03m# Broadcast to shape (array.ndim, 2)\u001b[39;00m\n\u001b[0;32m--> 761\u001b[0m pad_width \u001b[38;5;241m=\u001b[39m \u001b[43m_as_pairs\u001b[49m\u001b[43m(\u001b[49m\u001b[43mpad_width\u001b[49m\u001b[43m,\u001b[49m\u001b[43m \u001b[49m\u001b[43marray\u001b[49m\u001b[38;5;241;43m.\u001b[39;49m\u001b[43mndim\u001b[49m\u001b[43m,\u001b[49m\u001b[43m \u001b[49m\u001b[43mas_index\u001b[49m\u001b[38;5;241;43m=\u001b[39;49m\u001b[38;5;28;43;01mTrue\u001b[39;49;00m\u001b[43m)\u001b[49m\n\u001b[1;32m    763\u001b[0m \u001b[38;5;28;01mif\u001b[39;00m \u001b[38;5;28mcallable\u001b[39m(mode):\n\u001b[1;32m    764\u001b[0m     \u001b[38;5;66;03m# Old behavior: Use user-supplied function with np.apply_along_axis\u001b[39;00m\n\u001b[1;32m    765\u001b[0m     function \u001b[38;5;241m=\u001b[39m mode\n",
      "File \u001b[0;32m~/dev/all_ai/lib64/python3.12/site-packages/numpy/lib/_arraypad_impl.py:503\u001b[0m, in \u001b[0;36m_as_pairs\u001b[0;34m(x, ndim, as_index)\u001b[0m\n\u001b[1;32m    498\u001b[0m \u001b[38;5;28;01mif\u001b[39;00m x \u001b[38;5;129;01mis\u001b[39;00m \u001b[38;5;28;01mNone\u001b[39;00m:\n\u001b[1;32m    499\u001b[0m     \u001b[38;5;66;03m# Pass through None as a special case, otherwise np.round(x) fails\u001b[39;00m\n\u001b[1;32m    500\u001b[0m     \u001b[38;5;66;03m# with an AttributeError\u001b[39;00m\n\u001b[1;32m    501\u001b[0m     \u001b[38;5;28;01mreturn\u001b[39;00m ((\u001b[38;5;28;01mNone\u001b[39;00m, \u001b[38;5;28;01mNone\u001b[39;00m),) \u001b[38;5;241m*\u001b[39m ndim\n\u001b[0;32m--> 503\u001b[0m x \u001b[38;5;241m=\u001b[39m \u001b[43mnp\u001b[49m\u001b[38;5;241;43m.\u001b[39;49m\u001b[43marray\u001b[49m\u001b[43m(\u001b[49m\u001b[43mx\u001b[49m\u001b[43m)\u001b[49m\n\u001b[1;32m    504\u001b[0m \u001b[38;5;28;01mif\u001b[39;00m as_index:\n\u001b[1;32m    505\u001b[0m     x \u001b[38;5;241m=\u001b[39m np\u001b[38;5;241m.\u001b[39mround(x)\u001b[38;5;241m.\u001b[39mastype(np\u001b[38;5;241m.\u001b[39mintp, copy\u001b[38;5;241m=\u001b[39m\u001b[38;5;28;01mFalse\u001b[39;00m)\n",
      "\u001b[0;31mKeyboardInterrupt\u001b[0m: "
     ]
    }
   ],
   "source": [
    "def train(\n",
    "    network: NN,\n",
    "    x: Nums,\n",
    "    y: Nums,\n",
    "    num_epoches: int,\n",
    "    learning_rate: float,\n",
    "    batch_size: int,\n",
    "    loss_history: list\n",
    "):\n",
    "    bar = tqdm(range(1, num_epoches + 1), total=num_epoches)\n",
    "    xy_indices = np.arange(len(x))\n",
    "    for epoch in bar:\n",
    "        network.predicted.clear()\n",
    "        # В каждой эпохе изменим порядок обучающего датасета\n",
    "        np.random.shuffle(xy_indices)\n",
    "\n",
    "        # size - размер выборки для эпохи, ставлю 1000, чтобы быстрее видеть результат\n",
    "        indices = np.random.choice(len(xy_indices), size=100, replace=False)\n",
    "\n",
    "        epoch_x = x[indices]\n",
    "        epoch_y = y[indices]\n",
    "        \n",
    "        network.train(\n",
    "            epoch_x,\n",
    "            epoch_y,\n",
    "            lambda: RMSPropOptimizer(0.4),\n",
    "            learning_rate=learning_rate,\n",
    "            batch_size=batch_size,\n",
    "        )\n",
    "        \n",
    "        # Средний loss за эпоху\n",
    "        loss = network.pop_loss(np.mean)\n",
    "        loss_history.append(loss)\n",
    "\n",
    "        bar.set_description(\n",
    "            f\"epoch: {epoch}, loss: {loss:.10f}\"\n",
    "        )\n",
    "        network.losses.clear()\n",
    "    return loss_history\n",
    "\n",
    "\n",
    "loss_history = train(\n",
    "    network, train_x.reshape((60000, 1, 28, 28)), train_y, 250, 0.005, 25, loss_history\n",
    ")"
   ]
  },
  {
   "cell_type": "code",
   "execution_count": 34,
   "metadata": {},
   "outputs": [],
   "source": [
    "def forward_conv(self, X):\n",
    "    \"\"\"\n",
    "        Performs a forward convolution.\n",
    "\n",
    "        Parameters:\n",
    "        - X : Last conv layer of shape (m, n_C_prev, n_H_prev, n_W_prev).\n",
    "\n",
    "        Returns:\n",
    "        - out: output of convolution.\n",
    "    \"\"\"\n",
    "    self.cache = X\n",
    "    m, n_C_prev, n_H_prev, n_W_prev = X.shape\n",
    "\n",
    "    # Define output size.\n",
    "    n_C = self.n_F\n",
    "    n_H = int((n_H_prev + 2 * self.p - self.f)/ self.s) + 1\n",
    "    n_W = int((n_W_prev + 2 * self.p - self.f)/ self.s) + 1\n",
    "\n",
    "    out = np.zeros((m, n_C, n_H, n_W))\n",
    "\n",
    "    for i in range(m): # For each image.\n",
    "\n",
    "        for c in range(n_C): # For each channel.\n",
    "\n",
    "            for h in range(n_H): # Slide the filter vertically.\n",
    "                h_start = h * self.s\n",
    "                h_end = h_start + self.f\n",
    "\n",
    "                for w in range(n_W): # Slide the filter horizontally.                \n",
    "                    w_start = w * self.s\n",
    "                    w_end = w_start + self.f\n",
    "\n",
    "                    # Element wise multiplication + sum.\n",
    "                    out[i, c, h, w] = np.sum(X[i, :, h_start:h_end, w_start:w_end] \n",
    "                                    * self.W['val'][c, ...]) + self.b['val'][c]\n",
    "    return out"
   ]
  },
  {
   "cell_type": "code",
   "execution_count": 153,
   "metadata": {},
   "outputs": [
    {
     "data": {
      "text/plain": [
       "(2, 2, 3, 3)"
      ]
     },
     "execution_count": 153,
     "metadata": {},
     "output_type": "execute_result"
    }
   ],
   "source": [
    "from numpy import flip\n",
    "\n",
    "\n",
    "class A:\n",
    "    pass\n",
    "\n",
    "weights = np.array([\n",
    "    [\n",
    "        [0, 1, 0],\n",
    "        [1, 0, 1],\n",
    "        [2, 1, 0]\n",
    "    ],\n",
    "    [\n",
    "        [0, 1, 0],\n",
    "        [1, 0, 1],\n",
    "        [2, 1, 0]\n",
    "    ]\n",
    "])\n",
    "\n",
    "weights = np.array([weights, flip(weights)])\n",
    "\n",
    "obj = A()\n",
    "obj.n_F = 2  # num filters\n",
    "obj.s = 1  # strides\n",
    "obj.f = 3  # kernel shape\n",
    "obj.p = 0  # padding\n",
    "obj.W = {'val': weights}\n",
    "obj.b = {'val': np.zeros((2,))}\n",
    "weights.shape"
   ]
  },
  {
   "cell_type": "code",
   "execution_count": null,
   "metadata": {},
   "outputs": [
    {
     "data": {
      "text/plain": [
       "array([[[0, 1, 2, 1, 0],\n",
       "        [4, 1, 0, 1, 0],\n",
       "        [2, 0, 1, 1, 1],\n",
       "        [1, 2, 3, 1, 0],\n",
       "        [0, 4, 3, 2, 0]],\n",
       "\n",
       "       [[0, 2, 3, 4, 0],\n",
       "        [0, 1, 3, 2, 1],\n",
       "        [1, 1, 1, 0, 2],\n",
       "        [0, 1, 0, 1, 4],\n",
       "        [0, 1, 2, 1, 0]]])"
      ]
     },
     "metadata": {},
     "output_type": "display_data"
    },
    {
     "data": {
      "text/plain": [
       "array([[[17.000, 14.000, 14.000],\n",
       "        [12.000, 14.000, 16.000],\n",
       "        [10.000, 22.000, 21.000]],\n",
       "\n",
       "       [[21.000, 22.000, 10.000],\n",
       "        [16.000, 14.000, 12.000],\n",
       "        [14.000, 14.000, 17.000]]])"
      ]
     },
     "metadata": {},
     "output_type": "display_data"
    },
    {
     "data": {
      "text/plain": [
       "(2, 3, 3)"
      ]
     },
     "metadata": {},
     "output_type": "display_data"
    }
   ],
   "source": [
    "test_a = np.array([\n",
    "    [\n",
    "        [0, 1, 2, 1, 0],\n",
    "        [4, 1, 0, 1, 0],\n",
    "        [2, 0, 1, 1, 1],\n",
    "        [1, 2, 3, 1, 0],\n",
    "        [0, 4, 3, 2, 0],\n",
    "    ],\n",
    "    np.flip(np.array([\n",
    "        [0, 1, 2, 1, 0],\n",
    "        [4, 1, 0, 1, 0],\n",
    "        [2, 0, 1, 1, 1],\n",
    "        [1, 2, 3, 1, 0],\n",
    "        [0, 4, 3, 2, 0],\n",
    "    ])),\n",
    "])\n",
    "display(test_a)\n",
    "\n",
    "fwd = forward_conv(obj, test_a.reshape((1, 2, 5, 5)))[0]\n",
    "display(fwd, fwd.shape)\n",
    "\n",
    "\n",
    "# l = Conv2DLayer((2, 3, 3), (1, 1), (0, 0), (relu, drelu), (5, 5))\n",
    "# l.weights = weights\n",
    "# l.forward(test_a.reshape(2, 5, 5))"
   ]
  },
  {
   "cell_type": "code",
   "execution_count": 155,
   "metadata": {},
   "outputs": [],
   "source": [
    "def add_padding(x: Nums, padding: Tuple[int, int]) -> Nums:\n",
    "    # accepts 3d array\n",
    "    return np.pad(x, ((0, 0), (padding[1], padding[1]), (padding[0], padding[0])))\n",
    "\n",
    "def conv2d(x: Nums, filters: Nums, strides: Tuple[int, int]=(1, 1), padding: Tuple[int, int]=(0, 0)) -> Nums:\n",
    "    \"\"\"2д свёртка\n",
    "\n",
    "    Args:\n",
    "        x (Nums): Входной массив, 3d\n",
    "        filters (Nums): Ядра свёртки, 3d\n",
    "        strides (Tuple[int, int], optional): Шаги свёртки по x и y. Defaults to (1, 1).\n",
    "        padding (Tuple[int, int], optional): Отступы по x и y. Defaults to (1, 1).\n",
    "\n",
    "    Returns:\n",
    "        Nums: Результат свёртки\n",
    "    \"\"\"\n",
    "    assert x.shape[0] == filters.shape[0], f\"num channels must be the same, {x.shape[0]} != {filters.shape[0]}\"\n",
    "    if padding != (0, 0):\n",
    "        x = add_padding(x, padding)\n",
    "    \n",
    "    # x - кол-во каналов, x, y\n",
    "    # filters - кол-во каналов, x, y\n",
    "    \n",
    "    output_shape = (np.subtract(x.shape[-2:], filters.shape[-2:]) + strides) / strides\n",
    "    output_shape = tuple(np.floor(output_shape, casting='unsafe', dtype=int))\n",
    "    \n",
    "    # (num_channels) x (output_shape) x (filter size)\n",
    "    views_shape = (x.shape[0],) + output_shape + filters.shape[-2:]\n",
    "    \n",
    "    print(views_shape)\n",
    "    # 2 x 3 x 3\n",
    "    \n",
    "    channel_strides, row_strides, col_strides = x.strides\n",
    "    print((channel_strides, row_strides * strides[0], col_strides * strides[1], row_strides, col_strides))\n",
    "    \n",
    "    views = np.lib.stride_tricks.as_strided(\n",
    "        x, shape=views_shape, strides=(channel_strides, row_strides * strides[0], col_strides * strides[1], row_strides, col_strides)\n",
    "        )\n",
    "    # print(views, views.shape)\n",
    "    return np.einsum('cijkl, ckl -> ij', views, filters)"
   ]
  },
  {
   "cell_type": "code",
   "execution_count": 138,
   "metadata": {},
   "outputs": [
    {
     "data": {
      "text/plain": [
       "(2, 5, 5)"
      ]
     },
     "execution_count": 138,
     "metadata": {},
     "output_type": "execute_result"
    }
   ],
   "source": [
    "# Допустим есть 2 канала 5 на 5\n",
    "test_a.shape"
   ]
  },
  {
   "cell_type": "code",
   "execution_count": 137,
   "metadata": {},
   "outputs": [
    {
     "data": {
      "text/plain": [
       "(2, 2, 3, 3)"
      ]
     },
     "execution_count": 137,
     "metadata": {},
     "output_type": "execute_result"
    }
   ],
   "source": [
    "# Допустим есть 2 фильтра (2x3x3)\n",
    "weights.shape"
   ]
  },
  {
   "cell_type": "code",
   "execution_count": 156,
   "metadata": {},
   "outputs": [
    {
     "name": "stdout",
     "output_type": "stream",
     "text": [
      "(2, np.int64(3), np.int64(3), 3, 3)\n",
      "(200, 40, 8, 40, 8)\n",
      "(2, np.int64(3), np.int64(3), 3, 3)\n",
      "(200, 40, 8, 40, 8)\n"
     ]
    }
   ],
   "source": [
    "output = np.zeros((2, 3, 3))\n",
    "\n",
    "for i in range(len(weights)):\n",
    "    output[i] = conv2d(test_a, weights[i], strides=(1, 1), padding=(0, 0))"
   ]
  },
  {
   "cell_type": "code",
   "execution_count": 157,
   "metadata": {},
   "outputs": [
    {
     "data": {
      "text/plain": [
       "array([[[17.000, 14.000, 14.000],\n",
       "        [12.000, 14.000, 16.000],\n",
       "        [10.000, 22.000, 21.000]],\n",
       "\n",
       "       [[21.000, 22.000, 10.000],\n",
       "        [16.000, 14.000, 12.000],\n",
       "        [14.000, 14.000, 17.000]]])"
      ]
     },
     "execution_count": 157,
     "metadata": {},
     "output_type": "execute_result"
    }
   ],
   "source": [
    "output"
   ]
  },
  {
   "cell_type": "code",
   "execution_count": null,
   "metadata": {},
   "outputs": [
    {
     "data": {
      "image/png": "[encoded data removed]",
      "text/plain": [
       "<Figure size 640x480 with 1 Axes>"
      ]
     },
     "metadata": {},
     "output_type": "display_data"
    }
   ],
   "source": [
    "fig, ax = plt.subplots()\n",
    "\n",
    "ax.plot(loss_history)\n",
    "ax.set_xlabel(\"epoch\")\n",
    "ax.set_ylabel(\"loss\")\n",
    "ax.set_title(\"loss history\")\n",
    "plt.show()"
   ]
  },
  {
   "cell_type": "code",
   "execution_count": null,
   "metadata": {},
   "outputs": [
    {
     "name": "stdout",
     "output_type": "stream",
     "text": [
      "              precision    recall  f1-score   support\n",
      "\n",
      "           0       0.96      0.90      0.93       980\n",
      "           1       0.91      0.94      0.92      1135\n",
      "           2       0.93      0.80      0.86      1032\n",
      "           3       0.81      0.88      0.84      1010\n",
      "           4       0.95      0.81      0.87       982\n",
      "           5       0.88      0.62      0.73       892\n",
      "           6       0.88      0.89      0.89       958\n",
      "           7       0.86      0.86      0.86      1028\n",
      "           8       0.56      0.91      0.70       974\n",
      "           9       0.87      0.77      0.82      1009\n",
      "\n",
      "    accuracy                           0.84     10000\n",
      "   macro avg       0.86      0.84      0.84     10000\n",
      "weighted avg       0.86      0.84      0.84     10000\n",
      "\n"
     ]
    },
    {
     "data": {
      "text/plain": [
       "<sklearn.metrics._plot.confusion_matrix.ConfusionMatrixDisplay at 0x7fe2671e4860>"
      ]
     },
     "execution_count": 121,
     "metadata": {},
     "output_type": "execute_result"
    },
    {
     "data": {
      "image/png": "[encoded data removed]",
      "text/plain": [
       "<Figure size 640x480 with 2 Axes>"
      ]
     },
     "metadata": {},
     "output_type": "display_data"
    }
   ],
   "source": [
    "from sklearn.metrics import ConfusionMatrixDisplay\n",
    "\n",
    "y_pred = []\n",
    "for i in range(len(test_x)):\n",
    "    y_pred.append(network.forward(test_x[i].reshape((1, 28, 28)))[0])\n",
    "\n",
    "y_pred_classes = [x for x in np.argmax(y_pred, axis=1)]\n",
    "y_true_classes = [x for x in np.argmax(test_y, axis=1)]\n",
    "\n",
    "print(sklearn.metrics.classification_report(y_true_classes, y_pred_classes))\n",
    "ConfusionMatrixDisplay.from_predictions(y_true_classes, y_pred_classes)"
   ]
  }
 ],
 "metadata": {
  "kernelspec": {
   "display_name": "all_ai",
   "language": "python",
   "name": "python3"
  },
  "language_info": {
   "codemirror_mode": {
    "name": "ipython",
    "version": 3
   },
   "file_extension": ".py",
   "mimetype": "text/x-python",
   "name": "python",
   "nbconvert_exporter": "python",
   "pygments_lexer": "ipython3",
   "version": "3.12.7"
  }
 },
 "nbformat": 4,
 "nbformat_minor": 2
}
