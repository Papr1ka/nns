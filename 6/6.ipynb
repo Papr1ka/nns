{
 "cells": [
  {
   "cell_type": "code",
   "execution_count": 228,
   "metadata": {},
   "outputs": [],
   "source": [
    "from typing import Callable, Tuple\n",
    "from keras.datasets import mnist\n",
    "\n",
    "from matplotlib import pyplot as plt\n",
    "import numpy as np\n",
    "\n",
    "import sklearn.preprocessing\n",
    "import sklearn.metrics\n",
    "\n",
    "from tqdm import tqdm\n",
    "\n",
    "# Наши разработки из 3-ей работы))\n",
    "from nn import Nums\n",
    "from nn import NN, Layer\n",
    "from nn.functions import cross_entropy, dsigmoid, sigmoid, softmax, relu, drelu\n",
    "from nn.optimizers import AdamOptimizer, OptimizerBase, NoOptimizer, RMSPropOptimizer\n",
    "\n",
    "type Nums = np.ndarray[np.number]\n",
    "type NumsToNums = Callable[[Nums], Nums]\n",
    "type NumsNumsToNums = Callable[[Nums, Nums], Nums]\n",
    "\n",
    "np.set_printoptions(formatter={\"float\": lambda x: \"{0:0.3f}\".format(x)})"
   ]
  },
  {
   "cell_type": "markdown",
   "metadata": {},
   "source": [
    "Загружаем датасет, one-hot-encoding для меток классов"
   ]
  },
  {
   "cell_type": "code",
   "execution_count": 229,
   "metadata": {},
   "outputs": [
    {
     "data": {
      "text/plain": [
       "((60000, 784), (60000, 10))"
      ]
     },
     "execution_count": 229,
     "metadata": {},
     "output_type": "execute_result"
    }
   ],
   "source": [
    "(train_x, train_y), (test_x, test_y) = mnist.load_data()\n",
    "\n",
    "train_x = train_x / 255\n",
    "test_x = test_x / 255\n",
    "\n",
    "train_x.resize(60000, 784)\n",
    "test_x.resize(10000, 784)\n",
    "\n",
    "encoder = sklearn.preprocessing.OneHotEncoder()\n",
    "train_y = encoder.fit_transform(train_y[..., None]).toarray()\n",
    "test_y = encoder.fit_transform(test_y[..., None]).toarray()\n",
    "\n",
    "train_x.shape, train_y.shape"
   ]
  },
  {
   "cell_type": "code",
   "execution_count": 230,
   "metadata": {},
   "outputs": [],
   "source": [
    "def get_views(x: Nums, window: Tuple[int, int], strides: Tuple[int, int]) -> Nums:\n",
    "    \"\"\"Возвращает view для исходного массива, размерностью [C x M x N x X x Y]\n",
    "\n",
    "    Окна для свёртки\n",
    "    \n",
    "    Args:\n",
    "        x (Nums): Исходный массив, [C x M x N]\n",
    "        window (Tuple[int, int]): X x Y\n",
    "        strides (Tuple[int, int]): Шаги по x и y\n",
    "\n",
    "    Returns:\n",
    "        Nums: [C x M x N x X x Y]\n",
    "    \"\"\"\n",
    "    output_shape = (np.subtract(x.shape[-2:], window) + strides) / strides\n",
    "    output_shape = tuple(np.floor(output_shape, casting='unsafe', dtype=int))\n",
    "    \n",
    "    # (num_channels) x (output_shape) x (filter size)\n",
    "    views_shape = (x.shape[0],) + output_shape + window\n",
    "    \n",
    "    channel_strides, row_strides, col_strides = x.strides\n",
    "    \n",
    "    views = np.lib.stride_tricks.as_strided(\n",
    "        x, shape=views_shape, strides=(channel_strides, row_strides * strides[0], col_strides * strides[1], row_strides, col_strides)\n",
    "    )\n",
    "    return views\n",
    "    "
   ]
  },
  {
   "cell_type": "code",
   "execution_count": 231,
   "metadata": {},
   "outputs": [],
   "source": [
    "def add_padding(x: Nums, padding: Tuple[int, int]) -> Nums:\n",
    "    # accepts 3d array\n",
    "    return np.pad(x, ((0, 0), (padding[1], padding[1]), (padding[0], padding[0])))\n",
    "\n",
    "def conv2d(x: Nums, filters: Nums, strides: Tuple[int, int]=(1, 1), padding: Tuple[int, int]=(0, 0)) -> Nums:\n",
    "    \"\"\"2д свёртка\n",
    "\n",
    "    Args:\n",
    "        x (Nums): Входной массив, 3d [каналы x ширина x высота]\n",
    "        filters (Nums): Ядра свёртки, 3d [каналы x ширина x высота]\n",
    "        strides (Tuple[int, int], optional): Шаги свёртки по x и y. Defaults to (1, 1).\n",
    "        padding (Tuple[int, int], optional): Отступы по x и y. Defaults to (1, 1).\n",
    "\n",
    "    Returns:\n",
    "        Nums: Результат свёртки\n",
    "    \"\"\"\n",
    "    assert x.shape[0] == filters.shape[0], f\"num channels must be the same, {x.shape[0]} != {filters.shape[0]}\"\n",
    "    if padding != (0, 0):\n",
    "        x = add_padding(x, padding)\n",
    "    \n",
    "    # x - кол-во каналов, x, y\n",
    "    # filters - кол-во каналов, x, y\n",
    "    \n",
    "    output_shape = (np.subtract(x.shape[-2:], filters.shape[-2:]) + strides) / strides\n",
    "    output_shape = tuple(np.floor(output_shape, casting='unsafe', dtype=int))\n",
    "    \n",
    "    # (num_channels) x (output_shape) x (filter size)\n",
    "    views_shape = (x.shape[0],) + output_shape + filters.shape[-2:]\n",
    "    \n",
    "    channel_strides, row_strides, col_strides = x.strides\n",
    "    \n",
    "    views = np.lib.stride_tricks.as_strided(\n",
    "        x, shape=views_shape, strides=(channel_strides, row_strides * strides[0], col_strides * strides[1], row_strides, col_strides)\n",
    "        )\n",
    "    # print(views, views.shape)\n",
    "    return np.einsum('cijkl, ckl -> ij', views, filters)"
   ]
  },
  {
   "cell_type": "code",
   "execution_count": 232,
   "metadata": {},
   "outputs": [],
   "source": [
    "def space_matrix(x, strides):\n",
    "    shape_x, shape_y = x.shape[-2:]\n",
    "    shape_x = (shape_x - 1) * strides[0] + 1\n",
    "    shape_y = (shape_y - 1) * strides[1] + 1\n",
    "    new_x = np.zeros((x.shape[:-2] + (shape_x, shape_y)))\n",
    "    new_x[..., ::strides[0], ::strides[1]] = x\n",
    "    return new_x"
   ]
  },
  {
   "cell_type": "code",
   "execution_count": 233,
   "metadata": {},
   "outputs": [],
   "source": [
    "class MaxPool2DLayer:\n",
    "    def __init__(\n",
    "        self,\n",
    "        kernel: Tuple[int, int],\n",
    "        strides: Tuple[int, int],\n",
    "    ) -> None:\n",
    "        self.window = kernel\n",
    "        self.strides = strides\n",
    "    def forward(self, x: Nums) -> Nums:\n",
    "        assert np.ndim(x) == 3, x.shape\n",
    "        \n",
    "        views = get_views(x, self.window, self.strides)\n",
    "        t = np.max(views, axis=(-2, -1))\n",
    "        \n",
    "        self.cache = x\n",
    "        return t\n",
    "        \n",
    "    def backward(self, error: Nums) -> Nums:\n",
    "        assert np.ndim(error) == 3, error.shape\n",
    "        \n",
    "        x = self.cache\n",
    "        \n",
    "        de_dX = np.zeros(x.shape)\n",
    "        \n",
    "        views_to_write = get_views(de_dX, self.window, self.strides)\n",
    "        views_to_read = get_views(x, self.window, self.strides)\n",
    "        \n",
    "        assert error.shape[0] == x.shape[0], f\"num channels must be the same, {error.shape}, {x.shape}\"\n",
    "\n",
    "        for c in range(views_to_read.shape[0]):\n",
    "            for i in range(views_to_read.shape[1]):\n",
    "                for j in range(views_to_read.shape[2]):\n",
    "                    idx = np.argmax(views_to_read[c, i, j])\n",
    "                    views_to_write[c, i, j][np.unravel_index(idx, (2, 2))] += error[c, i, j]\n",
    "        return de_dX\n",
    "\n",
    "    def update(self, learning_rate: float):\n",
    "        pass\n",
    "\n",
    "    def set_optimizer(self, optimizer: OptimizerBase):\n",
    "        pass\n",
    "\n",
    "    def __repr__(self) -> str:\n",
    "        return f\"<Pooling2dLayer>\"\n"
   ]
  },
  {
   "cell_type": "code",
   "execution_count": 446,
   "metadata": {},
   "outputs": [],
   "source": [
    "from functools import reduce\n",
    "from operator import mul\n",
    "from typing import Union\n",
    "\n",
    "\n",
    "class Conv2DLayer:\n",
    "    \"\"\"\n",
    "    Реализует свёрточный слой\n",
    "\n",
    "    input_size: int - количество входных нейронов\n",
    "    output_size: int - количество выходных нейронов\n",
    "    weights: np.ndarray[np.number] - веса слоя\n",
    "    bias: np.ndarray[np.number] - смещения\n",
    "\n",
    "    self.activation_function: NumsToNums - функция активации слоя\n",
    "    self.activation_function_derivation: NumsToNums - производная функции активации слоя\n",
    "    \"\"\"\n",
    "\n",
    "    def __init__(\n",
    "        self,\n",
    "        in_channels: int,\n",
    "        out_channels: int,\n",
    "        kernel: Tuple[int, int],\n",
    "        strides: Tuple[int, int],\n",
    "        padding: Tuple[int, int],\n",
    "        input_shape: Tuple[int, int],\n",
    "        activation_function: Union[Tuple[\n",
    "            NumsToNums,\n",
    "            NumsToNums,\n",
    "        ], None] = None,\n",
    "        weights_initialize_function: Callable[[Tuple[int, int]], Nums] = None,\n",
    "    ) -> None:\n",
    "        \n",
    "        self.in_channels = in_channels\n",
    "        self.out_channels = out_channels\n",
    "        self.kernel_shape = kernel\n",
    "        self.input_shape = input_shape\n",
    "        self.strides = strides\n",
    "        self.padding = padding\n",
    "        \n",
    "        if weights_initialize_function is None:\n",
    "            weights_initialize_function = np.random.random\n",
    "        \n",
    "        self.do_activate = activation_function is not None\n",
    "        \n",
    "        if self.do_activate:\n",
    "            self.activation_function = activation_function[0]\n",
    "            self.activation_function_derivation = activation_function[1]\n",
    "\n",
    "        self.weights = weights_initialize_function((out_channels, in_channels, *kernel))\n",
    "        self.bias = weights_initialize_function((out_channels,))\n",
    "        \n",
    "        output_shape = (np.subtract(np.add(input_shape, np.array(padding) * 2), self.kernel_shape) + strides) / strides\n",
    "        self.output_shape = tuple(np.floor(output_shape, casting='unsafe', dtype=int))\n",
    "        \n",
    "        self.cache = None\n",
    "        # self._errors_log = ([], [])\n",
    "        self.grad_w = np.zeros_like(self.weights)\n",
    "        self.grad_b = np.zeros_like(self.bias)\n",
    "\n",
    "    def forward(self, x: Nums) -> Nums:\n",
    "        assert np.ndim(x) == 3, x.shape\n",
    "\n",
    "        t = np.zeros((self.out_channels, *self.output_shape))\n",
    "        \n",
    "        for i in range(self.out_channels):\n",
    "            t[i] = conv2d(x, self.weights[i], strides=self.strides, padding=self.padding) + self.bias[i]\n",
    "        \n",
    "        self.cache = (x, t)\n",
    "        \n",
    "        if self.do_activate:\n",
    "            h = self.activation_function(t)\n",
    "        else:\n",
    "            h = t\n",
    "        return h\n",
    "\n",
    "    def backward(self, error: Nums) -> Nums:\n",
    "        \"\"\"\n",
    "        Обратное распространение ошибки\n",
    "        Запоминает производные ошибки, но не изменяет параметры модели\n",
    "        Для изменения нужно вызвать update\n",
    "        \"\"\"\n",
    "        assert np.ndim(error) == 3, error.shape\n",
    "        \n",
    "        # (8, 11, 11)\n",
    "        \n",
    "        x, t = self.cache\n",
    "        \n",
    "        if self.do_activate:\n",
    "            de_dT = error * self.activation_function_derivation(t)\n",
    "        else:\n",
    "            de_dT = error\n",
    "        \n",
    "        views = get_views(add_padding(x, self.padding), self.kernel_shape, self.strides)\n",
    "        assert np.ndim(de_dT) == 3, f\"invalid shape, {de_dT.shape}\"\n",
    "        \n",
    "        de_dW = np.einsum('cijkl, oij->ockl', views, de_dT)\n",
    "        \n",
    "        de_dB = np.zeros_like(self.bias)\n",
    "        for i in range(len(de_dT)):\n",
    "            de_dB[i] = np.sum(de_dT[i])\n",
    "        \n",
    "        de_dX = np.zeros(x.shape)\n",
    "        views_to_write = get_views(de_dX, self.kernel_shape, self.strides)\n",
    "        views_to_read = get_views(x, self.kernel_shape, self.strides)\n",
    "\n",
    "        for c in range(len(de_dT)):\n",
    "            for i in range(views_to_read.shape[1]):\n",
    "                for j in range(views_to_read.shape[2]):\n",
    "                    views_to_write[:, i, j] += de_dT[c, i, j] * self.weights[c]\n",
    "        \n",
    "        self.grad_w += de_dW\n",
    "        self.grad_b += de_dB\n",
    "        # self._errors_log[0].append(de_dW)\n",
    "        # self._errors_log[1].append(de_dB)\n",
    "        return de_dX\n",
    "\n",
    "    def update(self, learning_rate: float):\n",
    "        \"\"\"\n",
    "        Модифицирует веса модели\n",
    "        learning_rate: float, [0, 1] - на сколько сильно модель будет реагировать на ошибку\n",
    "        \"\"\"\n",
    "        # de_dWs, de_dBs = self._errors_log\n",
    "        # de_dW = np.sum(de_dWs, axis=0)\n",
    "        # de_dB = np.sum(de_dBs, axis=0)\n",
    "\n",
    "        self.optimizer.step(self.weights, self.bias, learning_rate, self.grad_w, self.grad_b)\n",
    "        \n",
    "        self.grad_w = np.zeros_like(self.grad_w)\n",
    "        self.grad_b = np.zeros_like(self.grad_b)\n",
    "\n",
    "        # self._errors_log = ([], [])\n",
    "\n",
    "    def set_optimizer(self, optimizer: OptimizerBase):\n",
    "        optimizer.init_params(self.weights, self.bias)\n",
    "        self.optimizer = optimizer\n",
    "\n",
    "    def __repr__(self) -> str:\n",
    "        return f\"<Conv2dLayer, {self.weights.shape}>\"\n"
   ]
  },
  {
   "cell_type": "code",
   "execution_count": 447,
   "metadata": {},
   "outputs": [],
   "source": [
    "class FlattenLayer:\n",
    "    def __init__(self, input_size):\n",
    "        self.input_size = input_size\n",
    "    \n",
    "    def forward(self, x: Nums) -> Nums:\n",
    "        return x.reshape((1, x.size))\n",
    "    \n",
    "    def backward(self, error: Nums) -> Nums:\n",
    "        return error.reshape(self.input_size)\n",
    "    \n",
    "    def set_optimizer(self, optimizer):\n",
    "        pass\n",
    "    \n",
    "    def update(self, lr):\n",
    "        pass"
   ]
  },
  {
   "cell_type": "code",
   "execution_count": 448,
   "metadata": {},
   "outputs": [
    {
     "name": "stdout",
     "output_type": "stream",
     "text": [
      "(1, 28, 28)\n",
      "(8, 28, 28)\n",
      "pooled (8, 14, 14)\n",
      "(8, 14, 14)\n",
      "pooled (8, 7, 7)\n",
      "(1, 392)\n",
      "(1, 128)\n",
      "(1, 10)\n",
      "Backwards\n",
      "mnn (1, 128)\n",
      "mnn (1, 392)\n",
      "unflatten (8, 7, 7)\n",
      "pool2 (8, 14, 14)\n",
      "conv2 (8, 14, 14)\n",
      "pool1 (8, 28, 28)\n",
      "conv1 (1, 28, 28)\n"
     ]
    }
   ],
   "source": [
    "from nn.functions import relu, drelu\n",
    "\n",
    "# conv1 = Conv2DLayer((5, 3, 3), (1, 1), (1, 1), (relu, drelu), (28, 28))\n",
    "# pool1 = MaxPool2DLayer((2, 2), (2, 2), (28, 28))\n",
    "# # conv2 = Conv2DLayer((3, 3, 3), (1, 1), (1, 1), (relu, drelu), (14, 14))\n",
    "# flat1 = FlattenLayer((5, 14, 14))\n",
    "# mnn1 = Layer(5 * 14 * 14, 10, (softmax, lambda x: x),\n",
    "#     weights_initialize_function=lambda shape: np.random.random(shape) * 0.01)\n",
    "\n",
    "\n",
    "\n",
    "conv1 = Conv2DLayer(1, 8, kernel=(3, 3), strides=(1, 1), padding=(1, 1), input_shape=(28, 28),\n",
    "                    weights_initialize_function=lambda shape: np.random.random(shape) * 0.01)\n",
    "\n",
    "pool1 = MaxPool2DLayer(kernel=(2, 2), strides=(2, 2))\n",
    "\n",
    "conv2 = Conv2DLayer(8, 8, kernel=(3, 3), strides=(1, 1), padding=(1, 1), input_shape=(14, 14),\n",
    "            weights_initialize_function=lambda shape: np.random.random(shape) * 0.01)\n",
    "\n",
    "pool2 = MaxPool2DLayer(kernel=(2, 2), strides=(2, 2))\n",
    "\n",
    "flat1 = FlattenLayer((8, 7, 7))\n",
    "mnn1 = Layer(8 * 7 * 7, 128, (relu, drelu),\n",
    "    weights_initialize_function=lambda shape: np.random.random(shape) * 0.01,\n",
    ")\n",
    "mnn2 = Layer(128, 10, (softmax, lambda x: x),\n",
    "    weights_initialize_function=lambda shape: np.random.random(shape) * 0.01,\n",
    ")\n",
    "\n",
    "the_y = train_x[0].reshape((1, 28, 28))\n",
    "\n",
    "true_y = train_y[0]\n",
    "\n",
    "print(the_y.shape)\n",
    "\n",
    "conv1_t = the_y\n",
    "the_y = conv1.forward(the_y)\n",
    "print(the_y.shape)\n",
    "\n",
    "the_y = pool1.forward(the_y)\n",
    "print(\"pooled\", the_y.shape)\n",
    "\n",
    "the_y = conv2.forward(the_y)\n",
    "print(the_y.shape)\n",
    "\n",
    "the_y = pool2.forward(the_y)\n",
    "print(\"pooled\", the_y.shape)\n",
    "\n",
    "the_y = flat1.forward(the_y)\n",
    "print(the_y.shape)\n",
    "\n",
    "the_y = mnn1.forward(the_y)\n",
    "print(the_y.shape)\n",
    "\n",
    "the_y = mnn2.forward(the_y)\n",
    "print(the_y.shape)\n",
    "\n",
    "print(\"Backwards\")\n",
    "\n",
    "error = the_y - true_y\n",
    "\n",
    "grad_mnn_2 = mnn2.backward(error)\n",
    "print(\"mnn\", grad_mnn_2.shape)\n",
    "\n",
    "grad_mnn = mnn1.backward(grad_mnn_2)\n",
    "print(\"mnn\", grad_mnn.shape)\n",
    "\n",
    "grad_unflatten = flat1.backward(grad_mnn)\n",
    "print(\"unflatten\", grad_unflatten.shape)\n",
    "\n",
    "grad_pool2 = pool2.backward(grad_unflatten)\n",
    "print(\"pool2\", grad_pool2.shape)\n",
    "\n",
    "de_dW2 = conv2.backward(grad_pool2)\n",
    "print(\"conv2\", de_dW2.shape)\n",
    "\n",
    "grad_pool1 = pool1.backward(de_dW2)\n",
    "print(\"pool1\", grad_pool1.shape)\n",
    "\n",
    "de_dW1 = conv1.backward(grad_pool1)\n",
    "print(\"conv1\", de_dW1.shape)\n",
    "# the_y = Conv2DLayer((3, 3, 3), (1, 1), (1, 1), (relu, drelu), (14, 14)).forward(the_y)\n",
    "# print(the_y.shape)"
   ]
  },
  {
   "cell_type": "code",
   "execution_count": 507,
   "metadata": {},
   "outputs": [],
   "source": [
    "class DropoutLayer(Layer):\n",
    "    def __init__(self, p):\n",
    "        self.p = p\n",
    "        \n",
    "    def forward(self, x):\n",
    "        self.cache = x\n",
    "        self.rnd = np.random.uniform(low=0., high=1., size=x.shape) > self.p\n",
    "        return self.rnd * x\n",
    "    \n",
    "    def backward(self, error):\n",
    "        return self.rnd * error\n",
    "    \n",
    "    def set_optimizer(self, optimizer):\n",
    "        pass\n",
    "    \n",
    "    def update(self, learning_rate):\n",
    "        pass"
   ]
  },
  {
   "cell_type": "code",
   "execution_count": 508,
   "metadata": {},
   "outputs": [],
   "source": [
    "from nn import NN, Layer\n",
    "from nn.functions import cross_entropy, dsigmoid, sigmoid, softmax"
   ]
  },
  {
   "cell_type": "code",
   "execution_count": 524,
   "metadata": {},
   "outputs": [],
   "source": [
    "# expected 95%\n",
    "from sklearn.metrics import root_mean_squared_error\n",
    "\n",
    "\n",
    "network = NN(\n",
    "    [\n",
    "        MaxPool2DLayer(kernel=(2, 2), strides=(2, 2)),\n",
    "        \n",
    "        Conv2DLayer(1, 32, kernel=(3, 3), strides=(1, 1), padding=(1, 1), input_shape=(14, 14),\n",
    "                    activation_function=(relu, drelu),\n",
    "                    weights_initialize_function=lambda shape: np.random.rand(*shape) * 0.1),\n",
    "        \n",
    "        MaxPool2DLayer(kernel=(2, 2), strides=(2, 2)),\n",
    "        \n",
    "        # Conv2DLayer(32, 16, kernel=(3, 3), strides=(1, 1), padding=(1, 1), input_shape=(7, 7),\n",
    "        #             activation_function=(relu, drelu),\n",
    "        #             weights_initialize_function=lambda shape: np.random.rand(*shape) * 0.01),\n",
    "        \n",
    "        # MaxPool2DLayer(kernel=(2, 2), strides=(2, 2)),\n",
    "        \n",
    "        # FlattenLayer((64, 5, 5)),\n",
    "        # MaxPool2DLayer(kernel=(2, 2), strides=(2, 2)),\n",
    "        FlattenLayer((32, 7, 7)),\n",
    "        # Layer(64 * 6 * 6, 128, (relu, drelu),\n",
    "        #     weights_initialize_function=lambda shape: np.random.random(shape) * 0.01,\n",
    "        # ),\n",
    "        \n",
    "        # FlattenLayer((1, 28, 28)),\n",
    "        Layer(32 * 7 * 7, 64, (relu, drelu),\n",
    "              weights_initialize_function=lambda shape: np.random.random(shape) * 0.1,),\n",
    "        DropoutLayer(0.2),\n",
    "        Layer(64, 10, (softmax, lambda x: x),\n",
    "            weights_initialize_function=lambda shape: np.random.random(shape) * 0.1,\n",
    "        ),\n",
    "    ],\n",
    "    loss_function=cross_entropy,\n",
    ")\n",
    "\n",
    "loss_history = []"
   ]
  },
  {
   "cell_type": "code",
   "execution_count": 525,
   "metadata": {},
   "outputs": [
    {
     "data": {
      "text/plain": [
       "array([[0.000, 0.001, 0.024, 0.006, 0.255, 0.108, 0.000, 0.018, 0.013,\n",
       "        0.575]])"
      ]
     },
     "execution_count": 525,
     "metadata": {},
     "output_type": "execute_result"
    }
   ],
   "source": [
    "network.forward(train_x[0].reshape((1, 28, 28)))"
   ]
  },
  {
   "cell_type": "code",
   "execution_count": null,
   "metadata": {},
   "outputs": [
    {
     "name": "stderr",
     "output_type": "stream",
     "text": [
      "epoch: 77, loss: 13.0322231799:   8%|▊         | 77/1000 [05:02<1:00:24,  3.93s/it]\n"
     ]
    },
    {
     "ename": "KeyboardInterrupt",
     "evalue": "",
     "output_type": "error",
     "traceback": [
      "\u001b[0;31m---------------------------------------------------------------------------\u001b[0m",
      "\u001b[0;31mKeyboardInterrupt\u001b[0m                         Traceback (most recent call last)",
      "Cell \u001b[0;32mIn[526], line 42\u001b[0m\n\u001b[1;32m     38\u001b[0m         network\u001b[38;5;241m.\u001b[39mlosses\u001b[38;5;241m.\u001b[39mclear()\n\u001b[1;32m     39\u001b[0m     \u001b[38;5;28;01mreturn\u001b[39;00m loss_history\n\u001b[0;32m---> 42\u001b[0m loss_history \u001b[38;5;241m=\u001b[39m \u001b[43mtrain\u001b[49m\u001b[43m(\u001b[49m\n\u001b[1;32m     43\u001b[0m \u001b[43m    \u001b[49m\u001b[43mnetwork\u001b[49m\u001b[43m,\u001b[49m\u001b[43m \u001b[49m\u001b[43mtrain_x\u001b[49m\u001b[38;5;241;43m.\u001b[39;49m\u001b[43mreshape\u001b[49m\u001b[43m(\u001b[49m\u001b[43m(\u001b[49m\u001b[38;5;241;43m60000\u001b[39;49m\u001b[43m,\u001b[49m\u001b[43m \u001b[49m\u001b[38;5;241;43m1\u001b[39;49m\u001b[43m,\u001b[49m\u001b[43m \u001b[49m\u001b[38;5;241;43m28\u001b[39;49m\u001b[43m,\u001b[49m\u001b[43m \u001b[49m\u001b[38;5;241;43m28\u001b[39;49m\u001b[43m)\u001b[49m\u001b[43m)\u001b[49m\u001b[43m,\u001b[49m\u001b[43m \u001b[49m\u001b[43mtrain_y\u001b[49m\u001b[43m,\u001b[49m\u001b[43m \u001b[49m\u001b[38;5;241;43m1000\u001b[39;49m\u001b[43m,\u001b[49m\u001b[43m \u001b[49m\u001b[38;5;241;43m0.003\u001b[39;49m\u001b[43m,\u001b[49m\u001b[43m \u001b[49m\u001b[38;5;241;43m25\u001b[39;49m\u001b[43m,\u001b[49m\u001b[43m \u001b[49m\u001b[43mloss_history\u001b[49m\n\u001b[1;32m     44\u001b[0m \u001b[43m)\u001b[49m\n",
      "Cell \u001b[0;32mIn[526], line 23\u001b[0m, in \u001b[0;36mtrain\u001b[0;34m(network, x, y, num_epoches, learning_rate, batch_size, loss_history)\u001b[0m\n\u001b[1;32m     20\u001b[0m epoch_x \u001b[38;5;241m=\u001b[39m x[indices]\n\u001b[1;32m     21\u001b[0m epoch_y \u001b[38;5;241m=\u001b[39m y[indices]\n\u001b[0;32m---> 23\u001b[0m \u001b[43mnetwork\u001b[49m\u001b[38;5;241;43m.\u001b[39;49m\u001b[43mtrain\u001b[49m\u001b[43m(\u001b[49m\n\u001b[1;32m     24\u001b[0m \u001b[43m    \u001b[49m\u001b[43mepoch_x\u001b[49m\u001b[43m,\u001b[49m\n\u001b[1;32m     25\u001b[0m \u001b[43m    \u001b[49m\u001b[43mepoch_y\u001b[49m\u001b[43m,\u001b[49m\n\u001b[1;32m     26\u001b[0m \u001b[43m    \u001b[49m\u001b[38;5;28;43;01mlambda\u001b[39;49;00m\u001b[43m:\u001b[49m\u001b[43m \u001b[49m\u001b[43mAdamOptimizer\u001b[49m\u001b[43m(\u001b[49m\u001b[38;5;241;43m0.4\u001b[39;49m\u001b[43m,\u001b[49m\u001b[43m \u001b[49m\u001b[38;5;241;43m0.999\u001b[39;49m\u001b[43m)\u001b[49m\u001b[43m,\u001b[49m\n\u001b[1;32m     27\u001b[0m \u001b[43m    \u001b[49m\u001b[43mlearning_rate\u001b[49m\u001b[38;5;241;43m=\u001b[39;49m\u001b[43mlearning_rate\u001b[49m\u001b[43m,\u001b[49m\n\u001b[1;32m     28\u001b[0m \u001b[43m    \u001b[49m\u001b[43mbatch_size\u001b[49m\u001b[38;5;241;43m=\u001b[39;49m\u001b[43mbatch_size\u001b[49m\u001b[43m,\u001b[49m\n\u001b[1;32m     29\u001b[0m \u001b[43m\u001b[49m\u001b[43m)\u001b[49m\n\u001b[1;32m     31\u001b[0m \u001b[38;5;66;03m# Средний loss за эпоху\u001b[39;00m\n\u001b[1;32m     32\u001b[0m loss \u001b[38;5;241m=\u001b[39m network\u001b[38;5;241m.\u001b[39mpop_loss(np\u001b[38;5;241m.\u001b[39mmean)\n",
      "File \u001b[0;32m~/dev/neural_networks/6/nn/nn.py:89\u001b[0m, in \u001b[0;36mNN.train\u001b[0;34m(self, xs, ys, optimizer_factory, learning_rate, batch_size)\u001b[0m\n\u001b[1;32m     86\u001b[0m error \u001b[38;5;241m=\u001b[39m predict \u001b[38;5;241m-\u001b[39m y\n\u001b[1;32m     88\u001b[0m \u001b[38;5;66;03m# Считаем ошибку\u001b[39;00m\n\u001b[0;32m---> 89\u001b[0m \u001b[38;5;28;43mself\u001b[39;49m\u001b[38;5;241;43m.\u001b[39;49m\u001b[43mbackward\u001b[49m\u001b[43m(\u001b[49m\u001b[43merror\u001b[49m\u001b[43m)\u001b[49m\n\u001b[1;32m     91\u001b[0m E \u001b[38;5;241m=\u001b[39m \u001b[38;5;28mself\u001b[39m\u001b[38;5;241m.\u001b[39mloss_function(predict, y)\n\u001b[1;32m     92\u001b[0m \u001b[38;5;28mself\u001b[39m\u001b[38;5;241m.\u001b[39mpredicted\u001b[38;5;241m.\u001b[39mappend(predict)\n",
      "File \u001b[0;32m~/dev/neural_networks/6/nn/nn.py:49\u001b[0m, in \u001b[0;36mNN.backward\u001b[0;34m(self, error)\u001b[0m\n\u001b[1;32m     47\u001b[0m \u001b[38;5;66;03m# Для последнего слоя ошибку получаем в error_function\u001b[39;00m\n\u001b[1;32m     48\u001b[0m \u001b[38;5;28;01mfor\u001b[39;00m layer \u001b[38;5;129;01min\u001b[39;00m \u001b[38;5;28mself\u001b[39m\u001b[38;5;241m.\u001b[39mlayers[::\u001b[38;5;241m-\u001b[39m\u001b[38;5;241m1\u001b[39m]:\n\u001b[0;32m---> 49\u001b[0m     current_error \u001b[38;5;241m=\u001b[39m \u001b[43mlayer\u001b[49m\u001b[38;5;241;43m.\u001b[39;49m\u001b[43mbackward\u001b[49m\u001b[43m(\u001b[49m\u001b[43mcurrent_error\u001b[49m\u001b[43m)\u001b[49m\n\u001b[1;32m     50\u001b[0m \u001b[38;5;28;01mreturn\u001b[39;00m current_error\n",
      "Cell \u001b[0;32mIn[233], line 34\u001b[0m, in \u001b[0;36mMaxPool2DLayer.backward\u001b[0;34m(self, error)\u001b[0m\n\u001b[1;32m     32\u001b[0m         \u001b[38;5;28;01mfor\u001b[39;00m j \u001b[38;5;129;01min\u001b[39;00m \u001b[38;5;28mrange\u001b[39m(views_to_read\u001b[38;5;241m.\u001b[39mshape[\u001b[38;5;241m2\u001b[39m]):\n\u001b[1;32m     33\u001b[0m             idx \u001b[38;5;241m=\u001b[39m np\u001b[38;5;241m.\u001b[39margmax(views_to_read[c, i, j])\n\u001b[0;32m---> 34\u001b[0m             views_to_write[c, i, j][\u001b[43mnp\u001b[49m\u001b[38;5;241;43m.\u001b[39;49m\u001b[43munravel_index\u001b[49m\u001b[43m(\u001b[49m\u001b[43midx\u001b[49m\u001b[43m,\u001b[49m\u001b[43m \u001b[49m\u001b[43m(\u001b[49m\u001b[38;5;241;43m2\u001b[39;49m\u001b[43m,\u001b[49m\u001b[43m \u001b[49m\u001b[38;5;241;43m2\u001b[39;49m\u001b[43m)\u001b[49m\u001b[43m)\u001b[49m] \u001b[38;5;241m+\u001b[39m\u001b[38;5;241m=\u001b[39m error[c, i, j]\n\u001b[1;32m     35\u001b[0m \u001b[38;5;28;01mreturn\u001b[39;00m de_dX\n",
      "\u001b[0;31mKeyboardInterrupt\u001b[0m: "
     ]
    }
   ],
   "source": [
    "def train(\n",
    "    network: NN,\n",
    "    x: Nums,\n",
    "    y: Nums,\n",
    "    num_epoches: int,\n",
    "    learning_rate: float,\n",
    "    batch_size: int,\n",
    "    loss_history: list\n",
    "):\n",
    "    bar = tqdm(range(1, num_epoches + 1), total=num_epoches)\n",
    "    xy_indices = np.arange(len(x))\n",
    "    for epoch in bar:\n",
    "        network.predicted.clear()\n",
    "        # В каждой эпохе изменим порядок обучающего датасета\n",
    "        np.random.shuffle(xy_indices)\n",
    "\n",
    "        # size - размер выборки для эпохи, ставлю 1000, чтобы быстрее видеть результат\n",
    "        indices = np.random.choice(len(xy_indices), size=100, replace=False)\n",
    "\n",
    "        epoch_x = x[indices]\n",
    "        epoch_y = y[indices]\n",
    "        \n",
    "        network.train(\n",
    "            epoch_x,\n",
    "            epoch_y,\n",
    "            lambda: AdamOptimizer(0.4, 0.999),\n",
    "            learning_rate=learning_rate,\n",
    "            batch_size=batch_size,\n",
    "        )\n",
    "        \n",
    "        # Средний loss за эпоху\n",
    "        loss = network.pop_loss(np.mean)\n",
    "        loss_history.append(loss)\n",
    "\n",
    "        bar.set_description(\n",
    "            f\"epoch: {epoch}, loss: {loss:.10f}\"\n",
    "        )\n",
    "        network.losses.clear()\n",
    "    return loss_history\n",
    "\n",
    "\n",
    "loss_history = train(\n",
    "    network, train_x.reshape((60000, 1, 28, 28)), train_y, 1, 0.003, 25, loss_history\n",
    ")"
   ]
  },
  {
   "cell_type": "code",
   "execution_count": 527,
   "metadata": {},
   "outputs": [
    {
     "data": {
      "image/png": "[encoded data removed]",
      "text/plain": [
       "<Figure size 640x480 with 1 Axes>"
      ]
     },
     "metadata": {},
     "output_type": "display_data"
    }
   ],
   "source": [
    "fig, ax = plt.subplots()\n",
    "\n",
    "ax.plot(loss_history)\n",
    "ax.set_xlabel(\"epoch\")\n",
    "ax.set_ylabel(\"loss\")\n",
    "ax.set_title(\"loss history\")\n",
    "plt.show()"
   ]
  },
  {
   "cell_type": "code",
   "execution_count": 528,
   "metadata": {},
   "outputs": [
    {
     "name": "stdout",
     "output_type": "stream",
     "text": [
      "              precision    recall  f1-score   support\n",
      "\n",
      "           0       0.94      0.96      0.95       980\n",
      "           1       0.98      0.96      0.97      1135\n",
      "           2       0.96      0.81      0.88      1032\n",
      "           3       0.84      0.91      0.87      1010\n",
      "           4       0.87      0.95      0.91       982\n",
      "           5       0.88      0.89      0.89       892\n",
      "           6       0.91      0.95      0.93       958\n",
      "           7       0.93      0.88      0.91      1028\n",
      "           8       0.81      0.88      0.84       974\n",
      "           9       0.89      0.81      0.85      1009\n",
      "\n",
      "    accuracy                           0.90     10000\n",
      "   macro avg       0.90      0.90      0.90     10000\n",
      "weighted avg       0.90      0.90      0.90     10000\n",
      "\n"
     ]
    },
    {
     "data": {
      "text/plain": [
       "<sklearn.metrics._plot.confusion_matrix.ConfusionMatrixDisplay at 0x7f8630122210>"
      ]
     },
     "execution_count": 528,
     "metadata": {},
     "output_type": "execute_result"
    },
    {
     "data": {
      "image/png": "[encoded data removed]",
      "text/plain": [
       "<Figure size 640x480 with 2 Axes>"
      ]
     },
     "metadata": {},
     "output_type": "display_data"
    }
   ],
   "source": [
    "from sklearn.metrics import ConfusionMatrixDisplay\n",
    "\n",
    "y_pred = []\n",
    "for i in range(len(test_x)):\n",
    "    y_pred.append(network.forward(test_x[i].reshape((1, 28, 28)))[0])\n",
    "\n",
    "y_pred_classes = [x for x in np.argmax(y_pred, axis=1)]\n",
    "y_true_classes = [x for x in np.argmax(test_y, axis=1)]\n",
    "\n",
    "print(sklearn.metrics.classification_report(y_true_classes, y_pred_classes))\n",
    "ConfusionMatrixDisplay.from_predictions(y_true_classes, y_pred_classes)"
   ]
  },
  {
   "cell_type": "code",
   "execution_count": 300,
   "metadata": {},
   "outputs": [],
   "source": [
    "def show_multiple(images):\n",
    "    # plot images\n",
    "    fig, axes = plt.subplots(1, len(images), figsize=(1.5*len(images),2))\n",
    "    for i in range(len(images)):\n",
    "        ax = axes[i]\n",
    "        ax.imshow(images[i], cmap='gray')"
   ]
  },
  {
   "cell_type": "code",
   "execution_count": 301,
   "metadata": {},
   "outputs": [
    {
     "data": {
      "image/png": "[encoded data removed]",
      "text/plain": [
       "<Figure size 640x480 with 1 Axes>"
      ]
     },
     "metadata": {},
     "output_type": "display_data"
    },
    {
     "data": {
      "image/png": "[encoded data removed]",
      "text/plain": [
       "<Figure size 1200x200 with 8 Axes>"
      ]
     },
     "metadata": {},
     "output_type": "display_data"
    },
    {
     "data": {
      "image/png": "[encoded data removed]",
      "text/plain": [
       "<Figure size 1200x200 with 8 Axes>"
      ]
     },
     "metadata": {},
     "output_type": "display_data"
    },
    {
     "data": {
      "image/png": "[encoded data removed]",
      "text/plain": [
       "<Figure size 1200x200 with 8 Axes>"
      ]
     },
     "metadata": {},
     "output_type": "display_data"
    }
   ],
   "source": [
    "sample = train_x[4].reshape((1, 28, 28))\n",
    "\n",
    "fig = plt.figure\n",
    "plt.imshow(sample[0], cmap='gray_r')\n",
    "plt.show()\n",
    "\n",
    "after_conv_1 = network.layers[0].forward(sample)\n",
    "show_multiple(after_conv_1)\n",
    "after_max = network.layers[1].forward(after_conv_1)\n",
    "show_multiple(after_max)\n",
    "after_conv_2 = network.layers[2].forward(after_max)\n",
    "show_multiple(after_conv_2)\n",
    "# after_max_2 = network.layers[3].forward(after_conv_2)\n",
    "# show_multiple(after_max_2)\n",
    "\n",
    "plt.tight_layout()\n",
    "plt.show()\n"
   ]
  },
  {
   "cell_type": "code",
   "execution_count": 302,
   "metadata": {},
   "outputs": [],
   "source": [
    "def forward_conv(self, X):\n",
    "    \"\"\"\n",
    "        Performs a forward convolution.\n",
    "\n",
    "        Parameters:\n",
    "        - X : Last conv layer of shape (m, n_C_prev, n_H_prev, n_W_prev).\n",
    "\n",
    "        Returns:\n",
    "        - out: output of convolution.\n",
    "    \"\"\"\n",
    "    self.cache = X\n",
    "    m, n_C_prev, n_H_prev, n_W_prev = X.shape\n",
    "\n",
    "    # Define output size.\n",
    "    n_C = self.n_F\n",
    "    n_H = int((n_H_prev + 2 * self.p - self.f)/ self.s) + 1\n",
    "    n_W = int((n_W_prev + 2 * self.p - self.f)/ self.s) + 1\n",
    "\n",
    "    out = np.zeros((m, n_C, n_H, n_W))\n",
    "\n",
    "    for i in range(m): # For each image.\n",
    "\n",
    "        for c in range(n_C): # For each channel.\n",
    "\n",
    "            for h in range(n_H): # Slide the filter vertically.\n",
    "                h_start = h * self.s\n",
    "                h_end = h_start + self.f\n",
    "\n",
    "                for w in range(n_W): # Slide the filter horizontally.                \n",
    "                    w_start = w * self.s\n",
    "                    w_end = w_start + self.f\n",
    "\n",
    "                    # Element wise multiplication + sum.\n",
    "                    out[i, c, h, w] = np.sum(X[i, :, h_start:h_end, w_start:w_end] \n",
    "                                    * self.W['val'][c, ...]) + self.b['val'][c]\n",
    "    return out"
   ]
  },
  {
   "cell_type": "code",
   "execution_count": 303,
   "metadata": {},
   "outputs": [],
   "source": [
    "def backward(self, dout):\n",
    "    \"\"\"\n",
    "        Distributes error from previous layer to convolutional layer and\n",
    "        compute error for the current convolutional layer.\n",
    "        Parameters:\n",
    "        - dout: error from previous layer.\n",
    "\n",
    "        Returns:\n",
    "        - deltaL: error of the current convolutional layer.\n",
    "    \"\"\"\n",
    "    X = self.cache\n",
    "\n",
    "    m, n_C, n_H, n_W = X.shape\n",
    "    m, n_C_dout, n_H_dout, n_W_dout = dout.shape\n",
    "\n",
    "    dX = np.zeros(X.shape)\n",
    "\n",
    "    #Compute dW.\n",
    "    for i in range(m): # For each example.\n",
    "\n",
    "        for c in range(n_C_dout): # For each channel.\n",
    "\n",
    "            for h in range(n_H_dout): # Slide the filter vertically.\n",
    "                h_start = h * self.s\n",
    "                h_end = h_start + self.f\n",
    "\n",
    "                for w in range(n_W_dout): #  Slide the filter horizontally.\n",
    "                    w_start = w * self.s\n",
    "                    w_end = w_start + self.f\n",
    "\n",
    "                    self.W['grad'][c, ...] += dout[i, c, h, w] * X[i, :, h_start:h_end, w_start:w_end]\n",
    "                    dX[i, :, h_start:h_end, w_start:w_end] += dout[i, c, h, w] * self.W['val'][c, ...]\n",
    "    #Compute db.\n",
    "    for c in range(self.n_F):\n",
    "        self.b['grad'][c, ...] = np.sum(dout[:, c, ...])\n",
    "\n",
    "    return dX, self.W['grad'], self.b['grad']"
   ]
  },
  {
   "cell_type": "code",
   "execution_count": 304,
   "metadata": {},
   "outputs": [
    {
     "data": {
      "text/plain": [
       "(4, 2, 3, 3)"
      ]
     },
     "execution_count": 304,
     "metadata": {},
     "output_type": "execute_result"
    }
   ],
   "source": [
    "from numpy import flip\n",
    "\n",
    "\n",
    "class A:\n",
    "    pass\n",
    "\n",
    "weights = np.array([\n",
    "    [\n",
    "        [0, 1, 0],\n",
    "        [1, 0, 1],\n",
    "        [2, 1, 0]\n",
    "    ],\n",
    "    [\n",
    "        [0, 1, 0],\n",
    "        [1, 0, 1],\n",
    "        [2, 1, 0]\n",
    "    ]\n",
    "])\n",
    "\n",
    "weights = np.array([weights, flip(weights), weights, flip(weights)])\n",
    "bias = np.ones((len(weights),))\n",
    "\n",
    "obj = A()\n",
    "obj.n_F = 4  # num filters\n",
    "obj.s = 1  # strides\n",
    "obj.f = 3  # kernel shape\n",
    "obj.p = 0  # padding\n",
    "obj.W = {'val': weights, 'grad': np.zeros_like(weights, dtype=np.float64)}\n",
    "obj.b = {'val': bias, 'grad': np.zeros_like(bias, dtype=np.float64)}\n",
    "weights.shape"
   ]
  },
  {
   "cell_type": "code",
   "execution_count": 255,
   "metadata": {},
   "outputs": [
    {
     "name": "stdout",
     "output_type": "stream",
     "text": [
      "error_shape (1, 4, 3, 3)\n",
      "grad to prev layer\n",
      "shape (1, 4, 3, 3)\n"
     ]
    },
    {
     "ename": "ValueError",
     "evalue": "operands could not be broadcast together with shapes (4,2,5,5) (4,2,3,3) (4,2,5,5) ",
     "output_type": "error",
     "traceback": [
      "\u001b[0;31m---------------------------------------------------------------------------\u001b[0m",
      "\u001b[0;31mValueError\u001b[0m                                Traceback (most recent call last)",
      "Cell \u001b[0;32mIn[255], line 39\u001b[0m\n\u001b[1;32m     37\u001b[0m q \u001b[38;5;241m=\u001b[39m l\u001b[38;5;241m.\u001b[39mforward(test_a\u001b[38;5;241m.\u001b[39mreshape(\u001b[38;5;241m2\u001b[39m, \u001b[38;5;241m5\u001b[39m, \u001b[38;5;241m5\u001b[39m))\n\u001b[1;32m     38\u001b[0m \u001b[38;5;28mprint\u001b[39m(\u001b[38;5;124m\"\u001b[39m\u001b[38;5;124mshape\u001b[39m\u001b[38;5;124m\"\u001b[39m, error\u001b[38;5;241m.\u001b[39mshape)\n\u001b[0;32m---> 39\u001b[0m dx \u001b[38;5;241m=\u001b[39m \u001b[43ml\u001b[49m\u001b[38;5;241;43m.\u001b[39;49m\u001b[43mbackward\u001b[49m\u001b[43m(\u001b[49m\u001b[43merror\u001b[49m\u001b[43m[\u001b[49m\u001b[38;5;241;43m0\u001b[39;49m\u001b[43m]\u001b[49m\u001b[43m)\u001b[49m\n\u001b[1;32m     40\u001b[0m \u001b[38;5;66;03m# dw, db = l._errors_log\u001b[39;00m\n\u001b[1;32m     41\u001b[0m \u001b[38;5;66;03m# q\u001b[39;00m\n",
      "Cell \u001b[0;32mIn[234], line 112\u001b[0m, in \u001b[0;36mConv2DLayer.backward\u001b[0;34m(self, error)\u001b[0m\n\u001b[1;32m    109\u001b[0m         \u001b[38;5;28;01mfor\u001b[39;00m j \u001b[38;5;129;01min\u001b[39;00m \u001b[38;5;28mrange\u001b[39m(views_to_read\u001b[38;5;241m.\u001b[39mshape[\u001b[38;5;241m2\u001b[39m]):\n\u001b[1;32m    110\u001b[0m             views_to_write[:, i, j] \u001b[38;5;241m+\u001b[39m\u001b[38;5;241m=\u001b[39m de_dT[c, i, j] \u001b[38;5;241m*\u001b[39m \u001b[38;5;28mself\u001b[39m\u001b[38;5;241m.\u001b[39mweights[c]\n\u001b[0;32m--> 112\u001b[0m \u001b[38;5;28;43mself\u001b[39;49m\u001b[38;5;241;43m.\u001b[39;49m\u001b[43mgrad_w\u001b[49m\u001b[43m \u001b[49m\u001b[38;5;241;43m+\u001b[39;49m\u001b[38;5;241;43m=\u001b[39;49m\u001b[43m \u001b[49m\u001b[43mde_dW\u001b[49m\n\u001b[1;32m    113\u001b[0m \u001b[38;5;28mself\u001b[39m\u001b[38;5;241m.\u001b[39mgrad_b \u001b[38;5;241m+\u001b[39m\u001b[38;5;241m=\u001b[39m de_dB\n\u001b[1;32m    114\u001b[0m \u001b[38;5;66;03m# self._errors_log[0].append(de_dW)\u001b[39;00m\n\u001b[1;32m    115\u001b[0m \u001b[38;5;66;03m# self._errors_log[1].append(de_dB)\u001b[39;00m\n",
      "\u001b[0;31mValueError\u001b[0m: operands could not be broadcast together with shapes (4,2,5,5) (4,2,3,3) (4,2,5,5) "
     ]
    }
   ],
   "source": [
    "test_a = np.array([\n",
    "    [\n",
    "        [0, 1, 2, 1, 0],\n",
    "        [4, 1, 0, 1, 0],\n",
    "        [2, 0, 1, 1, 1],\n",
    "        [1, 2, 3, 1, 0],\n",
    "        [0, 4, 3, 2, 0],\n",
    "    ],\n",
    "    np.flip(np.array([\n",
    "        [0, 1, 2, 1, 0],\n",
    "        [4, 1, 0, 1, 0],\n",
    "        [2, 0, 1, 1, 1],\n",
    "        [1, 2, 3, 1, 0],\n",
    "        [0, 4, 3, 2, 0],\n",
    "    ])),\n",
    "])\n",
    "# display(test_a)\n",
    "\n",
    "fwd = forward_conv(obj, test_a.reshape((1, 2, 5, 5)))\n",
    "# display(fwd, fwd.shape)\n",
    "\n",
    "y = relu(fwd)\n",
    "\n",
    "error = np.random.randint(1, 100, size=y.shape)\n",
    "# error = np.ones_like(y)[0]\n",
    "print(\"error_shape\", error.shape)\n",
    "\n",
    "de_dT = error * drelu(fwd)\n",
    "\n",
    "print(\"grad to prev layer\")\n",
    "dx_true, dw_true, db_true = backward(obj, de_dT)\n",
    "# de_dT = de_dT[0]\n",
    "\n",
    "l = Conv2DLayer(2, 4, (3, 3), (1, 1), (0, 0), (5, 5), (relu, drelu))\n",
    "l.weights = weights\n",
    "l.bias = obj.b['val']\n",
    "q = l.forward(test_a.reshape(2, 5, 5))\n",
    "print(\"shape\", error.shape)\n",
    "dx = l.backward(error[0])\n",
    "# dw, db = l._errors_log\n",
    "# q"
   ]
  },
  {
   "cell_type": "code",
   "execution_count": 257,
   "metadata": {},
   "outputs": [
    {
     "data": {
      "text/plain": [
       "array([[[1.000, 0.000, 0.000],\n",
       "        [0.000, 0.000, 0.000],\n",
       "        [0.000, 0.000, 0.000]],\n",
       "\n",
       "       [[0.000, 1.000, 0.000],\n",
       "        [0.000, 0.000, 0.000],\n",
       "        [0.000, 0.000, 0.000]],\n",
       "\n",
       "       [[1.000, 0.000, 0.000],\n",
       "        [0.000, 0.000, 0.000],\n",
       "        [0.000, 0.000, 0.000]],\n",
       "\n",
       "       [[0.000, 1.000, 0.000],\n",
       "        [0.000, 0.000, 0.000],\n",
       "        [0.000, 0.000, 0.000]]])"
      ]
     },
     "execution_count": 257,
     "metadata": {},
     "output_type": "execute_result"
    }
   ],
   "source": [
    "layer = MaxPool2DLayer((2, 2), (2, 2))\n",
    "pooled = layer.forward(q)\n",
    "layer.backward(np.ones_like(pooled))\n",
    "# views = get_views(q, (2, 2), (2, 2))\n",
    "# t = np.max(views, axis=(-2, -1))\n",
    "\n",
    "# pooled, pooled.shape, views.shape"
   ]
  },
  {
   "cell_type": "code",
   "execution_count": 258,
   "metadata": {},
   "outputs": [
    {
     "data": {
      "text/plain": [
       "array([[[1.000]],\n",
       "\n",
       "       [[1.000]],\n",
       "\n",
       "       [[1.000]],\n",
       "\n",
       "       [[1.000]]])"
      ]
     },
     "execution_count": 258,
     "metadata": {},
     "output_type": "execute_result"
    }
   ],
   "source": [
    "error = np.ones_like(pooled)\n",
    "error"
   ]
  },
  {
   "cell_type": "code",
   "execution_count": 259,
   "metadata": {},
   "outputs": [
    {
     "ename": "NameError",
     "evalue": "name 'views' is not defined",
     "output_type": "error",
     "traceback": [
      "\u001b[0;31m---------------------------------------------------------------------------\u001b[0m",
      "\u001b[0;31mNameError\u001b[0m                                 Traceback (most recent call last)",
      "Cell \u001b[0;32mIn[259], line 1\u001b[0m\n\u001b[0;32m----> 1\u001b[0m \u001b[43mviews\u001b[49m\u001b[38;5;241m.\u001b[39mshape\n",
      "\u001b[0;31mNameError\u001b[0m: name 'views' is not defined"
     ]
    }
   ],
   "source": [
    "views.shape"
   ]
  },
  {
   "cell_type": "code",
   "execution_count": 260,
   "metadata": {},
   "outputs": [
    {
     "data": {
      "text/plain": [
       "array([[[1.000, 0.000, 0.000],\n",
       "        [0.000, 0.000, 0.000],\n",
       "        [0.000, 0.000, 0.000]],\n",
       "\n",
       "       [[0.000, 1.000, 0.000],\n",
       "        [0.000, 0.000, 0.000],\n",
       "        [0.000, 0.000, 0.000]],\n",
       "\n",
       "       [[1.000, 0.000, 0.000],\n",
       "        [0.000, 0.000, 0.000],\n",
       "        [0.000, 0.000, 0.000]],\n",
       "\n",
       "       [[0.000, 1.000, 0.000],\n",
       "        [0.000, 0.000, 0.000],\n",
       "        [0.000, 0.000, 0.000]]])"
      ]
     },
     "execution_count": 260,
     "metadata": {},
     "output_type": "execute_result"
    }
   ],
   "source": [
    "de_dX = np.zeros((4, 3, 3))\n",
    "views_to_write = get_views(de_dX, (2, 2), (2, 2))\n",
    "views_to_read = get_views(q, (2, 2), (2, 2))\n",
    "\n",
    "for c in range(len(views_to_read)):\n",
    "    for i in range(views_to_read.shape[1]):\n",
    "        for j in range(views_to_read.shape[2]):\n",
    "            idx = np.argmax(views_to_read[c, i, j])\n",
    "            views_to_write[c, i, j][np.unravel_index(idx, (2, 2))] += error[c, i, j]\n",
    "\n",
    "de_dX"
   ]
  },
  {
   "cell_type": "code",
   "execution_count": 261,
   "metadata": {},
   "outputs": [
    {
     "data": {
      "text/plain": [
       "array([[[[413.000, 321.000, 279.000],\n",
       "         [464.000, 307.000, 305.000],\n",
       "         [507.000, 612.000, 391.000]],\n",
       "\n",
       "        [[523.000, 754.000, 712.000],\n",
       "         [317.000, 482.000, 556.000],\n",
       "         [290.000, 254.000, 415.000]]],\n",
       "\n",
       "\n",
       "       [[[339.000, 323.000, 355.000],\n",
       "         [676.000, 512.000, 209.000],\n",
       "         [950.000, 730.000, 355.000]],\n",
       "\n",
       "        [[561.000, 784.000, 598.000],\n",
       "         [380.000, 388.000, 751.000],\n",
       "         [441.000, 314.000, 506.000]]],\n",
       "\n",
       "\n",
       "       [[[629.000, 456.000, 344.000],\n",
       "         [575.000, 407.000, 367.000],\n",
       "         [670.000, 849.000, 522.000]],\n",
       "\n",
       "        [[746.000, 1039.000, 918.000],\n",
       "         [502.000, 713.000, 760.000],\n",
       "         [446.000, 325.000, 474.000]]],\n",
       "\n",
       "\n",
       "       [[[745.000, 300.000, 264.000],\n",
       "         [525.000, 541.000, 473.000],\n",
       "         [790.000, 1033.000, 786.000]],\n",
       "\n",
       "        [[536.000, 877.000, 654.000],\n",
       "         [494.000, 413.000, 394.000],\n",
       "         [262.000, 359.000, 568.000]]]])"
      ]
     },
     "execution_count": 261,
     "metadata": {},
     "output_type": "execute_result"
    }
   ],
   "source": [
    "obj.W['grad'] = np.zeros_like(obj.W['val'], dtype=np.float64)\n",
    "obj.b['grad'] = np.zeros_like(obj.b['val'], dtype=np.float64)\n",
    "_, dw, _ = backward(obj, de_dT)\n",
    "dw"
   ]
  },
  {
   "cell_type": "code",
   "execution_count": 262,
   "metadata": {},
   "outputs": [
    {
     "data": {
      "text/plain": [
       "((1, 4, 3, 3), (4, 2, 3, 3))"
      ]
     },
     "execution_count": 262,
     "metadata": {},
     "output_type": "execute_result"
    }
   ],
   "source": [
    "de_dT.shape, weights.shape"
   ]
  },
  {
   "cell_type": "code",
   "execution_count": 263,
   "metadata": {},
   "outputs": [
    {
     "data": {
      "text/plain": [
       "array([[[0.000, 133.000, 329.000, 277.000, 262.000],\n",
       "        [133.000, 330.000, 896.000, 661.000, 415.000],\n",
       "        [267.000, 911.000, 1008.000, 1018.000, 338.000],\n",
       "        [252.000, 545.000, 795.000, 284.000, 217.000],\n",
       "        [162.000, 184.000, 380.000, 217.000, 0.000]],\n",
       "\n",
       "       [[0.000, 133.000, 329.000, 277.000, 262.000],\n",
       "        [133.000, 330.000, 896.000, 661.000, 415.000],\n",
       "        [267.000, 911.000, 1008.000, 1018.000, 338.000],\n",
       "        [252.000, 545.000, 795.000, 284.000, 217.000],\n",
       "        [162.000, 184.000, 380.000, 217.000, 0.000]]])"
      ]
     },
     "execution_count": 263,
     "metadata": {},
     "output_type": "execute_result"
    }
   ],
   "source": [
    "de_dX = np.zeros(test_a.shape)\n",
    "views_to_write = get_views(de_dX, weights.shape[2:], (1, 1))\n",
    "views_to_read = get_views(test_a, weights.shape[2:], (1, 1))\n",
    "\n",
    "for c in range(len(de_dT[0])):\n",
    "    for i in range(views_to_read.shape[1]):\n",
    "        for j in range(views_to_read.shape[2]):\n",
    "            views_to_write[:, i, j] += de_dT[0, c, i, j] * weights[c]\n",
    "\n",
    "de_dX"
   ]
  },
  {
   "cell_type": "code",
   "execution_count": null,
   "metadata": {},
   "outputs": [
    {
     "ename": "ValueError",
     "evalue": "operands could not be broadcast together with shapes (4,) (4,2,3,3) ",
     "output_type": "error",
     "traceback": [
      "\u001b[0;31m---------------------------------------------------------------------------\u001b[0m",
      "\u001b[0;31mValueError\u001b[0m                                Traceback (most recent call last)",
      "Cell \u001b[0;32mIn[100], line 7\u001b[0m\n\u001b[1;32m      5\u001b[0m \u001b[38;5;28;01mfor\u001b[39;00m i \u001b[38;5;129;01min\u001b[39;00m \u001b[38;5;28mrange\u001b[39m(views_to_read\u001b[38;5;241m.\u001b[39mshape[\u001b[38;5;241m1\u001b[39m]):\n\u001b[1;32m      6\u001b[0m     \u001b[38;5;28;01mfor\u001b[39;00m j \u001b[38;5;129;01min\u001b[39;00m \u001b[38;5;28mrange\u001b[39m(views_to_read\u001b[38;5;241m.\u001b[39mshape[\u001b[38;5;241m2\u001b[39m]):\n\u001b[0;32m----> 7\u001b[0m         views_to_write[:, i, j] \u001b[38;5;241m+\u001b[39m\u001b[38;5;241m=\u001b[39m \u001b[43mde_dT\u001b[49m\u001b[43m[\u001b[49m\u001b[38;5;241;43m0\u001b[39;49m\u001b[43m,\u001b[49m\u001b[43m \u001b[49m\u001b[43m:\u001b[49m\u001b[43m,\u001b[49m\u001b[43m \u001b[49m\u001b[43mi\u001b[49m\u001b[43m,\u001b[49m\u001b[43m \u001b[49m\u001b[43mj\u001b[49m\u001b[43m]\u001b[49m\u001b[43m \u001b[49m\u001b[38;5;241;43m*\u001b[39;49m\u001b[43m \u001b[49m\u001b[43mweights\u001b[49m\u001b[43m[\u001b[49m\u001b[43m:\u001b[49m\u001b[43m]\u001b[49m\n\u001b[1;32m      9\u001b[0m de_dX\n",
      "\u001b[0;31mValueError\u001b[0m: operands could not be broadcast together with shapes (4,) (4,2,3,3) "
     ]
    }
   ],
   "source": [
    "de_dX = np.zeros(test_a.shape)\n",
    "views_to_write = get_views(de_dX, weights.shape[2:], (1, 1))\n",
    "views_to_read = get_views(test_a, weights.shape[2:], (1, 1))\n",
    "\n",
    "for i in range(views_to_read.shape[1]):\n",
    "    for j in range(views_to_read.shape[2]):\n",
    "        views_to_write[:, i, j] += de_dT[0, :, i, j] * weights[:]\n",
    "\n",
    "de_dX"
   ]
  },
  {
   "cell_type": "code",
   "execution_count": 309,
   "metadata": {},
   "outputs": [],
   "source": [
    "w0 = weights[0]"
   ]
  },
  {
   "cell_type": "code",
   "execution_count": 359,
   "metadata": {},
   "outputs": [],
   "source": [
    "import jax.numpy as jnp"
   ]
  },
  {
   "cell_type": "code",
   "execution_count": 369,
   "metadata": {},
   "outputs": [
    {
     "name": "stdout",
     "output_type": "stream",
     "text": [
      "(2, 5, 5, 3, 3)\n",
      "0.25749635696411133\n"
     ]
    }
   ],
   "source": [
    "views = get_views(add_padding(w0, (2, 2)), (3, 3), (1, 1))\n",
    "print(views.shape)\n",
    "import time\n",
    "# out = np.zeros((2, 5, 5))\n",
    "\n",
    "# for c in range(len(de_dT[0])):\n",
    "#     for i in range(views.shape[1]):\n",
    "#         for j in range(views.shape[2]):\n",
    "#             out[c, ...] += views[:, i, j] * de_dT[0, c, i, j]\n",
    "# out\n",
    "t0 = time.time()\n",
    "for i in range(1000):\n",
    "    jnp.einsum('cijkl, okl->cij', views, de_dT[0])\n",
    "print(time.time() - t0)\n",
    "# print(np.einsum_path('cijkl, okl->cij', views, de_dT[0], optimize='greedly')[1])\n",
    "# print(views.shape, de_dT[0].shape)\n",
    "# out, out.shape"
   ]
  },
  {
   "cell_type": "code",
   "execution_count": null,
   "metadata": {},
   "outputs": [
    {
     "data": {
      "text/plain": [
       "(2, 3, 3, 3, 3)"
      ]
     },
     "execution_count": 58,
     "metadata": {},
     "output_type": "execute_result"
    }
   ],
   "source": [
    "views.shape"
   ]
  },
  {
   "cell_type": "code",
   "execution_count": null,
   "metadata": {},
   "outputs": [
    {
     "name": "stdout",
     "output_type": "stream",
     "text": [
      "448\n",
      "436\n",
      "527\n",
      "427\n"
     ]
    },
    {
     "data": {
      "text/plain": [
       "array([[190, 165, 133],\n",
       "       [231, 151, 286],\n",
       "       [221, 186, 275]])"
      ]
     },
     "execution_count": 46,
     "metadata": {},
     "output_type": "execute_result"
    }
   ],
   "source": [
    "for c in range(len(de_dT[0])):\n",
    "    print(np.sum(de_dT[0, c]))\n",
    "\n",
    "np.sum(de_dT[0], axis=0)"
   ]
  },
  {
   "cell_type": "code",
   "execution_count": null,
   "metadata": {},
   "outputs": [
    {
     "name": "stdout",
     "output_type": "stream",
     "text": [
      "(2, 3, 3, 3, 3) (4, 3, 3)\n"
     ]
    },
    {
     "data": {
      "text/plain": [
       "(array([[[[639.000, 411.000, 234.000],\n",
       "          [635.000, 495.000, 400.000],\n",
       "          [871.000, 874.000, 608.000]],\n",
       " \n",
       "         [[676.000, 787.000, 686.000],\n",
       "          [466.000, 432.000, 679.000],\n",
       "          [305.000, 417.000, 622.000]]],\n",
       " \n",
       " \n",
       "        [[[535.000, 380.000, 296.000],\n",
       "          [741.000, 411.000, 320.000],\n",
       "          [869.000, 732.000, 466.000]],\n",
       " \n",
       "         [[601.000, 762.000, 799.000],\n",
       "          [359.000, 412.000, 809.000],\n",
       "          [332.000, 362.000, 615.000]]],\n",
       " \n",
       " \n",
       "        [[[514.000, 378.000, 413.000],\n",
       "          [823.000, 756.000, 587.000],\n",
       "          [1157.000, 1211.000, 701.000]],\n",
       " \n",
       "         [[694.000, 793.000, 748.000],\n",
       "          [353.000, 376.000, 770.000],\n",
       "          [378.000, 536.000, 799.000]]],\n",
       " \n",
       " \n",
       "        [[[535.000, 462.000, 435.000],\n",
       "          [892.000, 373.000, 375.000],\n",
       "          [576.000, 674.000, 592.000]],\n",
       " \n",
       "         [[449.000, 728.000, 1049.000],\n",
       "          [240.000, 609.000, 864.000],\n",
       "          [360.000, 425.000, 343.000]]]]),\n",
       " (4, 2, 3, 3))"
      ]
     },
     "execution_count": 22,
     "metadata": {},
     "output_type": "execute_result"
    }
   ],
   "source": [
    "views = get_views(test_a, (3, 3), (1, 1))\n",
    "\n",
    "out = np.zeros((4, 2, 3, 3))\n",
    "\n",
    "for c in range(len(de_dT[0])):\n",
    "    for i in range(views.shape[1]):\n",
    "        for j in range(views.shape[2]):\n",
    "            out[c, ...] += views[:, i, j] * de_dT[0, c, i, j]\n",
    "out\n",
    "assert (np.einsum('cijkl, oij->ockl', views, de_dT[0]) == out).all()\n",
    "print(views.shape, de_dT[0].shape)\n",
    "out, out.shape"
   ]
  },
  {
   "cell_type": "code",
   "execution_count": null,
   "metadata": {},
   "outputs": [
    {
     "data": {
      "text/plain": [
       "array([[[[ 639,  411,  234],\n",
       "         [ 635,  495,  400],\n",
       "         [ 871,  874,  608]],\n",
       "\n",
       "        [[ 676,  787,  686],\n",
       "         [ 466,  432,  679],\n",
       "         [ 305,  417,  622]]],\n",
       "\n",
       "\n",
       "       [[[ 535,  380,  296],\n",
       "         [ 741,  411,  320],\n",
       "         [ 869,  732,  466]],\n",
       "\n",
       "        [[ 601,  762,  799],\n",
       "         [ 359,  412,  809],\n",
       "         [ 332,  362,  615]]],\n",
       "\n",
       "\n",
       "       [[[ 514,  378,  413],\n",
       "         [ 823,  756,  587],\n",
       "         [1157, 1211,  701]],\n",
       "\n",
       "        [[ 694,  793,  748],\n",
       "         [ 353,  376,  770],\n",
       "         [ 378,  536,  799]]],\n",
       "\n",
       "\n",
       "       [[[ 535,  462,  435],\n",
       "         [ 892,  373,  375],\n",
       "         [ 576,  674,  592]],\n",
       "\n",
       "        [[ 449,  728, 1049],\n",
       "         [ 240,  609,  864],\n",
       "         [ 360,  425,  343]]]])"
      ]
     },
     "execution_count": 24,
     "metadata": {},
     "output_type": "execute_result"
    }
   ],
   "source": [
    "np.einsum('cijkl, oij->ockl', views, de_dT[0])"
   ]
  },
  {
   "cell_type": "code",
   "execution_count": null,
   "metadata": {},
   "outputs": [],
   "source": [
    "# def add_padding(x: Nums, padding: Tuple[int, int]) -> Nums:\n",
    "#     # accepts 3d array\n",
    "#     return np.pad(x, ((0, 0), (padding[1], padding[1]), (padding[0], padding[0])))\n",
    "\n",
    "# def conv2d(x: Nums, filters: Nums, strides: Tuple[int, int]=(1, 1), padding: Tuple[int, int]=(0, 0)) -> Nums:\n",
    "#     \"\"\"2д свёртка\n",
    "\n",
    "#     Args:\n",
    "#         x (Nums): Входной массив, 3d\n",
    "#         filters (Nums): Ядра свёртки, 3d\n",
    "#         strides (Tuple[int, int], optional): Шаги свёртки по x и y. Defaults to (1, 1).\n",
    "#         padding (Tuple[int, int], optional): Отступы по x и y. Defaults to (1, 1).\n",
    "\n",
    "#     Returns:\n",
    "#         Nums: Результат свёртки\n",
    "#     \"\"\"\n",
    "#     assert x.shape[0] == filters.shape[0], f\"num channels must be the same, {x.shape[0]} != {filters.shape[0]}\"\n",
    "#     if padding != (0, 0):\n",
    "#         x = add_padding(x, padding)\n",
    "    \n",
    "#     # x - кол-во каналов, x, y\n",
    "#     # filters - кол-во каналов, x, y\n",
    "    \n",
    "#     output_shape = (np.subtract(x.shape[-2:], filters.shape[-2:]) + strides) / strides\n",
    "#     output_shape = tuple(np.floor(output_shape, casting='unsafe', dtype=int))\n",
    "    \n",
    "#     # (num_channels) x (output_shape) x (filter size)\n",
    "#     views_shape = (x.shape[0],) + output_shape + filters.shape[-2:]\n",
    "    \n",
    "#     print(views_shape)\n",
    "#     # 2 x 3 x 3\n",
    "    \n",
    "#     channel_strides, row_strides, col_strides = x.strides\n",
    "#     print((channel_strides, row_strides * strides[0], col_strides * strides[1], row_strides, col_strides))\n",
    "    \n",
    "#     views = np.lib.stride_tricks.as_strided(\n",
    "#         x, shape=views_shape, strides=(channel_strides, row_strides * strides[0], col_strides * strides[1], row_strides, col_strides)\n",
    "#         )\n",
    "#     # print(views, views.shape)\n",
    "#     return np.einsum('cijkl, ckl -> ij', views, filters)"
   ]
  },
  {
   "cell_type": "code",
   "execution_count": null,
   "metadata": {},
   "outputs": [
    {
     "data": {
      "text/plain": [
       "(2, 5, 5)"
      ]
     },
     "execution_count": 26,
     "metadata": {},
     "output_type": "execute_result"
    }
   ],
   "source": [
    "# Допустим есть 2 канала 5 на 5\n",
    "test_a.shape"
   ]
  },
  {
   "cell_type": "code",
   "execution_count": null,
   "metadata": {},
   "outputs": [
    {
     "data": {
      "text/plain": [
       "(2, 2, 3, 3)"
      ]
     },
     "execution_count": 137,
     "metadata": {},
     "output_type": "execute_result"
    }
   ],
   "source": [
    "# Допустим есть 2 фильтра (2x3x3)\n",
    "weights.shape"
   ]
  },
  {
   "cell_type": "code",
   "execution_count": null,
   "metadata": {},
   "outputs": [
    {
     "name": "stdout",
     "output_type": "stream",
     "text": [
      "(2, np.int64(3), np.int64(3), 3, 3)\n",
      "(200, 40, 8, 40, 8)\n",
      "(2, np.int64(3), np.int64(3), 3, 3)\n",
      "(200, 40, 8, 40, 8)\n",
      "(2, np.int64(3), np.int64(3), 3, 3)\n",
      "(200, 40, 8, 40, 8)\n"
     ]
    },
    {
     "ename": "IndexError",
     "evalue": "index 2 is out of bounds for axis 0 with size 2",
     "output_type": "error",
     "traceback": [
      "\u001b[0;31m---------------------------------------------------------------------------\u001b[0m",
      "\u001b[0;31mIndexError\u001b[0m                                Traceback (most recent call last)",
      "Cell \u001b[0;32mIn[27], line 4\u001b[0m\n\u001b[1;32m      1\u001b[0m output \u001b[38;5;241m=\u001b[39m np\u001b[38;5;241m.\u001b[39mzeros((\u001b[38;5;241m2\u001b[39m, \u001b[38;5;241m3\u001b[39m, \u001b[38;5;241m3\u001b[39m))\n\u001b[1;32m      3\u001b[0m \u001b[38;5;28;01mfor\u001b[39;00m i \u001b[38;5;129;01min\u001b[39;00m \u001b[38;5;28mrange\u001b[39m(\u001b[38;5;28mlen\u001b[39m(weights)):\n\u001b[0;32m----> 4\u001b[0m     \u001b[43moutput\u001b[49m\u001b[43m[\u001b[49m\u001b[43mi\u001b[49m\u001b[43m]\u001b[49m \u001b[38;5;241m=\u001b[39m conv2d(test_a, weights[i], strides\u001b[38;5;241m=\u001b[39m(\u001b[38;5;241m1\u001b[39m, \u001b[38;5;241m1\u001b[39m), padding\u001b[38;5;241m=\u001b[39m(\u001b[38;5;241m0\u001b[39m, \u001b[38;5;241m0\u001b[39m))\n",
      "\u001b[0;31mIndexError\u001b[0m: index 2 is out of bounds for axis 0 with size 2"
     ]
    }
   ],
   "source": [
    "output = np.zeros((2, 3, 3))\n",
    "\n",
    "for i in range(len(weights)):\n",
    "    output[i] = conv2d(test_a, weights[i], strides=(1, 1), padding=(0, 0))"
   ]
  },
  {
   "cell_type": "code",
   "execution_count": null,
   "metadata": {},
   "outputs": [
    {
     "data": {
      "text/plain": [
       "array([[[17.000, 14.000, 14.000],\n",
       "        [12.000, 14.000, 16.000],\n",
       "        [10.000, 22.000, 21.000]],\n",
       "\n",
       "       [[21.000, 22.000, 10.000],\n",
       "        [16.000, 14.000, 12.000],\n",
       "        [14.000, 14.000, 17.000]]])"
      ]
     },
     "execution_count": 28,
     "metadata": {},
     "output_type": "execute_result"
    }
   ],
   "source": [
    "output"
   ]
  },
  {
   "cell_type": "code",
   "execution_count": 480,
   "metadata": {},
   "outputs": [],
   "source": [
    "# %%pyinstrument\n",
    "for i in range(100):\n",
    "    network.forward(test_x[i].reshape((1, 28, 28)))[0]"
   ]
  }
 ],
 "metadata": {
  "kernelspec": {
   "display_name": "all_ai",
   "language": "python",
   "name": "python3"
  },
  "language_info": {
   "codemirror_mode": {
    "name": "ipython",
    "version": 3
   },
   "file_extension": ".py",
   "mimetype": "text/x-python",
   "name": "python",
   "nbconvert_exporter": "python",
   "pygments_lexer": "ipython3",
   "version": "3.12.7"
  }
 },
 "nbformat": 4,
 "nbformat_minor": 2
}
